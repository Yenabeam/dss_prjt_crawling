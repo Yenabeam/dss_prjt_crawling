{
 "cells": [
  {
   "cell_type": "code",
   "execution_count": null,
   "metadata": {},
   "outputs": [],
   "source": []
  },
  {
   "cell_type": "code",
   "execution_count": 9,
   "metadata": {},
   "outputs": [
    {
     "output_type": "execute_result",
     "data": {
      "text/plain": [
       "  user  price               email\n",
       "0  전예나  22222  ynjo8531@gmail.com\n",
       "1  전예나   5000  ynjo8531@gmail.com"
      ],
      "text/html": "<div>\n<style scoped>\n    .dataframe tbody tr th:only-of-type {\n        vertical-align: middle;\n    }\n\n    .dataframe tbody tr th {\n        vertical-align: top;\n    }\n\n    .dataframe thead th {\n        text-align: right;\n    }\n</style>\n<table border=\"1\" class=\"dataframe\">\n  <thead>\n    <tr style=\"text-align: right;\">\n      <th></th>\n      <th>user</th>\n      <th>price</th>\n      <th>email</th>\n    </tr>\n  </thead>\n  <tbody>\n    <tr>\n      <th>0</th>\n      <td>전예나</td>\n      <td>22222</td>\n      <td>ynjo8531@gmail.com</td>\n    </tr>\n    <tr>\n      <th>1</th>\n      <td>전예나</td>\n      <td>5000</td>\n      <td>ynjo8531@gmail.com</td>\n    </tr>\n  </tbody>\n</table>\n</div>"
     },
     "metadata": {},
     "execution_count": 9
    }
   ],
   "source": [
    "#메일 신청 리스트 가져오기 \n",
    "import pymysql\n",
    "import pandas as pd \n",
    "\n",
    "def load_mail():\n",
    "    conn = pymysql.connect(host = '00000000', user = 'rdt', password = 'qq' ,db = 'UserInfo')\n",
    "    curs = conn.cursor()\n",
    "\n",
    "    sql = \"SELECT * FROM UserInfo\"\n",
    "    curs.execute(sql)\n",
    "    rows = curs.fetchall()\n",
    "    conn.close()\n",
    "\n",
    "    list = []\n",
    "    for i in rows:\n",
    "        dic = {\n",
    "            'user' : i[0],\n",
    "            'price' : i[1],\n",
    "            'email' : i[2]\n",
    "        }\n",
    "        list.append(dic)\n",
    "        df = pd.DataFrame(list)\n",
    "        df.to_csv('subscribe.csv')\n",
    "    return df \n",
    "\n",
    "load_mail()"
   ]
  },
  {
   "cell_type": "code",
   "execution_count": null,
   "metadata": {},
   "outputs": [],
   "source": []
  },
  {
   "cell_type": "code",
   "execution_count": null,
   "metadata": {},
   "outputs": [],
   "source": [
    "from email.mime.text import MIMEText\n",
    "from email.mime.multipart import MIMEMultipart\n",
    "import smtplib\n",
    "\n",
    "my_email= \"ynjo8531@gmail.com\"\n",
    "#smtp 접속을 위한 서버, 계정 \n",
    "smtp_server = \"smtp.gmail.com\"\n",
    "smtp_port= 465 \n",
    "smtp_user = my_email\n",
    "smtp_pw = input(\"enter {} mail password: \".format(my_email))"
   ]
  },
  {
   "cell_type": "code",
   "execution_count": null,
   "metadata": {},
   "outputs": [],
   "source": []
  },
  {
   "cell_type": "code",
   "execution_count": 10,
   "metadata": {},
   "outputs": [
    {
     "output_type": "error",
     "ename": "UnicodeDecodeError",
     "evalue": "'cp949' codec can't decode byte 0xec in position 21: illegal multibyte sequence",
     "traceback": [
      "\u001b[1;31m---------------------------------------------------------------------------\u001b[0m",
      "\u001b[1;31mUnicodeDecodeError\u001b[0m                        Traceback (most recent call last)",
      "\u001b[1;32m<ipython-input-10-c3da0d2be526>\u001b[0m in \u001b[0;36m<module>\u001b[1;34m\u001b[0m\n\u001b[0;32m      3\u001b[0m \u001b[1;33m\u001b[0m\u001b[0m\n\u001b[0;32m      4\u001b[0m \u001b[0mfile\u001b[0m \u001b[1;33m=\u001b[0m \u001b[0mopen\u001b[0m\u001b[1;33m(\u001b[0m\u001b[1;34m\"subscribe.csv\"\u001b[0m\u001b[1;33m,\u001b[0m\u001b[1;34m\"r\"\u001b[0m\u001b[1;33m)\u001b[0m\u001b[1;33m\u001b[0m\u001b[1;33m\u001b[0m\u001b[0m\n\u001b[1;32m----> 5\u001b[1;33m \u001b[0musers\u001b[0m \u001b[1;33m=\u001b[0m \u001b[0mfile\u001b[0m\u001b[1;33m.\u001b[0m\u001b[0mreadlines\u001b[0m\u001b[1;33m(\u001b[0m\u001b[1;33m)\u001b[0m\u001b[1;33m\u001b[0m\u001b[1;33m\u001b[0m\u001b[0m\n\u001b[0m\u001b[0;32m      6\u001b[0m \u001b[1;32mfor\u001b[0m \u001b[0muser\u001b[0m \u001b[1;32min\u001b[0m \u001b[0musers\u001b[0m\u001b[1;33m:\u001b[0m\u001b[1;33m\u001b[0m\u001b[1;33m\u001b[0m\u001b[0m\n\u001b[0;32m      7\u001b[0m     \u001b[0mtitle\u001b[0m \u001b[1;33m=\u001b[0m \u001b[1;34m\"{}에게 발송되는 테스트 메일입니다.\"\u001b[0m\u001b[1;33m.\u001b[0m\u001b[0mformat\u001b[0m\u001b[1;33m(\u001b[0m\u001b[0muser\u001b[0m\u001b[1;33m)\u001b[0m\u001b[1;33m\u001b[0m\u001b[1;33m\u001b[0m\u001b[0m\n",
      "\u001b[1;31mUnicodeDecodeError\u001b[0m: 'cp949' codec can't decode byte 0xec in position 21: illegal multibyte sequence"
     ]
    }
   ],
   "source": [
    "# read sample file to make user list \n",
    "contents = \"테스트입니다\"\n",
    "\n",
    "file = open(\"subscribe.csv\",\"r\")\n",
    "users = file.readlines()\n",
    "for user in users: \n",
    "    title = \"{}에게 발송되는 테스트 메일입니다.\".format(user)\n",
    "    send_mail(my_email,user,title,contents)\n",
    "    print(\"Done!\")"
   ]
  },
  {
   "cell_type": "code",
   "execution_count": null,
   "metadata": {},
   "outputs": [],
   "source": [
    "# read sample file to make user list \n",
    "contents = \"테스트입니다\"\n",
    "\n",
    "file = open(\"subscribe.csv\",\"r\")\n"
   ]
  },
  {
   "cell_type": "code",
   "execution_count": null,
   "metadata": {},
   "outputs": [],
   "source": []
  }
 ],
 "metadata": {
  "kernelspec": {
   "display_name": "Python 3",
   "language": "python",
   "name": "python3"
  },
  "language_info": {
   "codemirror_mode": {
    "name": "ipython",
    "version": 3
   },
   "file_extension": ".py",
   "mimetype": "text/x-python",
   "name": "python",
   "nbconvert_exporter": "python",
   "pygments_lexer": "ipython3",
   "version": "3.8.3-final"
  }
 },
 "nbformat": 4,
 "nbformat_minor": 4
}