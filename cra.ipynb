{
 "cells": [
  {
   "cell_type": "code",
   "execution_count": 23,
   "metadata": {},
   "outputs": [],
   "source": [
    "import re\n",
    "from bs4 import BeautifulSoup\n",
    "import requests\n",
    "import scrapy\n",
    "from scrapy.http import TextResponse\n",
    "from selenium import webdriver\n",
    "from fake_useragent import UserAgent"
   ]
  },
  {
   "cell_type": "code",
   "execution_count": 46,
   "metadata": {},
   "outputs": [],
   "source": [
    "#url = \"https://www.hellomarket.com/\"\n",
    "#headers = {\"User-Agent\": 'Mozilla/5.0 (Windows NT 6.1) AppleWebKit/537.36 (KHTML, like Gecko) Chrome/28.0.1468.0 Safari/537.36' }\n",
    "#req = requests.get(url, headers=headers)\n",
    "#response = TextResponse(req.url, body=req.text, encoding=\"utf-8\")\n",
    "#response"
   ]
  },
  {
   "cell_type": "code",
   "execution_count": 27,
   "metadata": {},
   "outputs": [],
   "source": [
    "dom = BeautifulSoup(response.text, \"html.parser\")"
   ]
  },
  {
   "cell_type": "code",
   "execution_count": 47,
   "metadata": {},
   "outputs": [],
   "source": [
    "#response.text"
   ]
  },
  {
   "cell_type": "code",
   "execution_count": 29,
   "metadata": {},
   "outputs": [
    {
     "data": {
      "text/plain": [
       "34"
      ]
     },
     "execution_count": 29,
     "metadata": {},
     "output_type": "execute_result"
    }
   ],
   "source": [
    "elements = dom.select(\".category\")\n",
    "len(elements)"
   ]
  },
  {
   "cell_type": "code",
   "execution_count": 30,
   "metadata": {},
   "outputs": [],
   "source": [
    "element = elements[1]"
   ]
  },
  {
   "cell_type": "code",
   "execution_count": 31,
   "metadata": {},
   "outputs": [
    {
     "data": {
      "text/plain": [
       "<li class=\"category\"><a class=\"cat_link\" href=\"/search?category=HBA0000\"><img alt=\"핸드메이드\" class=\"category_img\" src=\"https://ccimage.hellomarket.com/web/2018/common/category/cate_hba0000.png\"/><span class=\"category_text\">핸드메이드</span></a></li>"
      ]
     },
     "execution_count": 31,
     "metadata": {},
     "output_type": "execute_result"
    }
   ],
   "source": [
    "element"
   ]
  },
  {
   "cell_type": "code",
   "execution_count": 32,
   "metadata": {},
   "outputs": [
    {
     "data": {
      "text/plain": [
       "('핸드메이드', 'search?category=HBA0000')"
      ]
     },
     "execution_count": 32,
     "metadata": {},
     "output_type": "execute_result"
    }
   ],
   "source": [
    "key = element.select_one(\".category_text\").text\n",
    "value = element.select_one(\".cat_link\").get(\"href\").split(\"/\")[-1]\n",
    "key, value"
   ]
  },
  {
   "cell_type": "code",
   "execution_count": 33,
   "metadata": {},
   "outputs": [],
   "source": [
    "categories = {}\n",
    "for element in elements:\n",
    "    key = element.select_one(\".category_text\").text\n",
    "    value = element.select_one(\".cat_link\").get(\"href\").split(\"/\")[-1]\n",
    "    categories[key] = value"
   ]
  },
  {
   "cell_type": "code",
   "execution_count": 34,
   "metadata": {},
   "outputs": [
    {
     "data": {
      "text/plain": [
       "{'자동차': 'search?category=HFA0000',\n",
       " '핸드메이드': 'search?category=HBA0000',\n",
       " '휴대폰, 태블릿': 'search?category=HAK0000',\n",
       " '가구': 'search?category=HAF0000',\n",
       " '문구': 'search?category=HAW0000',\n",
       " '자동차용품': 'search?category=HAR0000',\n",
       " '유아동,완구': 'search?category=HAE0000',\n",
       " '컴퓨터,주변기기': 'search?category=HAI0000',\n",
       " '생활': 'search?category=HAG0000',\n",
       " '스타굿즈': 'search?category=HAX0000',\n",
       " '반려동물용품': 'search?category=HEB0000',\n",
       " '바이크': 'search?category=HFB0000',\n",
       " '뷰티': 'search?category=HAD0000',\n",
       " '카메라': 'search?category=HAJ0000',\n",
       " '골동품,희귀품': 'search?category=HAT0000',\n",
       " 'RC카, 드론': 'search?category=HFD0000',\n",
       " '포장식품': 'search?category=HAU0000',\n",
       " '바이크용품': 'search?category=HFC0000',\n",
       " '여성의류': 'search?category=HAA0000',\n",
       " '디지털,가전': 'search?category=HAH0000',\n",
       " '여행,숙박': 'search?category=HGA0000',\n",
       " '피규어,키덜트': 'search?category=HAV0000',\n",
       " '부동산': 'search?category=HCA0000',\n",
       " '스포츠,레저': 'search?category=HAO0000',\n",
       " '남성의류': 'search?category=HAB0000',\n",
       " 'CD,DVD': 'search?category=HAL0000',\n",
       " '티켓': 'search?category=HAQ0000',\n",
       " '예술,미술': 'search?category=HAS0000',\n",
       " '기타': 'search?category=HZZ0000',\n",
       " '게임': 'search?category=HAN0000',\n",
       " '신발,가방,잡화': 'search?category=HAC0000',\n",
       " '음향기기,악기': 'search?category=HAM0000',\n",
       " '도서': 'search?category=HAP0000',\n",
       " '재능,서비스': 'search?category=HDA0000'}"
      ]
     },
     "execution_count": 34,
     "metadata": {},
     "output_type": "execute_result"
    }
   ],
   "source": [
    "categories"
   ]
  },
  {
   "cell_type": "code",
   "execution_count": 60,
   "metadata": {},
   "outputs": [
    {
     "name": "stdout",
     "output_type": "stream",
     "text": [
      "https://www.hellomarket.com/search?category=HAD0000\n"
     ]
    }
   ],
   "source": [
    "# 카테고리 변경\n",
    "category = categories[\"뷰티\"]\n",
    "url = \"https://www.hellomarket.com/{}\".format(category)\n",
    "print(url)"
   ]
  },
  {
   "cell_type": "code",
   "execution_count": 64,
   "metadata": {},
   "outputs": [
    {
     "data": {
      "text/plain": [
       "<200 https://www.hellomarket.com/search?category=HAD0000>"
      ]
     },
     "execution_count": 64,
     "metadata": {},
     "output_type": "execute_result"
    }
   ],
   "source": [
    "headers = {\"User-Agent\": 'Mozilla/5.0 (Windows NT 6.1) AppleWebKit/537.36 (KHTML, like Gecko) Chrome/28.0.1468.0 Safari/537.36'}\n",
    "req = requests.get(url, headers=headers )\n",
    "response = TextResponse(req.url, body=req.text, encoding=\"utf-8\")\n",
    "response"
   ]
  },
  {
   "cell_type": "code",
   "execution_count": 50,
   "metadata": {
    "collapsed": true
   },
   "outputs": [
    {
     "data": {
      "text/plain": [
       "'<!DOCTYPE html><html lang=\"ko\"><head><script async=\"\" src=\"https://pagead2.googlesyndication.com/pagead/js/adsbygoogle.js\"></script><script async=\"\" src=\"https://www.googletagmanager.com/gtag/js?id=UA-27819513-1\"></script><script>\\n        window.dataLayer = window.dataLayer || [];\\n        function gtag(){dataLayer.push(arguments);}\\n        gtag(\\'js\\', new Date());\\n        gtag(\\'config\\', \\'UA-27819513-1\\');\\n      </script><script></script><script>\\n      !function(t,e){if(void 0===e[t]){e[t]=function(){e[t].clients.push(this),this._init=[Array.prototype.slice.call(arguments)]},e[t].clients=[];for(var r=function(t){return function(){return this[\"_\"+t]=this[\"_\"+t]||[],this[\"_\"+t].push(Array.prototype.slice.call(arguments)),this}},s=[\"addRecord\",\"set\",\"trackEvent\",\"trackPageview\",\"trackClicks\",\"ready\"],a=0;a<s.length;a++){var c=s[a];e[t].prototype[c]=r(c)}var n=document.createElement(\"script\");n.type=\"text/javascript\",n.async=!0,n.src=(\"https:\"===document.location.protocol?\"https:\":\"http:\")+\"//cdn.treasuredata.com/sdk/1.6.0/td.min.js\";var i=document.getElementsByTagName(\"script\")[0];i.parentNode.insertBefore(n,i)}}(\"Treasure\",this);\\n      var td = new Treasure({\\n        host: \\'in.treasuredata.com\\',\\n        writeKey: \\'6860/56956ee143c56fe029da3a35054efb6ae8ecf29b\\',\\n        database: \\'hellomarket\\'\\n      });</script><meta charSet=\"utf-8\"/><title> | 헬로마켓 - 100% 비대면 안전 결제 중고거래 마켓</title><meta name=\"description\" content=\"에 대한 검색결과입니다.\"/><meta name=\"keywords\" content=\"중고차,국산차,수입차,할부,리스,스마트직거래,해외판매,수출,자동차\"/><meta property=\"og:title\" content=\" | 헬로마켓 - 100% 비대면 안전 결제 중고거래 마켓\"/><meta property=\"og:description\" content=\"에 대한 검색결과입니다.\"/><meta property=\"og:url\" content=\"https://www.hellomarket.com/search?category=HAD0000\"/><meta property=\"og:image\" content=\"https://ccimage.hellomarket.com/web/common/img_share_20181018.jpg\"/><meta property=\"og:type\" content=\"website\"/><meta property=\"og:locale\" content=\"ko_KR\"/><meta property=\"og:site_name\" content=\"헬로마켓\"/><meta name=\"robots\" content=\"index,follow\"/><meta name=\"copyright\" content=\"Copyright (c) 2011 Hellomarket Inc.\"/><meta name=\"twitter:title\" content=\" | 헬로마켓 - 100% 비대면 안전 결제 중고거래 마켓\"/><meta name=\"twitter:description\" content=\"에 대한 검색결과입니다.\"/><meta name=\"twitter:image\" content=\"https://ccimage.hellomarket.com/web/common/img_share_20181018.jpg\"/><meta name=\"twitter:card\" content=\"summary\"/><meta name=\"twitter:site\" content=\"@hellomarket\"/><meta name=\"twitter:creator\" content=\"hellomarket\"/><meta http-equiv=\"cache-control\" content=\"no-cache, must-revalidate, post-check=0, pre-check=0\"/><meta http-equiv=\"expires\" content=\"0\"/><meta http-equiv=\"X-UA-Compatible\" content=\"IE=edge\"/><meta http-equiv=\"pragma\" content=\"no-cache\"/><meta property=\"fb:pages\" content=\"126845860730781\"/><meta property=\"business:contact_data:street_address\" content=\"마포구 와우산로25길 7 (서교동, 서문빌딩) 5층\"/><meta property=\"business:contact_data:locality\" content=\"서울특별시\"/><meta property=\"business:contact_data:postal_code\" content=\"040054\"/><meta property=\"business:contact_data:country_name\" content=\"대한민국\"/><meta property=\"business:contact_data:email\" content=\"help@hellomarket.com\"/><meta property=\"place:location:latitude\" content=\"37.5536844\"/><meta property=\"place:location:longitude\" content=\"126.9257458\"/><meta property=\"al:android:url\" content=\"hellomarket://hellomarket.api\"/><meta property=\"al:android:package\" content=\"com.tuck.hellomarket\"/><meta property=\"al:android:app_name\" content=\"헬로마켓 - 직거래 없는 100% 비대면 안전결제 중고마켓\"/><meta property=\"al:ios:url\" content=\"hellomarket://hellomarket.api\"/><meta property=\"al:ios:app_store_id\" content=\"469381475\"/><meta property=\"al:ios:app_name\" content=\"헬로마켓\"/><meta name=\"mobile-web-app-capable\" content=\"yes\"/><meta name=\"apple-mobile-web-app-capable\" content=\"yes\"/><meta name=\"google-site-verification\" content=\"ggHDFNKLE20RhE6DgQt1WCka106UdjE4YQP7Y8gGbBo\"/><meta name=\"naver-site-verification\" content=\"84fcff496e9c388f1deb5329cd55eb3234729c34\"/><meta name=\"theme-color\" content=\"#037EB4\"/><meta name=\"msapplication-TileImage\" content=\"/icon/ms-icon-144x144.png\"/><link rel=\"manifest\" href=\"/manifest.json\"/><link rel=\"icon\" type=\"image/x-icon\" href=\"/icon/favicon.ico\"/><link rel=\"apple-touch-icon\" sizes=\"57x57\" href=\"/icon/apple-icon-57x57.png\"/><link rel=\"apple-touch-icon\" sizes=\"60x60\" href=\"/icon/apple-icon-60x60.png\"/><link rel=\"apple-touch-icon\" sizes=\"72x72\" href=\"/icon/apple-icon-72x72.png\"/><link rel=\"apple-touch-icon\" sizes=\"76x76\" href=\"/icon/apple-icon-76x76.png\"/><link rel=\"apple-touch-icon\" sizes=\"114x114\" href=\"/icon/apple-icon-114x114.png\"/><link rel=\"apple-touch-icon\" sizes=\"120x120\" href=\"/icon/apple-icon-120x120.png\"/><link rel=\"apple-touch-icon\" sizes=\"144x144\" href=\"/icon/apple-icon-144x144.png\"/><link rel=\"apple-touch-icon\" sizes=\"152x152\" href=\"/icon/apple-icon-152x152.png\"/><link rel=\"apple-touch-icon\" sizes=\"180x180\" href=\"/icon/apple-icon-180x180.png\"/><link rel=\"icon\" type=\"image/png\" sizes=\"192x192\" href=\"/icon/android-icon-192x192.png\"/><meta name=\"viewport\" content=\"initial-scale=1.0,user-scalable=no,maximum-scale=1,width=device-width\"/><meta property=\"fb:app_id\" content=\"306163192727427\"/><link rel=\"stylesheet\" href=\"https://ccmedia.hellomarket.com/plugins/sweetalert/sweetalert.css\"/><link rel=\"stylesheet\" href=\"https://ccmedia.hellomarket.com/plugins/swiper/swiper4.2.2.min.css\"/><style>\\n          @media all and (max-width: 800px) {\\n            img {\\n              width: 100%;\\n            }\\n          }\\n        </style><meta name=\"next-head-count\" content=\"60\"/><link rel=\"preload\" href=\"/_next/static/461/pages/search.js\" as=\"script\"/><link rel=\"preload\" href=\"/_next/static/461/pages/_app.js\" as=\"script\"/><link rel=\"preload\" href=\"/_next/static/runtime/webpack-4b444dab214c6491079c.js\" as=\"script\"/><link rel=\"preload\" href=\"/_next/static/chunks/commons.1c07672118bfe28453a7.js\" as=\"script\"/><link rel=\"preload\" href=\"/_next/static/runtime/main-a8db53c8c2b80db8fd92.js\" as=\"script\"/><link rel=\"preload\" href=\"/_next/static/chunks/styles.5fd72f1a3479bf20c04d.js\" as=\"script\"/><link rel=\"stylesheet\" href=\"/_next/static/chunks/styles.2b272e97.chunk.css\"/><style id=\"__jsx-2573731215\">#nprogress{pointer-events:none;}#nprogress .bar{background:#2299DD;position:fixed;z-index:1031;top:0;left:0;width:100%;height:2px;}#nprogress .peg{display:block;position:absolute;right:0px;width:100px;height:100%;box-shadow:0 0 10px #2299DD,0 0 5px #2299DD;opacity:1;-webkit-transform:rotate(3deg) translate(0px,-4px);-ms-transform:rotate(3deg) translate(0px,-4px);-webkit-transform:rotate(3deg) translate(0px,-4px);-ms-transform:rotate(3deg) translate(0px,-4px);transform:rotate(3deg) translate(0px,-4px);}#nprogress .spinner{display:none;position:fixed;z-index:1031;top:15px;right:15px;}#nprogress .spinner-icon{width:18px;height:18px;box-sizing:border-box;border:solid 2px transparent;border-top-color:#2299DD;border-left-color:#2299DD;border-radius:50%;-webkit-animation:nprogresss-spinner 400ms linear infinite;-webkit-animation:nprogress-spinner 400ms linear infinite;animation:nprogress-spinner 400ms linear infinite;}.nprogress-custom-parent{overflow:hidden;position:relative;}.nprogress-custom-parent #nprogress .spinner,.nprogress-custom-parent #nprogress .bar{position:absolute;}@-webkit-keyframes nprogress-spinner{0%{-webkit-transform:rotate(0deg);}100%{-webkit-transform:rotate(360deg);}}@-webkit-keyframes nprogress-spinner{0%{-webkit-transform:rotate(0deg);-ms-transform:rotate(0deg);transform:rotate(0deg);}100%{-webkit-transform:rotate(360deg);-ms-transform:rotate(360deg);transform:rotate(360deg);}}@keyframes nprogress-spinner{0%{-webkit-transform:rotate(0deg);-ms-transform:rotate(0deg);transform:rotate(0deg);}100%{-webkit-transform:rotate(360deg);-ms-transform:rotate(360deg);transform:rotate(360deg);}}</style><style id=\"__jsx-1471488780\">#nprogress{pointer-events:none;}#nprogress .bar{background:#2299DD;position:fixed;z-index:1031;top:0;left:0;width:100%;height:2px;}#nprogress .peg{display:block;position:absolute;right:0px;width:100px;height:100%;box-shadow:0 0 10px #2299DD,0 0 5px #2299DD;opacity:1;-webkit-transform:rotate(3deg) translate(0px,-4px);-ms-transform:rotate(3deg) translate(0px,-4px);-webkit-transform:rotate(3deg) translate(0px,-4px);-ms-transform:rotate(3deg) translate(0px,-4px);transform:rotate(3deg) translate(0px,-4px);}#nprogress .spinner{display:block;position:fixed;z-index:1031;top:15px;right:15px;}#nprogress .spinner-icon{width:18px;height:18px;box-sizing:border-box;border:solid 2px transparent;border-top-color:#2299DD;border-left-color:#2299DD;border-radius:50%;-webkit-animation:nprogresss-spinner 400ms linear infinite;-webkit-animation:nprogress-spinner 400ms linear infinite;animation:nprogress-spinner 400ms linear infinite;}.nprogress-custom-parent{overflow:hidden;position:relative;}.nprogress-custom-parent #nprogress .spinner,.nprogress-custom-parent #nprogress .bar{position:absolute;}@-webkit-keyframes nprogress-spinner{0%{-webkit-transform:rotate(0deg);}100%{-webkit-transform:rotate(360deg);}}@-webkit-keyframes nprogress-spinner{0%{-webkit-transform:rotate(0deg);-ms-transform:rotate(0deg);transform:rotate(0deg);}100%{-webkit-transform:rotate(360deg);-ms-transform:rotate(360deg);transform:rotate(360deg);}}@keyframes nprogress-spinner{0%{-webkit-transform:rotate(0deg);-ms-transform:rotate(0deg);transform:rotate(0deg);}100%{-webkit-transform:rotate(360deg);-ms-transform:rotate(360deg);transform:rotate(360deg);}}</style></head><body><script src=\"https://ccmedia.hellomarket.com/plugins/sweetalert/sweetalert.min.js\"></script><div id=\"__next\"><div class=\"mobile_banner\"><div class=\"mobile_banner_wrapper\"><img alt=\"앱으로하기 로고\" src=\"https://ccimage.hellomarket.com/web/2019/menu/img_mobile_top_banner_190516_01.png\" class=\"header_down_left\"/><img alt=\"앱으로하기\" src=\"https://ccimage.hellomarket.com/web/2019/menu/img_mobile_top_banner_190516_02.png\" class=\"header_down_right\"/></div></div><header class=\"\"><div class=\"bar hide\"></div><section class=\"header_top\"><div class=\"header_logo header_logo_s\"><div class=\"log_box\"><a href=\"/\"><img src=\"https://ccimage.hellomarket.com/web/2019/header/img_gnb_logo_x2.png\" class=\"logo\" alt=\"헬로마켓\"/><img src=\"https://ccimage.hellomarket.com/web/2020/common/img_title_logo_01.png\" class=\"mobile_logo\" alt=\"헬로마켓\"/></a></div><div class=\"btn_box\"><a class=\"btn_login_box\"><button class=\"login_btn\">로그인</button></a><a class=\"btn_signup_box\"><button class=\"signup_btn\">회원가입</button></a><a href=\"/msearch\"><div class=\"notification_box\"></div></a></div><div class=\"header_search\" id=\"tebas\"><div class=\"com_search_box\"><div><div><input type=\"text\" class=\"com_search\" style=\"border-bottom:1px solid #9ea4aa\" placeholder=\"어떤 상품을 찾고 계세요?\" value=\"\"/><div class=\"search_icon_box search_engine_icon\"><div class=\"search_icon\"><div class=\"search_circle\" style=\"border-color:#9ea4aa\"></div><div class=\"search_rectangle\" style=\"border-color:#9ea4aa;background-color:#9ea4aa\"></div></div></div></div></div></div></div></div></section><section class=\"header_cat\"><div class=\"header_wrapper\"><div><div class=\"btn_box header_wrapper_sub\"><input type=\"checkbox\" class=\"cat_checkbox chkbox1\"/><i class=\"arrow\"></i><span for=\"cat_checkbox\" class=\"selectbox\">카테고리</span><div class=\"header_category\"><div class=\"cat_list_box left_slidein\"><div class=\"mobile_login_wrapper\"><div class=\"btn_close_wrapper\"><input type=\"checkbox\" class=\"close_checkbox chkbox1\" id=\"btnClose\" name=\"btnClose\"/><button type=\"button\" class=\"btn_close\" for=\"btnClose\">닫기</button></div><a href=\"https://account.hellomarket.com/login?continue_url=https://www.hellomarket.com/search?category=HAD0000\"><div class=\"member_info\"><div class=\"profile_wrapper\"><img alt=\"프로필사진\" id=\"loginProfileImg\" class=\"profile_img\" src=\"https://ccimage.hellomarket.com/web/2017/common/img_default_profile_60x60.png\"/></div><div class=\"member_info_txt\">로그인하세요</div></div></a></div><div class=\"mobile_nav\"><div class=\"cat_avt\"><ul class=\"cat_avt_top\"><li><a href=\"/search?sort=current\">최신순 &gt;</a></li><li><a>가까운순 &gt;</a></li></ul></div><nav><ul class=\"cat_list mobile_cat_list_none\"><li class=\"cat_space\"></li><li class=\"cat_space\"></li><li class=\"cat_space\"></li><li class=\"cat_space\"></li><li class=\"cat_space\"></li><li class=\"cat_space\"></li><li class=\"category\"><a class=\"cat_link\" href=\"/search?category=HFA0000\"><img src=\"https://ccimage.hellomarket.com/web/2018/common/category/cate_hfa0000.png\" alt=\"자동차\" class=\"category_img\"/><span class=\"category_text\">자동차</span></a></li><li class=\"category\"><a class=\"cat_link\" href=\"/search?category=HBA0000\"><img src=\"https://ccimage.hellomarket.com/web/2018/common/category/cate_hba0000.png\" alt=\"핸드메이드\" class=\"category_img\"/><span class=\"category_text\">핸드메이드</span></a></li><li class=\"category\"><a class=\"cat_link\" href=\"/search?category=HAK0000\"><img src=\"https://ccimage.hellomarket.com/web/2018/common/category/cate_hak0000.png\" alt=\"휴대폰, 태블릿\" class=\"category_img\"/><span class=\"category_text\">휴대폰, 태블릿</span></a></li><li class=\"category\"><a class=\"cat_link\" href=\"/search?category=HAF0000\"><img src=\"https://ccimage.hellomarket.com/web/2018/common/category/cate_haf0000.png\" alt=\"가구\" class=\"category_img\"/><span class=\"category_text\">가구</span></a></li><li class=\"category\"><a class=\"cat_link\" href=\"/search?category=HAW0000\"><img src=\"https://ccimage.hellomarket.com/web/2018/common/category/cate_haw0000.png\" alt=\"문구\" class=\"category_img\"/><span class=\"category_text\">문구</span></a></li><li class=\"category\"><a class=\"cat_link\" href=\"/search?category=HAR0000\"><img src=\"https://ccimage.hellomarket.com/web/2018/common/category/cate_har0000.png\" alt=\"자동차용품\" class=\"category_img\"/><span class=\"category_text\">자동차용품</span></a></li><li class=\"category\"><a class=\"cat_link\" href=\"/search?category=HAE0000\"><img src=\"https://ccimage.hellomarket.com/web/2018/common/category/cate_hae0000.png\" alt=\"유아동,완구\" class=\"category_img\"/><span class=\"category_text\">유아동,완구</span></a></li><li class=\"category\"><a class=\"cat_link\" href=\"/search?category=HAI0000\"><img src=\"https://ccimage.hellomarket.com/web/2018/common/category/cate_hai0000.png\" alt=\"컴퓨터,주변기기\" class=\"category_img\"/><span class=\"category_text\">컴퓨터,주변기기</span></a></li><li class=\"category\"><a class=\"cat_link\" href=\"/search?category=HAG0000\"><img src=\"https://ccimage.hellomarket.com/web/2018/common/category/cate_hag0000.png\" alt=\"생활\" class=\"category_img\"/><span class=\"category_text\">생활</span></a></li><li class=\"category\"><a class=\"cat_link\" href=\"/search?category=HAX0000\"><img src=\"https://ccimage.hellomarket.com/web/2018/common/category/cate_hax0000.png\" alt=\"스타굿즈\" class=\"category_img\"/><span class=\"category_text\">스타굿즈</span></a></li><li class=\"category\"><a class=\"cat_link\" href=\"/search?category=HEB0000\"><img src=\"https://ccimage.hellomarket.com/web/2018/common/category/cate_pet_goods.png\" alt=\"반려동물용품\" class=\"category_img\"/><span class=\"category_text\">반려동물용품</span></a></li><li class=\"category\"><a class=\"cat_link\" href=\"/search?category=HFB0000\"><img src=\"https://ccimage.hellomarket.com/web/2018/common/category/cate_hfb0000.png\" alt=\"바이크\" class=\"category_img\"/><span class=\"category_text\">바이크</span></a></li><li class=\"category\"><a class=\"cat_link\" href=\"/search?category=HAD0000\"><img src=\"https://ccimage.hellomarket.com/web/2018/common/category/cate_had0000.png\" alt=\"뷰티\" class=\"category_img\"/><span class=\"category_text\">뷰티</span></a></li><li class=\"category\"><a class=\"cat_link\" href=\"/search?category=HAJ0000\"><img src=\"https://ccimage.hellomarket.com/web/2018/common/category/cate_haj0000.png\" alt=\"카메라\" class=\"category_img\"/><span class=\"category_text\">카메라</span></a></li><li class=\"category\"><a class=\"cat_link\" href=\"/search?category=HAT0000\"><img src=\"https://ccimage.hellomarket.com/web/2018/common/category/cate_hat0000.png\" alt=\"골동품,희귀품\" class=\"category_img\"/><span class=\"category_text\">골동품,희귀품</span></a></li><li class=\"category\"><a class=\"cat_link\" href=\"/search?category=HFD0000\"><img src=\"https://ccimage.hellomarket.com/web/2019/common/cate_hfd0000.png\" alt=\"RC카, 드론\" class=\"category_img\"/><span class=\"category_text\">RC카, 드론</span></a></li><li class=\"category\"><a class=\"cat_link\" href=\"/search?category=HAU0000\"><img src=\"https://ccimage.hellomarket.com/web/2018/common/category/cate_hau0000.png\" alt=\"포장식품\" class=\"category_img\"/><span class=\"category_text\">포장식품</span></a></li><li class=\"category\"><a class=\"cat_link\" href=\"/search?category=HFC0000\"><img src=\"https://ccimage.hellomarket.com/web/2018/common/category/cate_motorcycle_goods.png\" alt=\"바이크용품\" class=\"category_img\"/><span class=\"category_text\">바이크용품</span></a></li><li class=\"category\"><a class=\"cat_link\" href=\"/search?category=HAA0000\"><img src=\"https://ccimage.hellomarket.com/web/2018/common/category/cate_haa0000.png\" alt=\"여성의류\" class=\"category_img\"/><span class=\"category_text\">여성의류</span></a></li><li class=\"category\"><a class=\"cat_link\" href=\"/search?category=HAH0000\"><img src=\"https://ccimage.hellomarket.com/web/2018/common/category/cate_hah0000.png\" alt=\"디지털,가전\" class=\"category_img\"/><span class=\"category_text\">디지털,가전</span></a></li><li class=\"category\"><a class=\"cat_link\" href=\"/search?category=HGA0000\"><img src=\"https://ccimage.hellomarket.com/web/2018/common/category/cate_hga0000.png\" alt=\"여행,숙박\" class=\"category_img\"/><span class=\"category_text\">여행,숙박</span></a></li><li class=\"category\"><a class=\"cat_link\" href=\"/search?category=HAV0000\"><img src=\"https://ccimage.hellomarket.com/web/2018/common/category/cate_hav0000.png\" alt=\"피규어,키덜트\" class=\"category_img\"/><span class=\"category_text\">피규어,키덜트</span></a></li><li class=\"category\"><a class=\"cat_link\" href=\"/search?category=HCA0000\"><img src=\"https://ccimage.hellomarket.com/web/2018/common/category/cate_hca0000.png\" alt=\"부동산\" class=\"category_img\"/><span class=\"category_text\">부동산</span></a></li><li class=\"category\"><a class=\"cat_link\" href=\"/search?category=HAO0000\"><img src=\"https://ccimage.hellomarket.com/web/2018/common/category/cate_hao0000.png\" alt=\"스포츠,레저\" class=\"category_img\"/><span class=\"category_text\">스포츠,레저</span></a></li><li class=\"category\"><a class=\"cat_link\" href=\"/search?category=HAB0000\"><img src=\"https://ccimage.hellomarket.com/web/2018/common/category/cate_hab0000.png\" alt=\"남성의류\" class=\"category_img\"/><span class=\"category_text\">남성의류</span></a></li><li class=\"category\"><a class=\"cat_link\" href=\"/search?category=HAL0000\"><img src=\"https://ccimage.hellomarket.com/web/2018/common/category/cate_hal0000.png\" alt=\"CD,DVD\" class=\"category_img\"/><span class=\"category_text\">CD,DVD</span></a></li><li class=\"category\"><a class=\"cat_link\" href=\"/search?category=HAQ0000\"><img src=\"https://ccimage.hellomarket.com/web/2018/common/category/cate_haq0000.png\" alt=\"티켓\" class=\"category_img\"/><span class=\"category_text\">티켓</span></a></li><li class=\"category\"><a class=\"cat_link\" href=\"/search?category=HAS0000\"><img src=\"https://ccimage.hellomarket.com/web/2018/common/category/cate_has0000.png\" alt=\"예술,미술\" class=\"category_img\"/><span class=\"category_text\">예술,미술</span></a></li><li class=\"category\"><a class=\"cat_link\" href=\"/search?category=HZZ0000\"><img src=\"https://ccimage.hellomarket.com/web/2018/common/category/cate_hzz0000.png\" alt=\"기타\" class=\"category_img\"/><span class=\"category_text\">기타</span></a></li><li class=\"category\"><a class=\"cat_link\" href=\"/search?category=HAN0000\"><img src=\"https://ccimage.hellomarket.com/web/2018/common/category/cate_han0000.png\" alt=\"게임\" class=\"category_img\"/><span class=\"category_text\">게임</span></a></li><li class=\"category\"><a class=\"cat_link\" href=\"/search?category=HAC0000\"><img src=\"https://ccimage.hellomarket.com/web/2018/common/category/cate_hac0000.png\" alt=\"신발,가방,잡화\" class=\"category_img\"/><span class=\"category_text\">신발,가방,잡화</span></a></li><li class=\"category\"><a class=\"cat_link\" href=\"/search?category=HAM0000\"><img src=\"https://ccimage.hellomarket.com/web/2018/common/category/cate_ham0000.png\" alt=\"음향기기,악기\" class=\"category_img\"/><span class=\"category_text\">음향기기,악기</span></a></li><li class=\"category\"><a class=\"cat_link\" href=\"/search?category=HAP0000\"><img src=\"https://ccimage.hellomarket.com/web/2018/common/category/cate_hap0000.png\" alt=\"도서\" class=\"category_img\"/><span class=\"category_text\">도서</span></a></li><li class=\"category\"><a class=\"cat_link\" href=\"/search?category=HDA0000\"><img src=\"https://ccimage.hellomarket.com/web/2018/common/category/cate_hda0000.png\" alt=\"재능,서비스\" class=\"category_img\"/><span class=\"category_text\">재능,서비스</span></a></li><li class=\"category_blank\"></li><li class=\"category_blank\"></li><li class=\"category_blank\"></li><li class=\"category_blank\"></li><li class=\"category_blank\"></li><li class=\"category_blank\"></li><li class=\"category_blank\"></li></ul></nav><ul class=\"mobile mobile_sub_category\"><li><a href=\"/community/list.hm?category=DAC0002\">이벤트</a><i class=\"arrow right_arrow\"></i></li><li><a href=\"/community/list.hm?category=DAC0004\">헬마뉴스</a><i class=\"arrow right_arrow\"></i></li><li><a href=\"/help/faq.hm\">헬프센터</a><i class=\"arrow right_arrow\"></i></li><li><a href=\"https://ad.hellomarket.com\" target=\"_blank\" rel=\"noopener noreferrer\">광고센터</a><i class=\"arrow right_arrow\"></i></li></ul><ul class=\"logout_wrapper\"></ul></div></div> </div></div></div><div class=\"sellimg_sub_box header_wrapper_sub\"><div class=\"selling_bot\"><img src=\"https://ccimage.hellomarket.com/web/2019/header/ico_sell_camera_x2.png\" alt=\"판매하기 이미지\" class=\"selling_bot_img\"/><span class=\"selling_bot_text\">판매하기</span></div></div><div class=\"link_box header_wrapper_sub\"><ul><li><a href=\"/search?category=HFA0000&amp;tabType=list\">자동차</a></li><li><a href=\"/community/list.hm?category=DAC0002&amp;status=begin\">이벤트</a></li><li><a href=\"/help/faq.hm\">헬프센터</a></li><li><a href=\"https://ad.hellomarket.com\" target=\"_blank\" rel=\"noopener noreferrer\"><img src=\"https://ccimage.hellomarket.com/web/2019/header/ico_category_AD_x2.png\" alt=\"광고센터 아이콘이미지\"/>광고센터</a></li></ul></div></div></section></header><section class=\"content\"><h1>헬로마켓 - 100% 비대면 안전 결제 중고거래 마켓</h1><h2>검색 리스트</h2><div class=\"item_list_min\"><div class=\"item_list_area\"><div class=\"breadcrumbs\"><ul><li><a>HOME</a></li></ul></div><div class=\"main_area\"><div class=\"main_area_center\"><div class=\"main\"><div class=\"left\"><div class=\"category_filter\"><div class=\"category_title\"><div class=\"category_title_txt\">전체</div></div><div class=\"category_sub\"><span><ul class=\"category_sub_list\"><li class=\"\"><a href=\"/search?category=HAD0001&amp;page=1\">여성화장품</a></li><li class=\"\"><a href=\"/search?category=HAD0002&amp;page=1\">메이크업</a></li><li class=\"\"><a href=\"/search?category=HAD0004&amp;page=1\">남성화장품</a></li><li class=\"\"><a href=\"/search?category=HAD0003&amp;page=1\">향수,헤어,바디</a></li><li class=\"\"><a href=\"/search?category=HAD0007&amp;page=1\">기타 뷰티</a></li></ul></span></div></div><div class=\"search_filter\"><div class=\"title\">상품상태</div><div class=\"middle\"><ul><a href=\"/search?category=HAD0000&amp;page=1\"><li><label class=\"feature_option feature_option_checkbox\">전체<div class=\"feature_option_checkbox_indicator checked\"></div></label></li></a><a href=\"/search?category=HAD0000&amp;page=1&amp;usedType=NotUsed\"><li><label class=\"feature_option feature_option_checkbox\">새상품<div class=\"feature_option_checkbox_indicator\"></div></label></li></a><a href=\"/search?category=HAD0000&amp;page=1&amp;usedType=AsNew\"><li><label class=\"feature_option feature_option_checkbox\">거의새것<div class=\"feature_option_checkbox_indicator\"></div></label></li></a><a href=\"/search?category=HAD0000&amp;page=1&amp;usedType=Secondhand\"><li><label class=\"feature_option feature_option_checkbox\">중고<div class=\"feature_option_checkbox_indicator\"></div></label></li></a></ul></div><div class=\"item_left_bottom\"></div></div><div class=\"search_filter no_padding\"><div class=\"title\">판매방법</div><ul></ul><div class=\"item_left_bottom\"></div></div><div class=\"search_filter_inner\"><ul><a href=\"/search?category=HAD0000&amp;hasDeliveryFee=true\"><li><label class=\"feature_option feature_option_checkbox\">무료배송<div class=\"feature_option_checkbox_indicator\"></div></label></li></a></ul></div></div><section class=\"left_main\"><div class=\"banner_bg\"><div class=\"banner_items_promotion\"><a href=\"https://l.hellomarket.com/?t=browser&amp;u=http%3A%2F%2Fm.site.naver.com%2F0GSVQ\" target=\"_blank\" rel=\"noopener noreferrer\"><img src=\"https://ccimage.hellomarket.com/web/2018/main/img_default_itemlist_x4_loading.png\" data-src=\"https://ccimg.hellomarket.com/images/2020/ad/11/02/17/44_174557327.jpg\" class=\"main_item_img\" alt=\"광고 배너 이미지\"/></a></div></div><div class=\"tab_area biz_area item_tab_area\"><div class=\"tab_type_box\"><div class=\"tab_type biz_type mobile_type\"><ul><a href=\"/search?category=HAD0000&amp;tabType=list&amp;page=1\"><li class=\"list\"></li></a><a href=\"/search?category=HAD0000&amp;tabType=thumbnail&amp;page=1\"><li class=\"thumbnail active\"></li></a><li class=\"mobile_filter_icon\"></li></ul></div></div><div class=\"tab_type biz_type pc_type\"><ul class=\"search_tab_type\"><a href=\"/search?category=HAD0000&amp;tabType=list&amp;page=1\"><li class=\"list\"></li></a><a href=\"/search?category=HAD0000&amp;tabType=thumbnail&amp;page=1\"><li class=\"thumbnail active\"></li></a></ul></div><div class=\"sort_filter biz_sort\"><label for=\"sortTitle\">최신순</label><select><option value=\"\">최신순</option><option value=\"lowprice\">저가순</option><option value=\"highprice\">고가순</option><option value=\"near\">가까운순</option></select></div></div><div class=\"list_area\"><div class=\"tab_content\"><div class=\"item_loading_position page_loading_position\"><div class=\"new_loading\"><div class=\"new_loading-dot\"></div><div class=\"new_loading-dot\"></div><div class=\"new_loading-dot\"></div><div class=\"new_loading-dot\"></div></div></div></div></div></section></div></div></div></div></div></section><div class=\"footer\"><div class=\"footer_area\"><div class=\"footer_top\"><div class=\"f_wrapper\"><ul class=\"f_left\"><li><span>Hellomarket Inc.</span></li><li><a class=\"link_info\" href=\"/help/faq.hm\">FAQ</a><span class=\"list_space\"></span></li><li><a class=\"link_info\" href=\"/terms.hm\">이용약관</a><span class=\"list_space\"></span></li><li><a class=\"link_info\" href=\"/protection.hm\">개인정보 처리방침</a></li></ul><ul class=\"f_right\"><li><a href=\"https://itunes.apple.com/kr/app/id469381475?mt=8&amp;ls=1\" target=\"_blank\" rel=\"noopener noreferrer\"><img src=\"https://ccimage.hellomarket.com/web/2017/common/img_footer_appstore.png\" alt=\"appstore\" class=\"appstore_n_btn\"/></a></li><li><a href=\"https://play.google.com/store/apps/details?id=com.tuck.hellomarket\" target=\"_blank\" rel=\"noopener noreferrer\"><img src=\"https://ccimage.hellomarket.com/web/2017/common/img_footer_googleplay.png\" alt=\"googleplay\" class=\"googleplay_n_btn\"/></a></li><li><a href=\"https://blog.naver.com/tuckandco\" target=\"_blank\" rel=\"noopener noreferrer\"><img src=\"https://ccimage.hellomarket.com/web/2019/footer/img_naver_gray_blog.png\" alt=\"naverblog\" class=\"naver_blog_n_btn\"/></a></li></ul></div></div><div class=\"footer_bottom\"><div class=\"f_wrapper\"><div class=\"footer_wrapper_left\"><div class=\"fb_logobox\"><img src=\"https://ccimage.hellomarket.com/web/2017/common/footer/img_footer_logo_171127.png\" alt=\"hellomarket\"/></div><ul class=\"footer_company_info\"><li><span>(주)헬로마켓 대표이사 : 이후국 |</span><span>서울특별시 마포구 와우산로 25길 7 서문빌딩 502호</span></li><li><span>사업자등록번호 : 105-87-56305</span><span>통신판매업신고번호 : 제2011-서울마포-1010호<!-- --> <a href=\"http://www.ftc.go.kr/bizCommPop.do?wrkr_no=1058756305\" class=\"link_info\" target=\"_blank\" style=\"text-decoration:underline\" rel=\"noopener noreferrer\">사업자정보확인</a></span></li><li><span>헬로페이 문의 : <a href=\"tel:02-324-4090\">02-324-4090</a></span><span>(평일 10시~16시) | 팩스 : 02-3141-4090</span></li><li><span>일반문의 :\\xa0<a href=\"https://www.hellomarket.com/help/inquiry/form.hm\" target=\"_blank\" style=\"text-decoration:underline\" rel=\"noopener noreferrer\">헬프센터 - 문의</a>\\xa0|\\xa0<a href=\"https://www.hellomarket.com/help/inquiry/form.hm?categoryId=IGA0200\" target=\"_blank\" style=\"text-decoration:underline\" rel=\"noopener noreferrer\">제휴문의</a>\\xa0|\\xa0<a href=\"help@hellomarket.com\" target=\"_blank\" style=\"text-decoration:underline\" rel=\"noopener noreferrer\">help@hellomarket.com</a></span></li><br/><li>호스팅서비스 제공자: 호스트웨이아이디씨㈜ ㆍ 한국호스트웨이㈜</li><li>(주)헬로마켓은 통신판매중개자로서 거래당사자가 아니며, 판매자가 등록한 상품정보 및 거래에 대해 (주)헬로마켓은 일체 책임을 지지 않습니다.</li><li><span>©(주)헬로마켓. All rights reserved.</span></li></ul></div><div class=\"footer_wrapper_right\"><ul class=\"box\"><li style=\"font-weight:bold\">기업은행 구매 안전 서비스 (채무지급보증)</li><li>안전거래를 위해 현금 등으로 결제 시,</li><li>저희 사이트에서 가입한 기업은행의</li><li>구매안전서비스를 이용하실 수 있습니다.</li><li><img src=\"https://ccimage.hellomarket.com/web/2017/common/footer/btn_footer_service_n.png\" alt=\"services\" class=\"footer_service_btn\"/></li></ul></div></div></div></div></div></div><script id=\"__NEXT_DATA__\" type=\"application/json\">{\"dataManager\":\"[]\",\"props\":{\"isServer\":true,\"initialState\":{\"auth\":{\"token\":null,\"user\":null,\"tokenError\":false,\"authStatus\":false,\"hellomarketLoginStatus\":false,\"hellomarketSignupStatus\":false,\"hellomarketSocialStatus\":false,\"hellomarketPasswordStatus\":false,\"pushStatus\":false,\"error\":null,\"chatCount\":0,\"alramCount\":0,\"url\":null},\"auto\":{\"autoMembershipOrder\":null,\"autoMembershipPointCash\":null},\"core\":{\"homeFeedsList\":[],\"homeFeedsPage\":1,\"homeFeedBanner\":[]},\"deal\":{\"order\":null,\"pointCash\":null,\"orderAddress\":null},\"item\":{\"loading\":false,\"profileLoading\":false,\"itemLoading\":false},\"tracking\":{\"impressionItems\":[],\"clickItems\":[],\"impressionAds\":[],\"clickAds\":[]},\"external\":{\"partnerKey\":false},\"itemList\":{\"data\":null,\"list\":null,\"limit\":30,\"page\":1,\"moreStatus\":true,\"loading\":false,\"error\":null},\"regist\":{\"itemType\":\"general\",\"title\":\"\",\"keywordCategorys\":[],\"content\":\"\",\"categoryId\":\"\",\"subCategoryId\":\"\",\"categorys\":[],\"subCategorys\":[],\"tagArrays\":[],\"tagArraysValue\":\"\",\"helperTags\":[],\"usedStatus\":\"01\",\"sellStatus\":\"01\",\"price\":\"\",\"isDirectDeal\":\"hellopay\",\"place\":\"\",\"addressName\":\"\",\"latitude\":0,\"longitude\":0,\"deliveryPayer\":\"\",\"deliveryMethod\":\"\",\"deliveryDivision\":\"\",\"deliveryCvs\":\"Cu\",\"deliveryFee\":\"\",\"brand\":null,\"model\":null,\"fuel\":null,\"vehicle\":null,\"scale\":null,\"valid_title\":true,\"valid_category\":true,\"valid_content\":true,\"valid_price\":true,\"valid_deliveryPayer\":true,\"valid_deliveryFee\":true,\"valid_brand\":true,\"valid_fuel\":true,\"valid_vehicle\":true,\"valid_scale\":true},\"images\":{\"imageArrays\":[null,null,null,null,null,null,null,null,null,null,null,null],\"imageCount\":0,\"video_exist\":false,\"valid_image\":true},\"modal\":{},\"certification\":{\"certified\":true}},\"initialProps\":{\"pageProps\":{\"itemList\":{\"status\":200,\"message\":\"success\",\"result\":{\"startTime\":1606225278013,\"page\":1,\"limit\":30,\"totalCount\":25808,\"address1\":null,\"address2\":null,\"memberIdx\":0,\"category\":\"HAD0000\",\"sellMethod\":null,\"usedType\":null,\"hasDeliveryFee\":null,\"escrowSeller\":null,\"escrowOnly\":null,\"minPrice\":0,\"maxPrice\":1000000000,\"type\":null,\"sort\":\"current\",\"latitude\":0,\"longitude\":0,\"radius\":0,\"abandonmentSex\":null,\"requireSideways\":true,\"correctTotalCount\":0,\"correctQuery\":null,\"q\":null,\"doTyping\":false,\"doCorrect\":false},\"data\":{\"advances\":[],\"hasKeyword\":false,\"hasBiz\":true},\"sideways\":{\"categories\":[{\"name\":\"뷰티\",\"count\":25808,\"list\":[{\"categoryId\":\"HAD0007\",\"name\":\"기타 뷰티\",\"count\":6778},{\"categoryId\":\"HAD0001\",\"name\":\"여성화장품\",\"count\":8116},{\"categoryId\":\"HAD0002\",\"name\":\"메이크업\",\"count\":5396},{\"categoryId\":\"HAD0003\",\"name\":\"향수,헤어,바디\",\"count\":5069},{\"categoryId\":\"HAD0004\",\"name\":\"남성화장품\",\"count\":449}],\"categoryId\":\"HAD0000\"}]},\"count\":30,\"list\":[{\"type\":\"item\",\"item\":{\"itemIdx\":168888655,\"type\":\"norm\",\"categoryId\":\"HAD0002\",\"title\":\"색조 일괄판매\",\"activity\":{\"isWish\":false},\"media\":{\"imageUrl\":\"http://ccimg.hellomarket.com/images/2020/item/11/24/22/4103874_4896322_1.jpg?size=s4\",\"videoUrl\":\"\"},\"property\":{\"price\":{\"amount\":100000,\"text\":\"100,000원\"},\"sellState\":{\"code\":\"ForSale\",\"name\":\"판매중\"},\"usedType\":{\"code\":\"AsNew\",\"name\":\"거의새것\"},\"isDirectDeal\":false,\"hasDeliveryFee\":false},\"count\":{\"comment\":0,\"wish\":0},\"escrow\":{\"isEscrow\":false},\"linkUrl\":\"hellomarket://hellomarket.api/item/168888655\",\"timeago\":\"14초전\"}},{\"type\":\"ad\",\"ad\":{\"type\":\"corporate\",\"name\":\"법인광고\",\"list\":[{\"adGroupIdx\":2487,\"adGroupBannerIdx\":2535,\"meta\":{\"banners\":[{\"type\":\"card\",\"linkUrl\":\"https://l.hellomarket.com/?t=browser\\\\u0026u=https%3A%2F%2Fwww.kurly.com%2Fshop%2Fevent%2FkurlyEvent.php%3Fhtmid%3Devent%2Fjoin%2Fjoin_201118%26utm_source%3D3141%26utm_medium%3D2011%26utm_campaign%3D61516%26utm_content%3Dnon_categorysearchlist_PC\\\\u0026cpn=34\\\\u0026img=3318\\\\u0026grp=2487\\\\u0026spr=5124\\\\u0026ban=2535\",\"imageUrl\":\"http://ccimg.hellomarket.com/images/2020/ad/11/23/17/44_173250780.jpg\"},{\"type\":\"full\",\"linkUrl\":\"https://l.hellomarket.com/?t=browser\\\\u0026u=https%3A%2F%2Fwww.kurly.com%2Fshop%2Fevent%2FkurlyEvent.php%3Fhtmid%3Devent%2Fjoin%2Fjoin_201118%26utm_source%3D3141%26utm_medium%3D2011%26utm_campaign%3D61516%26utm_content%3Dnon_categorysearchlist_PC\\\\u0026cpn=34\\\\u0026img=3319\\\\u0026grp=2487\\\\u0026spr=5124\\\\u0026ban=2535\",\"imageUrl\":\"http://ccimg.hellomarket.com/images/2020/ad/11/23/17/44_173253508.jpg\"}]}}]}},{\"type\":\"item\",\"item\":{\"itemIdx\":168789202,\"type\":\"norm\",\"categoryId\":\"HAD0003\",\"title\":\"시드물 헤어미스트 3개\",\"activity\":{\"isWish\":false},\"media\":{\"imageUrl\":\"http://ccimg.hellomarket.com/images/2020/item/11/15/22/1018879_5136239_1.jpg?size=s4\",\"videoUrl\":\"\"},\"property\":{\"price\":{\"amount\":10000,\"text\":\"10,000원\"},\"sellState\":{\"code\":\"ForSale\",\"name\":\"판매중\"},\"usedType\":{\"code\":\"NotUsed\",\"name\":\"새상품\"},\"isDirectDeal\":false,\"hasDeliveryFee\":true},\"count\":{\"comment\":0,\"wish\":1},\"escrow\":{\"isEscrow\":false},\"linkUrl\":\"hellomarket://hellomarket.api/item/168789202\",\"timeago\":\"22초전\"}},{\"type\":\"item\",\"item\":{\"itemIdx\":168783867,\"type\":\"norm\",\"categoryId\":\"HAD0001\",\"title\":\"(미개봉) 에뛰드 수분가득 콜라겐 크림 175ml\",\"activity\":{\"isWish\":false},\"media\":{\"imageUrl\":\"http://ccimg.hellomarket.com/images/2020/item/11/15/12/0801610_5136239_1.jpg?size=s4\",\"videoUrl\":\"\"},\"property\":{\"price\":{\"amount\":20000,\"text\":\"20,000원\"},\"sellState\":{\"code\":\"ForSale\",\"name\":\"판매중\"},\"usedType\":{\"code\":\"NotUsed\",\"name\":\"새상품\"},\"isDirectDeal\":false,\"hasDeliveryFee\":true},\"count\":{\"comment\":0,\"wish\":0},\"escrow\":{\"isEscrow\":false},\"linkUrl\":\"hellomarket://hellomarket.api/item/168783867\",\"timeago\":\"27초전\"}},{\"type\":\"item\",\"item\":{\"itemIdx\":168877759,\"type\":\"norm\",\"categoryId\":\"HAD0003\",\"title\":\"거의새것)바비리스 고데기\",\"activity\":{\"isWish\":false},\"media\":{\"imageUrl\":\"http://ccimg.hellomarket.com/images/2020/item/11/23/23/1402113_265807_1.jpg?size=s4\",\"videoUrl\":\"\"},\"property\":{\"price\":{\"amount\":23000,\"text\":\"23,000원\"},\"sellState\":{\"code\":\"ForSale\",\"name\":\"판매중\"},\"usedType\":{\"code\":\"AsNew\",\"name\":\"거의새것\"},\"isDirectDeal\":false,\"hasDeliveryFee\":false},\"count\":{\"comment\":0,\"wish\":0},\"escrow\":{\"isEscrow\":false},\"linkUrl\":\"hellomarket://hellomarket.api/item/168877759\",\"timeago\":\"1분전\"}},{\"type\":\"item\",\"item\":{\"itemIdx\":168877799,\"type\":\"norm\",\"categoryId\":\"HAD0001\",\"title\":\"배드스킨 우유 폭탄 클렌징폼\",\"activity\":{\"isWish\":false},\"media\":{\"imageUrl\":\"http://ccimg.hellomarket.com/images/2020/item/11/23/23/1923681_265807_1.jpg?size=s4\",\"videoUrl\":\"\"},\"property\":{\"price\":{\"amount\":8000,\"text\":\"8,000원\"},\"sellState\":{\"code\":\"ForSale\",\"name\":\"판매중\"},\"usedType\":{\"code\":\"NotUsed\",\"name\":\"새상품\"},\"isDirectDeal\":false,\"hasDeliveryFee\":false},\"count\":{\"comment\":0,\"wish\":0},\"escrow\":{\"isEscrow\":false},\"linkUrl\":\"hellomarket://hellomarket.api/item/168877799\",\"timeago\":\"2분전\"}},{\"type\":\"item\",\"item\":{\"itemIdx\":168877838,\"type\":\"norm\",\"categoryId\":\"HAD0003\",\"title\":\"미쟝센 염색약\",\"activity\":{\"isWish\":false},\"media\":{\"imageUrl\":\"http://ccimg.hellomarket.com/images/2020/item/11/23/23/2302541_265807_1.jpg?size=s4\",\"videoUrl\":\"\"},\"property\":{\"price\":{\"amount\":5000,\"text\":\"5,000원\"},\"sellState\":{\"code\":\"ForSale\",\"name\":\"판매중\"},\"usedType\":{\"code\":\"Secondhand\",\"name\":\"중고\"},\"isDirectDeal\":false,\"hasDeliveryFee\":false},\"count\":{\"comment\":0,\"wish\":0},\"escrow\":{\"isEscrow\":false},\"linkUrl\":\"hellomarket://hellomarket.api/item/168877838\",\"timeago\":\"2분전\"}},{\"type\":\"item\",\"item\":{\"itemIdx\":168877898,\"type\":\"norm\",\"categoryId\":\"HAD0001\",\"title\":\"(거의새것)루나 리얼웨이 벨벳 립스틱\",\"activity\":{\"isWish\":false},\"media\":{\"imageUrl\":\"http://ccimg.hellomarket.com/images/2020/item/11/23/23/2952137_265807_1.jpg?size=s4\",\"videoUrl\":\"\"},\"property\":{\"price\":{\"amount\":10000,\"text\":\"10,000원\"},\"sellState\":{\"code\":\"ForSale\",\"name\":\"판매중\"},\"usedType\":{\"code\":\"AsNew\",\"name\":\"거의새것\"},\"isDirectDeal\":false,\"hasDeliveryFee\":false},\"count\":{\"comment\":0,\"wish\":0},\"escrow\":{\"isEscrow\":false},\"linkUrl\":\"hellomarket://hellomarket.api/item/168877898\",\"timeago\":\"2분전\"}},{\"type\":\"item\",\"item\":{\"itemIdx\":168828698,\"type\":\"norm\",\"categoryId\":\"HAD0007\",\"title\":\"메종드라엘트윙클펌\",\"activity\":{\"isWish\":false},\"media\":{\"imageUrl\":\"http://ccimg.hellomarket.com/images/2020/item/11/19/11/5930506_5054013_1.jpg?size=s4\",\"videoUrl\":\"\"},\"property\":{\"price\":{\"amount\":12000,\"text\":\"12,000원\"},\"sellState\":{\"code\":\"ForSale\",\"name\":\"판매중\"},\"usedType\":{\"code\":\"AsNew\",\"name\":\"거의새것\"},\"isDirectDeal\":false,\"hasDeliveryFee\":true},\"count\":{\"comment\":0,\"wish\":1},\"escrow\":{\"isEscrow\":false},\"linkUrl\":\"hellomarket://hellomarket.api/item/168828698\",\"timeago\":\"2분전\"}},{\"type\":\"item\",\"item\":{\"itemIdx\":168826529,\"type\":\"norm\",\"categoryId\":\"HAD0003\",\"title\":\"바이오메드 헤어테라피 트리트먼트\",\"activity\":{\"isWish\":false},\"media\":{\"imageUrl\":\"http://ccimg.hellomarket.com/images/2020/item/11/24/21/0045445_5054013_1.jpg?size=s4\",\"videoUrl\":\"\"},\"property\":{\"price\":{\"amount\":10000,\"text\":\"10,000원\"},\"sellState\":{\"code\":\"ForSale\",\"name\":\"판매중\"},\"usedType\":{\"code\":\"NotUsed\",\"name\":\"새상품\"},\"isDirectDeal\":false,\"hasDeliveryFee\":true},\"count\":{\"comment\":0,\"wish\":0},\"escrow\":{\"isEscrow\":false},\"linkUrl\":\"hellomarket://hellomarket.api/item/168826529\",\"timeago\":\"2분전\"}},{\"type\":\"item\",\"item\":{\"itemIdx\":168828526,\"type\":\"norm\",\"categoryId\":\"HAD0001\",\"title\":\"이브롬클렌져\",\"activity\":{\"isWish\":false},\"media\":{\"imageUrl\":\"http://ccimg.hellomarket.com/images/2020/item/11/24/22/3756679_5054013_1.jpg?size=s4\",\"videoUrl\":\"\"},\"property\":{\"price\":{\"amount\":22000,\"text\":\"22,000원\"},\"sellState\":{\"code\":\"ForSale\",\"name\":\"판매중\"},\"usedType\":{\"code\":\"NotUsed\",\"name\":\"새상품\"},\"isDirectDeal\":false,\"hasDeliveryFee\":true},\"count\":{\"comment\":0,\"wish\":0},\"escrow\":{\"isEscrow\":false},\"linkUrl\":\"hellomarket://hellomarket.api/item/168828526\",\"timeago\":\"3분전\"}},{\"type\":\"item\",\"item\":{\"itemIdx\":168826432,\"type\":\"norm\",\"categoryId\":\"HAD0001\",\"title\":\"랑스맥스\",\"activity\":{\"isWish\":false},\"media\":{\"imageUrl\":\"http://ccimg.hellomarket.com/images/2020/item/11/24/20/5243348_5054013_1.jpg?size=s4\",\"videoUrl\":\"\"},\"property\":{\"price\":{\"amount\":10000,\"text\":\"10,000원\"},\"sellState\":{\"code\":\"ForSale\",\"name\":\"판매중\"},\"usedType\":{\"code\":\"NotUsed\",\"name\":\"새상품\"},\"isDirectDeal\":false,\"hasDeliveryFee\":true},\"count\":{\"comment\":0,\"wish\":1},\"escrow\":{\"isEscrow\":false},\"linkUrl\":\"hellomarket://hellomarket.api/item/168826432\",\"timeago\":\"3분전\"}},{\"type\":\"item\",\"item\":{\"itemIdx\":166560230,\"type\":\"biz\",\"categoryId\":\"HAD0007\",\"title\":\"디자이너 뿌리볼륨매직 세라믹 웨이브 매직기 \",\"activity\":{\"isWish\":false},\"media\":{\"imageUrl\":\"http://ccimg.hellomarket.com/images/2020/item/04/24/15/1151606_3919227_1.jpg?size=s4\",\"videoUrl\":\"\"},\"property\":{\"price\":{\"amount\":41000,\"text\":\"41,000원\"},\"sellState\":{\"code\":\"ForSale\",\"name\":\"판매중\"},\"usedType\":{\"code\":\"NotUsed\",\"name\":\"새상품\"},\"isDirectDeal\":false,\"hasDeliveryFee\":true},\"count\":{\"comment\":0,\"wish\":2},\"escrow\":{\"isEscrow\":false},\"linkUrl\":\"hellomarket://hellomarket.api/item/166560230\",\"timeago\":\"6분전\"}},{\"type\":\"item\",\"item\":{\"itemIdx\":165474804,\"type\":\"biz\",\"categoryId\":\"HAD0007\",\"title\":\"실크 세라믹판고데기 온도조절 전문가용 국내제작\",\"activity\":{\"isWish\":false},\"media\":{\"imageUrl\":\"http://ccimg.hellomarket.com/images/2020/item/01/29/21/1149_3919227_1.jpg?size=s4\",\"videoUrl\":\"\"},\"property\":{\"price\":{\"amount\":32000,\"text\":\"32,000원\"},\"sellState\":{\"code\":\"ForSale\",\"name\":\"판매중\"},\"usedType\":{\"code\":\"NotUsed\",\"name\":\"새상품\"},\"isDirectDeal\":false,\"hasDeliveryFee\":true},\"count\":{\"comment\":0,\"wish\":6},\"escrow\":{\"isEscrow\":false},\"linkUrl\":\"hellomarket://hellomarket.api/item/165474804\",\"timeago\":\"7분전\"}},{\"type\":\"item\",\"item\":{\"itemIdx\":166730171,\"type\":\"biz\",\"categoryId\":\"HAD0007\",\"title\":\"에스겔 전문가용 판고데기 중 세라믹 판고데기 핑크\",\"activity\":{\"isWish\":false},\"media\":{\"imageUrl\":\"http://ccimg.hellomarket.com/images/2020/item/05/08/16/5041150_3919227_1.jpg?size=s4\",\"videoUrl\":\"\"},\"property\":{\"price\":{\"amount\":35000,\"text\":\"35,000원\"},\"sellState\":{\"code\":\"ForSale\",\"name\":\"판매중\"},\"usedType\":{\"code\":\"NotUsed\",\"name\":\"새상품\"},\"isDirectDeal\":false,\"hasDeliveryFee\":true},\"count\":{\"comment\":0,\"wish\":3},\"escrow\":{\"isEscrow\":false},\"linkUrl\":\"hellomarket://hellomarket.api/item/166730171\",\"timeago\":\"7분전\"}},{\"type\":\"item\",\"item\":{\"itemIdx\":168348007,\"type\":\"norm\",\"categoryId\":\"HAD0002\",\"title\":\"베네피트 캘리포니아 볼터치 블러셔\",\"activity\":{\"isWish\":false},\"media\":{\"imageUrl\":\"http://ccimg.hellomarket.com/images/2020/item/10/06/12/5401310_5029669_1.jpg?size=s4\",\"videoUrl\":\"\"},\"property\":{\"price\":{\"amount\":5000,\"text\":\"5,000원\"},\"sellState\":{\"code\":\"ForSale\",\"name\":\"판매중\"},\"usedType\":{\"code\":\"Secondhand\",\"name\":\"중고\"},\"isDirectDeal\":false,\"hasDeliveryFee\":false},\"count\":{\"comment\":0,\"wish\":3},\"escrow\":{\"isEscrow\":false},\"linkUrl\":\"hellomarket://hellomarket.api/item/168348007\",\"timeago\":\"9분전\"}},{\"type\":\"item\",\"item\":{\"itemIdx\":168888531,\"type\":\"norm\",\"categoryId\":\"HAD0002\",\"title\":\"에뛰드 하우스 부다페스트 섀도우 정리함\",\"activity\":{\"isWish\":false},\"media\":{\"imageUrl\":\"http://ccimg.hellomarket.com/images/2020/item/11/24/22/3216441_4599881_1.jpg?size=s4\",\"videoUrl\":\"\"},\"property\":{\"price\":{\"amount\":10000,\"text\":\"10,000원\"},\"sellState\":{\"code\":\"ForSale\",\"name\":\"판매중\"},\"usedType\":{\"code\":\"Secondhand\",\"name\":\"중고\"},\"isDirectDeal\":false,\"hasDeliveryFee\":false},\"count\":{\"comment\":0,\"wish\":0},\"escrow\":{\"isEscrow\":false},\"linkUrl\":\"hellomarket://hellomarket.api/item/168888531\",\"timeago\":\"9분전\"}},{\"type\":\"item\",\"item\":{\"itemIdx\":163105044,\"type\":\"biz\",\"categoryId\":\"HAD0003\",\"title\":\"제니퍼로페즈 글로우바이제이로 향수\",\"activity\":{\"isWish\":false},\"media\":{\"imageUrl\":\"http://ccimg.hellomarket.com/images/2019/item/07/08/21/5246_1499052_1.jpg?size=s4\",\"videoUrl\":\"\"},\"property\":{\"price\":{\"amount\":50000,\"text\":\"50,000원\"},\"sellState\":{\"code\":\"ForSale\",\"name\":\"판매중\"},\"usedType\":{\"code\":\"AsNew\",\"name\":\"거의새것\"},\"isDirectDeal\":false,\"hasDeliveryFee\":false},\"count\":{\"comment\":0,\"wish\":2},\"escrow\":{\"isEscrow\":false},\"linkUrl\":\"hellomarket://hellomarket.api/item/163105044\",\"timeago\":\"10분전\"}},{\"type\":\"item\",\"item\":{\"itemIdx\":168888515,\"type\":\"norm\",\"categoryId\":\"HAD0001\",\"title\":\"자이엘 에이씨 클리어 크림\",\"activity\":{\"isWish\":false},\"media\":{\"imageUrl\":\"http://ccimg.hellomarket.com/images/2020/item/11/24/22/3101047_3589608_1.jpg?size=s4\",\"videoUrl\":\"\"},\"property\":{\"price\":{\"amount\":9900,\"text\":\"9,900원\"},\"sellState\":{\"code\":\"ForSale\",\"name\":\"판매중\"},\"usedType\":{\"code\":\"NotUsed\",\"name\":\"새상품\"},\"isDirectDeal\":false,\"hasDeliveryFee\":true},\"count\":{\"comment\":0,\"wish\":0},\"escrow\":{\"isEscrow\":false},\"linkUrl\":\"hellomarket://hellomarket.api/item/168888515\",\"timeago\":\"10분전\"}},{\"type\":\"item\",\"item\":{\"itemIdx\":168713812,\"type\":\"norm\",\"categoryId\":\"HAD0001\",\"title\":\"나스화장품(새상품)\",\"activity\":{\"isWish\":false},\"media\":{\"imageUrl\":\"http://ccimg.hellomarket.com/images/2020/item/11/08/22/1358922_1544565_1.jpg?size=s4\",\"videoUrl\":\"\"},\"property\":{\"price\":{\"amount\":10000,\"text\":\"10,000원\"},\"sellState\":{\"code\":\"ForSale\",\"name\":\"판매중\"},\"usedType\":{\"code\":\"NotUsed\",\"name\":\"새상품\"},\"isDirectDeal\":false,\"hasDeliveryFee\":false},\"count\":{\"comment\":0,\"wish\":2},\"escrow\":{\"isEscrow\":false},\"linkUrl\":\"hellomarket://hellomarket.api/item/168713812\",\"timeago\":\"10분전\"}},{\"type\":\"item\",\"item\":{\"itemIdx\":168665507,\"type\":\"norm\",\"categoryId\":\"HAD0007\",\"title\":\"마스카컴퍼니 인텐시브 스프레이 세럼 인 마스크\",\"activity\":{\"isWish\":false},\"media\":{\"imageUrl\":\"http://ccimg.hellomarket.com/images/2020/item/11/04/10/3017599_3460812_1.jpg?size=s4\",\"videoUrl\":\"\"},\"property\":{\"price\":{\"amount\":30000,\"text\":\"30,000원\"},\"sellState\":{\"code\":\"ForSale\",\"name\":\"판매중\"},\"usedType\":{\"code\":\"NotUsed\",\"name\":\"새상품\"},\"isDirectDeal\":false,\"hasDeliveryFee\":false},\"count\":{\"comment\":0,\"wish\":0},\"escrow\":{\"isEscrow\":false},\"linkUrl\":\"hellomarket://hellomarket.api/item/168665507\",\"timeago\":\"12분전\"}},{\"type\":\"item\",\"item\":{\"itemIdx\":168545575,\"type\":\"norm\",\"categoryId\":\"HAD0007\",\"title\":\"예스뷰티고데기\",\"activity\":{\"isWish\":false},\"media\":{\"imageUrl\":\"http://ccimg.hellomarket.com/images/2020/item/10/23/19/4415657_597277_1.jpg?size=s4\",\"videoUrl\":\"\"},\"property\":{\"price\":{\"amount\":15000,\"text\":\"15,000원\"},\"sellState\":{\"code\":\"ForSale\",\"name\":\"판매중\"},\"usedType\":{\"code\":\"AsNew\",\"name\":\"거의새것\"},\"location\":{\"address\":\"서울특별시 금천구 시흥동\",\"latitude\":37.4492857,\"longitude\":126.9104662},\"isDirectDeal\":false,\"hasDeliveryFee\":false},\"count\":{\"comment\":0,\"wish\":2},\"escrow\":{\"isEscrow\":false},\"linkUrl\":\"hellomarket://hellomarket.api/item/168545575\",\"timeago\":\"13분전\"}},{\"type\":\"item\",\"item\":{\"itemIdx\":168710221,\"type\":\"norm\",\"categoryId\":\"HAD0001\",\"title\":\"참존미드나잇크림\",\"activity\":{\"isWish\":false},\"media\":{\"imageUrl\":\"http://ccimg.hellomarket.com/images/2020/item/11/08/15/3607229_5015286_1.jpg?size=s4\",\"videoUrl\":\"\"},\"property\":{\"price\":{\"amount\":10000,\"text\":\"10,000원\"},\"sellState\":{\"code\":\"ForSale\",\"name\":\"판매중\"},\"usedType\":{\"code\":\"NotUsed\",\"name\":\"새상품\"},\"isDirectDeal\":false,\"hasDeliveryFee\":false},\"count\":{\"comment\":0,\"wish\":0},\"escrow\":{\"isEscrow\":false},\"linkUrl\":\"hellomarket://hellomarket.api/item/168710221\",\"timeago\":\"13분전\"}},{\"type\":\"item\",\"item\":{\"itemIdx\":168564217,\"type\":\"norm\",\"categoryId\":\"HAD0001\",\"title\":\"랑콤파렛트\",\"activity\":{\"isWish\":false},\"media\":{\"imageUrl\":\"http://ccimg.hellomarket.com/images/2020/item/10/25/22/3047019_5015286_1.jpg?size=s4\",\"videoUrl\":\"\"},\"property\":{\"price\":{\"amount\":35000,\"text\":\"35,000원\"},\"sellState\":{\"code\":\"ForSale\",\"name\":\"판매중\"},\"usedType\":{\"code\":\"NotUsed\",\"name\":\"새상품\"},\"isDirectDeal\":false,\"hasDeliveryFee\":false},\"count\":{\"comment\":0,\"wish\":1},\"escrow\":{\"isEscrow\":false},\"linkUrl\":\"hellomarket://hellomarket.api/item/168564217\",\"timeago\":\"13분전\"}},{\"type\":\"item\",\"item\":{\"itemIdx\":165754855,\"type\":\"norm\",\"categoryId\":\"HAD0001\",\"title\":\"설화수 3종세트\",\"activity\":{\"isWish\":false},\"media\":{\"imageUrl\":\"http://ccimg.hellomarket.com/images/2020/item/02/22/16/4600635_3197724_1.jpg?size=s4\",\"videoUrl\":\"\"},\"property\":{\"price\":{\"amount\":99000,\"text\":\"99,000원\"},\"sellState\":{\"code\":\"ForSale\",\"name\":\"판매중\"},\"usedType\":{\"code\":\"NotUsed\",\"name\":\"새상품\"},\"isDirectDeal\":false,\"hasDeliveryFee\":true},\"count\":{\"comment\":0,\"wish\":3},\"escrow\":{\"isEscrow\":false},\"linkUrl\":\"hellomarket://hellomarket.api/item/165754855\",\"timeago\":\"14분전\"}},{\"type\":\"item\",\"item\":{\"itemIdx\":168627978,\"type\":\"norm\",\"categoryId\":\"HAD0007\",\"title\":\"파파레서피 프로밸런스 바이오 클랜징 폼\",\"activity\":{\"isWish\":false},\"media\":{\"imageUrl\":\"http://ccimg.hellomarket.com/images/2020/item/10/31/16/3457570_5107598_1.jpg?size=s4\",\"videoUrl\":\"\"},\"property\":{\"price\":{\"amount\":10000,\"text\":\"10,000원\"},\"sellState\":{\"code\":\"ForSale\",\"name\":\"판매중\"},\"usedType\":{\"code\":\"NotUsed\",\"name\":\"새상품\"},\"isDirectDeal\":false,\"hasDeliveryFee\":false},\"count\":{\"comment\":0,\"wish\":0},\"escrow\":{\"isEscrow\":false},\"linkUrl\":\"hellomarket://hellomarket.api/item/168627978\",\"timeago\":\"17분전\"}},{\"type\":\"item\",\"item\":{\"itemIdx\":168440461,\"type\":\"norm\",\"categoryId\":\"HAD0002\",\"title\":\"더샘 에코 소울 리얼 핏 메이크업 베이스\",\"activity\":{\"isWish\":false},\"media\":{\"imageUrl\":\"http://ccimg.hellomarket.com/images/2020/item/10/14/11/4822823_5107598_1.jpg?size=s4\",\"videoUrl\":\"\"},\"property\":{\"price\":{\"amount\":3000,\"text\":\"3,000원\"},\"sellState\":{\"code\":\"ForSale\",\"name\":\"판매중\"},\"usedType\":{\"code\":\"Secondhand\",\"name\":\"중고\"},\"isDirectDeal\":false,\"hasDeliveryFee\":false},\"count\":{\"comment\":0,\"wish\":0},\"escrow\":{\"isEscrow\":false},\"linkUrl\":\"hellomarket://hellomarket.api/item/168440461\",\"timeago\":\"17분전\"}},{\"type\":\"item\",\"item\":{\"itemIdx\":168597339,\"type\":\"norm\",\"categoryId\":\"HAD0007\",\"title\":\"파파레서피 리얼 센탈라 파우더 워시\",\"activity\":{\"isWish\":false},\"media\":{\"imageUrl\":\"http://ccimg.hellomarket.com/images/2020/item/10/28/19/5039094_5107598_1.jpg?size=s4\",\"videoUrl\":\"\"},\"property\":{\"price\":{\"amount\":8000,\"text\":\"8,000원\"},\"sellState\":{\"code\":\"ForSale\",\"name\":\"판매중\"},\"usedType\":{\"code\":\"NotUsed\",\"name\":\"새상품\"},\"isDirectDeal\":false,\"hasDeliveryFee\":false},\"count\":{\"comment\":0,\"wish\":0},\"escrow\":{\"isEscrow\":false},\"linkUrl\":\"hellomarket://hellomarket.api/item/168597339\",\"timeago\":\"17분전\"}},{\"type\":\"item\",\"item\":{\"itemIdx\":168618530,\"type\":\"norm\",\"categoryId\":\"HAD0007\",\"title\":\"파파레서피 리얼 센텔라 선스틱\",\"activity\":{\"isWish\":false},\"media\":{\"imageUrl\":\"http://ccimg.hellomarket.com/images/2020/item/10/30/16/4856284_5107598_1.jpg?size=s4\",\"videoUrl\":\"\"},\"property\":{\"price\":{\"amount\":7000,\"text\":\"7,000원\"},\"sellState\":{\"code\":\"ForSale\",\"name\":\"판매중\"},\"usedType\":{\"code\":\"NotUsed\",\"name\":\"새상품\"},\"isDirectDeal\":false,\"hasDeliveryFee\":false},\"count\":{\"comment\":0,\"wish\":0},\"escrow\":{\"isEscrow\":false},\"linkUrl\":\"hellomarket://hellomarket.api/item/168618530\",\"timeago\":\"17분전\"}},{\"type\":\"item\",\"item\":{\"itemIdx\":168887738,\"type\":\"norm\",\"categoryId\":\"HAD0002\",\"title\":\"스타벅스 비디비치 할로윈 스푸키 메이크업 키트\",\"activity\":{\"isWish\":false},\"media\":{\"imageUrl\":\"http://ccimg.hellomarket.com/images/2020/item/11/24/21/2720803_5050223_1.jpg?size=s4\",\"videoUrl\":\"\"},\"property\":{\"price\":{\"amount\":10000,\"text\":\"10,000원\"},\"sellState\":{\"code\":\"ForSale\",\"name\":\"판매중\"},\"usedType\":{\"code\":\"NotUsed\",\"name\":\"새상품\"},\"isDirectDeal\":false,\"hasDeliveryFee\":true},\"count\":{\"comment\":0,\"wish\":1},\"escrow\":{\"isEscrow\":false},\"linkUrl\":\"hellomarket://hellomarket.api/item/168887738\",\"timeago\":\"18분전\"}}]},\"query\":{\"category\":\"HAD0000\"},\"itemCategoryList\":{\"status\":200,\"message\":\"success\",\"count\":5,\"list\":[{\"categoryId\":\"HAD0001\",\"name\":\"여성화장품\",\"helpers\":[{\"label\":\"브랜드\",\"param\":\"helper83\"},{\"label\":\"종류\",\"hint\":\"로션, 앰플, 클렌징 등\",\"param\":\"helper84\"},{\"label\":\"용량\",\"param\":\"helper85\"}]},{\"categoryId\":\"HAD0002\",\"name\":\"메이크업\",\"helpers\":[{\"label\":\"브랜드\",\"param\":\"helper86\"},{\"label\":\"종류\",\"hint\":\"립스틱, 블러셔 등\",\"param\":\"helper87\"},{\"label\":\"색상\",\"param\":\"helper88\"}]},{\"categoryId\":\"HAD0004\",\"name\":\"남성화장품\",\"helpers\":[{\"label\":\"브랜드\",\"param\":\"helper91\"},{\"label\":\"종류\",\"hint\":\"로션, 클렌징 등\",\"param\":\"helper92\"},{\"label\":\"사이즈\",\"param\":\"helper93\"}]},{\"categoryId\":\"HAD0003\",\"name\":\"향수,헤어,바디\",\"helpers\":[{\"label\":\"브랜드\",\"param\":\"helper89\"},{\"label\":\"종류\",\"hint\":\"향수, 헤어에센스, 바디로션 등\",\"param\":\"helper90\"}]},{\"categoryId\":\"HAD0007\",\"name\":\"기타 뷰티\",\"helpers\":[{\"label\":\"브랜드\",\"param\":\"helper94\"},{\"label\":\"종류\",\"param\":\"helper95\"}]}]},\"mainCategoryName\":\"\",\"mainCategory\":\"HAD0000\",\"localesList\":{},\"autoBrandList\":{},\"autoModelList\":{},\"autoModelSubList\":{},\"autoGradesList\":{},\"autoGradeSubList\":{},\"localesChildrenList\":{},\"bannerList\":{\"status\":200,\"message\":\"success\",\"count\":1,\"list\":[{\"adGroupIdx\":2365,\"adGroupBannerIdx\":2440,\"imageUrl\":\"http://ccimg.hellomarket.com/images/2020/ad/11/02/17/44_174557327.jpg\",\"linkUrl\":\"https://l.hellomarket.com/?t=browser\\\\u0026u=http%3A%2F%2Fm.site.naver.com%2F0GSVQ\"}]},\"tabType\":\"thumbnail\",\"userAgent\":\"pc\",\"asPath\":\"/search?category=HAD0000\",\"userAgentType\":\"Mozilla/5.0 (Windows NT 6.1) AppleWebKit/537.36 (KHTML, like Gecko) Chrome/28.0.1468.0 Safari/537.36\",\"rcBrandName\":null,\"rcModelName\":null},\"auth\":{\"token\":null,\"user\":null,\"tokenError\":false,\"authStatus\":false,\"hellomarketLoginStatus\":false,\"hellomarketSignupStatus\":false,\"hellomarketSocialStatus\":false,\"hellomarketPasswordStatus\":false,\"pushStatus\":false,\"error\":null,\"chatCount\":0,\"alramCount\":0,\"url\":null},\"store\":{\"sagaTask\":{\"@@redux-saga/TASK\":true,\"id\":8728081,\"meta\":{\"name\":\"rootSaga\"},\"isRoot\":true,\"context\":{},\"joiners\":null,\"queue\":{}}},\"userAgent\":\"Mozilla/5.0 (Windows NT 6.1) AppleWebKit/537.36 (KHTML, like Gecko) Chrome/28.0.1468.0 Safari/537.36\",\"naverCheck\":false,\"referrer\":\"\"}},\"page\":\"/search\",\"query\":{\"category\":\"HAD0000\"},\"buildId\":\"461\"}</script><script async=\"\" data-next-page=\"/search\" src=\"/_next/static/461/pages/search.js\"></script><script async=\"\" data-next-page=\"/_app\" src=\"/_next/static/461/pages/_app.js\"></script><script src=\"/_next/static/runtime/webpack-4b444dab214c6491079c.js\" async=\"\"></script><script src=\"/_next/static/chunks/commons.1c07672118bfe28453a7.js\" async=\"\"></script><script src=\"/_next/static/runtime/main-a8db53c8c2b80db8fd92.js\" async=\"\"></script><script src=\"/_next/static/chunks/styles.5fd72f1a3479bf20c04d.js\" async=\"\"></script></body></html>'"
      ]
     },
     "execution_count": 50,
     "metadata": {},
     "output_type": "execute_result"
    }
   ],
   "source": [
    "response.text"
   ]
  },
  {
   "cell_type": "code",
   "execution_count": 146,
   "metadata": {},
   "outputs": [
    {
     "data": {
      "text/plain": [
       "[<div class=\"item_wrapper_card\"><a class=\"card card_list\" href=\"/item/168861496?viewPath=main_feed&amp;clickPath=home&amp;feedType=ranking&amp;featuredFeedType=RankingItem&amp;escrowType=common&amp;feedPosition=2\"><div class=\"card_box\"><div class=\"image_wrapper\"><div class=\"image_outside\"><div class=\"image_centerbox\"><img alt=\"아이패드 에어3세대 실버\" class=\"thumbnail_img\" data-src=\"https://ccimg.hellomarket.com/images/2020/item/11/22/12/5624214_4914742_1.jpg?size=s4\" src=\"https://ccimage.hellomarket.com/web/2018/main/img_default_thumbnail_495x495.png\"/><label data-index=\"0\" style=\"display:none\">0</label></div><div class=\"dealer_text_position\"><img alt=\"헬로페이 아이콘\" src=\"https://ccimage.hellomarket.com/web/2020/item/ico_badge_thumbnail_hellopay_x2.png\" style=\"width:40px;height:18px\"/></div></div></div><div class=\"cont\"><div class=\"item_title\">아이패드 에어3세대 실버</div><div class=\"item_price\">430,000원</div></div></div></a></div>,\n",
       " <div class=\"item_wrapper_card\"><a class=\"card\" href=\"https://l.hellomarket.com/?t=browser&amp;u=https%3A%2F%2Fwww.kurly.com%2Fshop%2Fevent%2FkurlyEvent.php%3Fhtmid%3Devent%2Fjoin%2Fjoin_201118%26utm_source%3D3141%26utm_medium%3D2011%26utm_campaign%3D48453%26utm_content%3Dnon_homefeedlist_fix_PC_B&amp;cpn=31&amp;img=3307&amp;grp=2483&amp;spr=5124&amp;ban=2527\" rel=\"noopener noreferrer\" target=\"_blank\"><img alt=\"이벤트 이미지\" class=\"feed_img\" data-src=\"https://ccimg.hellomarket.com/images/2020/ad/11/23/17/44_172525008.jpg\" src=\"https://ccimage.hellomarket.com/web/2018/main/img_default_thumbnail_495x495.png\"/></a></div>,\n",
       " <div class=\"item_wrapper_card\"><a class=\"card card_list\" href=\"/item/168861948?viewPath=main_feed&amp;clickPath=home&amp;feedType=ranking&amp;featuredFeedType=RankingItem&amp;escrowType=common&amp;feedPosition=4\"><div class=\"card_box\"><div class=\"image_wrapper\"><div class=\"image_outside\"><div class=\"image_centerbox\"><img alt=\"전동킥보드 기함급 에코드라이브 타이탄 듀얼모터 팝니다.\" class=\"thumbnail_img\" data-src=\"https://ccimg.hellomarket.com/images/2020/item/11/22/13/5317877_4887854_1.jpg?size=s4\" src=\"https://ccimage.hellomarket.com/web/2018/main/img_default_thumbnail_495x495.png\"/><label data-index=\"2\" style=\"display:none\">2</label></div><div class=\"dealer_text_position\"><img alt=\"헬로페이 아이콘\" src=\"https://ccimage.hellomarket.com/web/2020/item/ico_badge_thumbnail_hellopay_x2.png\" style=\"width:40px;height:18px\"/></div></div></div><div class=\"cont\"><div class=\"item_title\">전동킥보드 기함급 에코드라이브 타이탄 듀얼모터 팝니다.</div><div class=\"item_price\">750,000원</div></div></div></a></div>,\n",
       " <div class=\"item_wrapper_card\"><a class=\"card card_list\" href=\"/item/168860467?viewPath=main_feed&amp;clickPath=home&amp;feedType=ranking&amp;featuredFeedType=RankingItem&amp;escrowType=common&amp;feedPosition=5\"><div class=\"card_box\"><div class=\"image_wrapper\"><div class=\"image_outside\"><div class=\"image_centerbox\"><img alt=\"ps4 슬림500gb타이틀과함께 교신가능\" class=\"thumbnail_img\" data-src=\"https://ccimg.hellomarket.com/images/2020/item/11/22/10/3134851_3716022_1.jpg?size=s4\" src=\"https://ccimage.hellomarket.com/web/2018/main/img_default_thumbnail_495x495.png\"/><label data-index=\"3\" style=\"display:none\">3</label></div><div class=\"dealer_text_position\"><img alt=\"헬로페이 아이콘\" src=\"https://ccimage.hellomarket.com/web/2020/item/ico_badge_thumbnail_hellopay_x2.png\" style=\"width:40px;height:18px\"/></div></div></div><div class=\"cont\"><div class=\"item_title\">ps4 슬림500gb타이틀과함께 교신가능</div><div class=\"item_price\">160,000원</div></div></div></a></div>,\n",
       " <div class=\"item_wrapper_card\"><a class=\"card card_list\" href=\"/item/168870507?viewPath=main_feed&amp;clickPath=home&amp;feedType=ranking&amp;featuredFeedType=RankingItem&amp;escrowType=common&amp;feedPosition=6\"><div class=\"card_box\"><div class=\"image_wrapper\"><div class=\"image_outside\"><div class=\"image_centerbox\"><img alt=\"아이폰 8 레드 64기가 (홈버튼 잘안됨, 카메라 안됨)\" class=\"thumbnail_img\" data-src=\"https://ccimg.hellomarket.com/images/2020/item/11/23/13/0503797_4688669_1.jpg?size=s4\" src=\"https://ccimage.hellomarket.com/web/2018/main/img_default_thumbnail_495x495.png\"/><label data-index=\"4\" style=\"display:none\">4</label></div><div class=\"dealer_text_position\"><img alt=\"헬로페이 아이콘\" src=\"https://ccimage.hellomarket.com/web/2020/item/ico_badge_thumbnail_hellopay_x2.png\" style=\"width:40px;height:18px\"/></div></div></div><div class=\"cont\"><div class=\"item_title\">아이폰 8 레드 64기가 (홈버튼 잘안됨, 카메라 안됨)</div><div class=\"item_price\">70,000원</div></div></div></a></div>,\n",
       " <div class=\"item_wrapper_card\"><a class=\"card card_list\" href=\"/item/168860507?viewPath=main_feed&amp;clickPath=home&amp;feedType=ranking&amp;featuredFeedType=RankingItem&amp;escrowType=common&amp;feedPosition=7\"><div class=\"card_box\"><div class=\"image_wrapper\"><div class=\"image_outside\"><div class=\"image_centerbox\"><img alt=\"스파이더 집업셋트 맨투맨\" class=\"thumbnail_img\" data-src=\"https://ccimg.hellomarket.com/images/2020/item/11/22/10/3957291_952581_1.jpg?size=s4\" src=\"https://ccimage.hellomarket.com/web/2018/main/img_default_thumbnail_495x495.png\"/><label data-index=\"5\" style=\"display:none\">5</label></div><div class=\"dealer_text_position\"><img alt=\"헬로페이 아이콘\" src=\"https://ccimage.hellomarket.com/web/2020/item/ico_badge_thumbnail_hellopay_x2.png\" style=\"width:40px;height:18px\"/><img alt=\"무료배송 아이콘\" src=\"https://ccimage.hellomarket.com/web/2020/item/ico_badge_card_freeshipping_x2.png\" style=\"width:40px;height:18px\"/></div></div></div><div class=\"cont\"><div class=\"item_title\">스파이더 집업셋트 맨투맨</div><div class=\"item_price\">200,000원</div></div></div></a></div>,\n",
       " <div class=\"item_wrapper_card\"><a class=\"card card_list\" href=\"/ad/item/168780100?viewPath=main_feed\"><div class=\"card_box\"><div class=\"image_wrapper\"><div class=\"image_outside\"><div class=\"image_centerbox\"><img alt=\"▶새상품 양털충전제 패딩바지\" class=\"thumbnail_img\" data-src=\"https://ccimg.hellomarket.com/images/2020/item/11/14/21/2148058_3242787_1.jpg?size=s4\" src=\"https://ccimage.hellomarket.com/web/2018/main/img_default_thumbnail_495x495.png\"/></div></div><img alt=\"AD 아이콘\" class=\"ad_image_icon\" src=\"https://ccimage.hellomarket.com/web/2019/ad/img_thumbnail_badge_ad_x2.png\"/></div><div class=\"cont\"><div class=\"item_ad_direct_title\">▶새상품 양털충전제 패딩바지</div></div></div></a></div>,\n",
       " <div class=\"item_wrapper_card\"><a class=\"card card_list\" href=\"/item/168868945?viewPath=main_feed&amp;clickPath=home&amp;feedType=ranking&amp;featuredFeedType=RankingItem&amp;escrowType=common&amp;feedPosition=9\"><div class=\"card_box\"><div class=\"image_wrapper\"><div class=\"image_outside\"><div class=\"image_centerbox\"><img alt=\"담쟁이 덩굴 분재 토종식물\" class=\"thumbnail_img\" data-src=\"https://ccimg.hellomarket.com/images/2020/item/11/23/09/5727021_5133720_1.jpg?size=s4\" src=\"https://ccimage.hellomarket.com/web/2018/main/img_default_thumbnail_495x495.png\"/><label data-index=\"7\" style=\"display:none\">7</label></div><div class=\"dealer_text_position\"><img alt=\"헬로페이 아이콘\" src=\"https://ccimage.hellomarket.com/web/2020/item/ico_badge_thumbnail_hellopay_x2.png\" style=\"width:40px;height:18px\"/></div></div></div><div class=\"cont\"><div class=\"item_title\">담쟁이 덩굴 분재 토종식물</div><div class=\"item_price\">35,000원</div></div></div></a></div>,\n",
       " <div class=\"item_wrapper_card\"><a class=\"card card_list\" href=\"/item/168862363?viewPath=main_feed&amp;clickPath=home&amp;feedType=ranking&amp;featuredFeedType=RankingItem&amp;escrowType=common&amp;feedPosition=10\"><div class=\"card_box\"><div class=\"image_wrapper\"><div class=\"image_outside\"><div class=\"image_centerbox\"><img alt=\"서피스프로5 i5 128기가 키보드커버 펜 판매합니다\" class=\"thumbnail_img\" data-src=\"https://ccimg.hellomarket.com/images/2020/item/11/22/14/3708043_5030871_1.jpg?size=s4\" src=\"https://ccimage.hellomarket.com/web/2018/main/img_default_thumbnail_495x495.png\"/><label data-index=\"8\" style=\"display:none\">8</label></div><div class=\"dealer_text_position\"><img alt=\"헬로페이 아이콘\" src=\"https://ccimage.hellomarket.com/web/2020/item/ico_badge_thumbnail_hellopay_x2.png\" style=\"width:40px;height:18px\"/><img alt=\"무료배송 아이콘\" src=\"https://ccimage.hellomarket.com/web/2020/item/ico_badge_card_freeshipping_x2.png\" style=\"width:40px;height:18px\"/></div></div></div><div class=\"cont\"><div class=\"item_title\">서피스프로5 i5 128기가 키보드커버 펜 판매합니다</div><div class=\"item_price\">450,000원</div></div></div></a></div>,\n",
       " <div class=\"item_wrapper_card\"><a class=\"card card_list\" href=\"/item/168861633?viewPath=main_feed&amp;clickPath=home&amp;feedType=ranking&amp;featuredFeedType=RankingItem&amp;escrowType=common&amp;feedPosition=11\"><div class=\"card_box\"><div class=\"image_wrapper\"><div class=\"image_outside\"><div class=\"image_centerbox\"><img alt=\"가죽자켓\" class=\"thumbnail_img\" data-src=\"https://ccimg.hellomarket.com/images/2020/item/11/22/13/1601475_4600284_1.jpg?size=s4\" src=\"https://ccimage.hellomarket.com/web/2018/main/img_default_thumbnail_495x495.png\"/><label data-index=\"9\" style=\"display:none\">9</label></div><div class=\"dealer_text_position\"><img alt=\"헬로페이 아이콘\" src=\"https://ccimage.hellomarket.com/web/2020/item/ico_badge_thumbnail_hellopay_x2.png\" style=\"width:40px;height:18px\"/></div></div></div><div class=\"cont\"><div class=\"item_title\">가죽자켓</div><div class=\"item_price\">12,000원</div></div></div></a></div>,\n",
       " <div class=\"item_wrapper_card\"><a class=\"card card_list\" href=\"/item/168868239?viewPath=main_feed&amp;clickPath=home&amp;feedType=ranking&amp;featuredFeedType=RankingItem&amp;escrowType=common&amp;feedPosition=12\"><div class=\"card_box\"><div class=\"image_wrapper\"><div class=\"image_outside\"><div class=\"image_centerbox\"><img alt=\"김장김치 100%국내산 10kg\" class=\"thumbnail_img\" data-src=\"https://ccimg.hellomarket.com/images/2020/item/11/23/03/2841240_5155028_1.jpg?size=s4\" src=\"https://ccimage.hellomarket.com/web/2018/main/img_default_thumbnail_495x495.png\"/><label data-index=\"10\" style=\"display:none\">10</label></div><div class=\"dealer_text_position\"><img alt=\"헬로페이 아이콘\" src=\"https://ccimage.hellomarket.com/web/2020/item/ico_badge_thumbnail_hellopay_x2.png\" style=\"width:40px;height:18px\"/><img alt=\"무료배송 아이콘\" src=\"https://ccimage.hellomarket.com/web/2020/item/ico_badge_card_freeshipping_x2.png\" style=\"width:40px;height:18px\"/></div></div></div><div class=\"cont\"><div class=\"item_title\">김장김치 100%국내산 10kg</div><div class=\"item_price\">48,000원</div></div></div></a></div>,\n",
       " <div class=\"item_wrapper_card\"><a class=\"card\" href=\"https://l.hellomarket.com/?t=browser&amp;u=http%3A%2F%2Fpf.kakao.com%2F_exbwSC&amp;cpn=29&amp;img=3275&amp;grp=2451&amp;spr=5442&amp;ban=2499\" rel=\"noopener noreferrer\" target=\"_blank\"><img alt=\"이벤트 이미지\" class=\"feed_img\" data-src=\"https://ccimg.hellomarket.com/images/2020/ad/11/16/17/44_172654414.png\" src=\"https://ccimage.hellomarket.com/web/2018/main/img_default_thumbnail_495x495.png\"/></a></div>,\n",
       " <div class=\"item_wrapper_card\"><a class=\"card card_list\" href=\"/item/168871484?viewPath=main_feed&amp;clickPath=home&amp;feedType=ranking&amp;featuredFeedType=RankingItem&amp;escrowType=common&amp;feedPosition=14\"><div class=\"card_box\"><div class=\"image_wrapper\"><div class=\"image_outside\"><div class=\"image_centerbox\"><img alt=\"에몬스 전동리클라이너 소파(정가 271)\" class=\"thumbnail_img\" data-src=\"https://ccimg.hellomarket.com/images/2020/item/11/23/14/3849000_5155302_1.jpg?size=s4\" src=\"https://ccimage.hellomarket.com/web/2018/main/img_default_thumbnail_495x495.png\"/><label data-index=\"12\" style=\"display:none\">12</label></div><div class=\"dealer_text_position\"><img alt=\"헬로페이 아이콘\" src=\"https://ccimage.hellomarket.com/web/2020/item/ico_badge_thumbnail_hellopay_x2.png\" style=\"width:40px;height:18px\"/></div></div></div><div class=\"cont\"><div class=\"item_title\">에몬스 전동리클라이너 소파(정가 271)</div><div class=\"item_price\">1,500,000원</div></div></div></a></div>,\n",
       " <div class=\"item_wrapper_card\"><a class=\"card card_list\" href=\"/item/168863747?viewPath=main_feed&amp;clickPath=home&amp;feedType=ranking&amp;featuredFeedType=RankingItem&amp;escrowType=common&amp;feedPosition=15\"><div class=\"card_box\"><div class=\"image_wrapper\"><div class=\"image_outside\"><div class=\"image_centerbox\"><img alt=\"알톤 라레이 메리트 1.8 자전거 싸게 판매합니다 !\" class=\"thumbnail_img\" data-src=\"https://ccimg.hellomarket.com/images/2020/item/11/23/22/5307100_4400276_1.jpg?size=s4\" src=\"https://ccimage.hellomarket.com/web/2018/main/img_default_thumbnail_495x495.png\"/><label data-index=\"13\" style=\"display:none\">13</label></div><div class=\"dealer_text_position\"><img alt=\"헬로페이 아이콘\" src=\"https://ccimage.hellomarket.com/web/2020/item/ico_badge_thumbnail_hellopay_x2.png\" style=\"width:40px;height:18px\"/></div></div></div><div class=\"cont\"><div class=\"item_title\">알톤 라레이 메리트 1.8 자전거 싸게 판매합니다 !</div><div class=\"item_price\">250,000원</div></div></div></a></div>,\n",
       " <div class=\"item_wrapper_card\"><a class=\"card card_list\" href=\"/item/168870330?viewPath=main_feed&amp;clickPath=home&amp;feedType=ranking&amp;featuredFeedType=RankingItem&amp;escrowType=common&amp;feedPosition=16\"><div class=\"card_box\"><div class=\"image_wrapper\"><div class=\"image_outside\"><div class=\"image_centerbox\"><img alt=\"♥♥♥ 겨울제철 합천 하우스 딸기 1kg 2kg 판매해요 ♥♥♥\" class=\"thumbnail_img\" data-src=\"https://ccimg.hellomarket.com/images/2020/item/11/23/12/4644906_5145681_1.jpg?size=s4\" src=\"https://ccimage.hellomarket.com/web/2018/main/img_default_thumbnail_495x495.png\"/><label data-index=\"14\" style=\"display:none\">14</label></div><div class=\"dealer_text_position\"><img alt=\"헬로페이 아이콘\" src=\"https://ccimage.hellomarket.com/web/2020/item/ico_badge_thumbnail_hellopay_x2.png\" style=\"width:40px;height:18px\"/><img alt=\"무료배송 아이콘\" src=\"https://ccimage.hellomarket.com/web/2020/item/ico_badge_card_freeshipping_x2.png\" style=\"width:40px;height:18px\"/></div></div></div><div class=\"cont\"><div class=\"item_title\">♥♥♥ 겨울제철 합천 하우스 딸기 1kg 2kg 판매해요 ♥♥♥</div><div class=\"item_price\">30,900원</div></div></div></a></div>,\n",
       " <div class=\"item_wrapper_card\"><a class=\"card card_list\" href=\"/item/168871737?viewPath=main_feed&amp;clickPath=home&amp;feedType=ranking&amp;featuredFeedType=RankingItem&amp;escrowType=common&amp;feedPosition=17\"><div class=\"card_box\"><div class=\"image_wrapper\"><div class=\"image_outside\"><div class=\"image_centerbox\"><img alt=\"해적선 무쇠제품 무게 나감\" class=\"thumbnail_img\" data-src=\"https://ccimg.hellomarket.com/images/2020/item/11/23/14/5744612_5088325_1.jpg?size=s4\" src=\"https://ccimage.hellomarket.com/web/2018/main/img_default_thumbnail_495x495.png\"/><label data-index=\"15\" style=\"display:none\">15</label></div><div class=\"dealer_text_position\"><img alt=\"헬로페이 아이콘\" src=\"https://ccimage.hellomarket.com/web/2020/item/ico_badge_thumbnail_hellopay_x2.png\" style=\"width:40px;height:18px\"/><img alt=\"무료배송 아이콘\" src=\"https://ccimage.hellomarket.com/web/2020/item/ico_badge_card_freeshipping_x2.png\" style=\"width:40px;height:18px\"/></div></div></div><div class=\"cont\"><div class=\"item_title\">해적선 무쇠제품 무게 나감</div><div class=\"item_price\">440,000원</div></div></div></a></div>,\n",
       " <div class=\"item_wrapper_card\"><a class=\"card card_list\" href=\"/ad/item/163809264?viewPath=main_feed\"><div class=\"card_box\"><div class=\"image_wrapper\"><div class=\"image_outside\"><div class=\"image_centerbox\"><img alt=\"하객룩 / 데이트룩 / 오피스룩 / 원피스  / 코트 \" class=\"thumbnail_img\" data-src=\"https://ccimg.hellomarket.com/images/2020/item/11/15/03/1640748_2678663_1.jpg?size=s4\" src=\"https://ccimage.hellomarket.com/web/2018/main/img_default_thumbnail_495x495.png\"/></div></div><img alt=\"AD 아이콘\" class=\"ad_image_icon\" src=\"https://ccimage.hellomarket.com/web/2019/ad/img_thumbnail_badge_ad_x2.png\"/></div><div class=\"cont\"><div class=\"item_ad_direct_title\">하객룩 / 데이트룩 / 오피스룩 / 원피스  / 코트 </div></div></div></a></div>,\n",
       " <div class=\"item_wrapper_card\"><a class=\"card card_list\" href=\"/item/168862081?viewPath=main_feed&amp;clickPath=home&amp;feedType=ranking&amp;featuredFeedType=RankingItem&amp;escrowType=common&amp;feedPosition=19\"><div class=\"card_box\"><div class=\"image_wrapper\"><div class=\"image_outside\"><div class=\"image_centerbox\"><img alt=\"정품 펜디 여성시계\" class=\"thumbnail_img\" data-src=\"https://ccimg.hellomarket.com/images/2020/item/11/22/14/0544581_210257_1.jpg?size=s4\" src=\"https://ccimage.hellomarket.com/web/2018/main/img_default_thumbnail_495x495.png\"/><label data-index=\"17\" style=\"display:none\">17</label></div><div class=\"dealer_text_position\"><img alt=\"헬로페이 아이콘\" src=\"https://ccimage.hellomarket.com/web/2020/item/ico_badge_thumbnail_hellopay_x2.png\" style=\"width:40px;height:18px\"/><img alt=\"무료배송 아이콘\" src=\"https://ccimage.hellomarket.com/web/2020/item/ico_badge_card_freeshipping_x2.png\" style=\"width:40px;height:18px\"/></div></div></div><div class=\"cont\"><div class=\"item_title\">정품 펜디 여성시계</div><div class=\"item_price\">290,000원</div></div></div></a></div>,\n",
       " <div class=\"item_wrapper_card\"><a class=\"card card_list\" href=\"/item/168861243?viewPath=main_feed&amp;clickPath=home&amp;feedType=ranking&amp;featuredFeedType=RankingItem&amp;escrowType=common&amp;feedPosition=20\"><div class=\"card_box\"><div class=\"image_wrapper\"><div class=\"image_outside\"><div class=\"image_centerbox\"><img alt=\"앰프 와 튜너\" class=\"thumbnail_img\" data-src=\"https://ccimg.hellomarket.com/images/2020/item/11/22/12/2704355_3929700_1.jpg?size=s4\" src=\"https://ccimage.hellomarket.com/web/2018/main/img_default_thumbnail_495x495.png\"/><label data-index=\"18\" style=\"display:none\">18</label></div><div class=\"dealer_text_position\"><img alt=\"헬로페이 아이콘\" src=\"https://ccimage.hellomarket.com/web/2020/item/ico_badge_thumbnail_hellopay_x2.png\" style=\"width:40px;height:18px\"/></div></div></div><div class=\"cont\"><div class=\"item_title\">앰프 와 튜너</div><div class=\"item_price\">130,000원</div></div></div></a></div>,\n",
       " <div class=\"item_wrapper_card\"><a class=\"card card_list\" href=\"/item/168860133?viewPath=main_feed&amp;clickPath=home&amp;feedType=ranking&amp;featuredFeedType=RankingItem&amp;escrowType=common&amp;feedPosition=21\"><div class=\"card_box\"><div class=\"image_wrapper\"><div class=\"image_outside\"><div class=\"image_centerbox\"><img alt=\"아이폰5  공기계\" class=\"thumbnail_img\" data-src=\"https://ccimg.hellomarket.com/images/2020/item/11/22/09/1022574_2894839_1.jpg?size=s4\" src=\"https://ccimage.hellomarket.com/web/2018/main/img_default_thumbnail_495x495.png\"/><label data-index=\"19\" style=\"display:none\">19</label></div><div class=\"dealer_text_position\"><img alt=\"헬로페이 아이콘\" src=\"https://ccimage.hellomarket.com/web/2020/item/ico_badge_thumbnail_hellopay_x2.png\" style=\"width:40px;height:18px\"/></div></div></div><div class=\"cont\"><div class=\"item_title\">아이폰5  공기계</div><div class=\"item_price\">60,000원</div></div></div></a></div>,\n",
       " <div class=\"item_wrapper_card\"><a class=\"card card_list\" href=\"/auto/item/168871499?viewPath=main_feed&amp;clickPath=home&amp;feedType=ranking&amp;featuredFeedType=RankingItem&amp;escrowType=common&amp;feedPosition=22\"><div class=\"card_box\"><div class=\"image_wrapper\"><div class=\"image_outside\"><div class=\"image_centerbox\"><img alt=\"현대 YF 쏘나타 Y20 프리미어\" class=\"thumbnail_img\" data-src=\"https://ccimg.hellomarket.com/images/2020/item/11/23/14/3938740_4948551_1.jpg?size=s4\" src=\"https://ccimage.hellomarket.com/web/2018/main/img_default_thumbnail_495x495.png\"/><label data-index=\"20\" style=\"display:none\">20</label></div><div class=\"dealer_text_position\"><img alt=\"헬로페이 아이콘\" src=\"https://ccimage.hellomarket.com/web/2020/item/ico_badge_thumbnail_hellopay_x2.png\" style=\"width:40px;height:18px\"/></div></div></div><div class=\"cont\"><div class=\"item_title\">현대 YF 쏘나타 Y20 프리미어</div><div class=\"item_price\">299만원</div></div></div></a></div>,\n",
       " <div class=\"item_wrapper_card\"><a class=\"card\" href=\"https://l.hellomarket.com/?t=browser&amp;u=https%3A%2F%2Fwww.kurly.com%2Fshop%2Fevent%2FkurlyEvent.php%3Fhtmid%3Devent%2Fjoin%2Fjoin_201118%26utm_source%3D3141%26utm_medium%3D2011%26utm_campaign%3D61516%26utm_content%3Dnon_homefeedlist_top_PC&amp;cpn=29&amp;img=3311&amp;grp=2485&amp;spr=5124&amp;ban=2531\" rel=\"noopener noreferrer\" target=\"_blank\"><img alt=\"이벤트 이미지\" class=\"feed_img\" data-src=\"https://ccimg.hellomarket.com/images/2020/ad/11/23/17/44_172756037.jpg\" src=\"https://ccimage.hellomarket.com/web/2018/main/img_default_thumbnail_495x495.png\"/></a></div>,\n",
       " <div class=\"item_wrapper_card\"><a class=\"card card_list\" href=\"/item/168862390?viewPath=main_feed&amp;clickPath=home&amp;feedType=ranking&amp;featuredFeedType=RankingItem&amp;escrowType=common&amp;feedPosition=24\"><div class=\"card_box\"><div class=\"image_wrapper\"><div class=\"image_outside\"><div class=\"image_centerbox\"><img alt=\"DYU 전기 자전거 (중고)\" class=\"thumbnail_img\" data-src=\"https://ccimg.hellomarket.com/images/2020/item/11/22/14/4016186_5150171_1.jpg?size=s4\" src=\"https://ccimage.hellomarket.com/web/2018/main/img_default_thumbnail_495x495.png\"/><label data-index=\"22\" style=\"display:none\">22</label></div><div class=\"dealer_text_position\"><img alt=\"헬로페이 아이콘\" src=\"https://ccimage.hellomarket.com/web/2020/item/ico_badge_thumbnail_hellopay_x2.png\" style=\"width:40px;height:18px\"/></div></div></div><div class=\"cont\"><div class=\"item_title\">DYU 전기 자전거 (중고)</div><div class=\"item_price\">350,000원</div></div></div></a></div>,\n",
       " <div class=\"item_wrapper_card\"><a class=\"card card_list\" href=\"/auto/item/168869732?viewPath=main_feed&amp;clickPath=home&amp;feedType=ranking&amp;featuredFeedType=RankingItem&amp;escrowType=common&amp;feedPosition=25\"><div class=\"card_box\"><div class=\"image_wrapper\"><div class=\"image_outside\"><div class=\"image_centerbox\"><img alt=\"기아 K7 VG270 프레스티지 프리미엄\" class=\"thumbnail_img\" data-src=\"https://ccimg.hellomarket.com/images/2020/item/11/23/11/4331553_4748031_1.jpg?size=s4\" src=\"https://ccimage.hellomarket.com/web/2018/main/img_default_thumbnail_495x495.png\"/><label data-index=\"23\" style=\"display:none\">23</label></div><div class=\"dealer_text_position\"><img alt=\"헬로페이 아이콘\" src=\"https://ccimage.hellomarket.com/web/2020/item/ico_badge_thumbnail_hellopay_x2.png\" style=\"width:40px;height:18px\"/></div></div></div><div class=\"cont\"><div class=\"item_title\">기아 K7 VG270 프레스티지 프리미엄</div><div class=\"item_price\">620만원</div></div></div></a></div>,\n",
       " <div class=\"item_wrapper_card\"><a class=\"card card_list\" href=\"/auto/item/168860542?viewPath=main_feed&amp;clickPath=home&amp;feedType=ranking&amp;featuredFeedType=RankingItem&amp;escrowType=common&amp;feedPosition=26\"><div class=\"card_box\"><div class=\"image_wrapper\"><div class=\"image_outside\"><div class=\"image_centerbox\"><img alt=\"르노삼성 뉴 SM7 아트 VQ2.3 V6 프레스티지\" class=\"thumbnail_img\" data-src=\"https://ccimg.hellomarket.com/images/2020/item/11/22/10/4618638_4587196_1.jpg?size=s4\" src=\"https://ccimage.hellomarket.com/web/2018/main/img_default_thumbnail_495x495.png\"/><label data-index=\"24\" style=\"display:none\">24</label></div><div class=\"dealer_text_position\"><img alt=\"헬로페이 아이콘\" src=\"https://ccimage.hellomarket.com/web/2020/item/ico_badge_thumbnail_hellopay_x2.png\" style=\"width:40px;height:18px\"/></div></div></div><div class=\"cont\"><div class=\"item_title\">르노삼성 뉴 SM7 아트 VQ2.3 V6 프레스티지</div><div class=\"item_price\">400만원</div></div></div></a></div>,\n",
       " <div class=\"item_wrapper_card\"><a class=\"card card_list\" href=\"/item/168860956?viewPath=main_feed&amp;clickPath=home&amp;feedType=ranking&amp;featuredFeedType=RankingItem&amp;escrowType=common&amp;feedPosition=27\"><div class=\"card_box\"><div class=\"image_wrapper\"><div class=\"image_outside\"><div class=\"image_centerbox\"><img alt=\"사다리\" class=\"thumbnail_img\" data-src=\"https://ccimg.hellomarket.com/images/2020/item/11/22/11/4908673_3573083_1.jpg?size=s4\" src=\"https://ccimage.hellomarket.com/web/2018/main/img_default_thumbnail_495x495.png\"/><label data-index=\"25\" style=\"display:none\">25</label></div><div class=\"dealer_text_position\"><img alt=\"헬로페이 아이콘\" src=\"https://ccimage.hellomarket.com/web/2020/item/ico_badge_thumbnail_hellopay_x2.png\" style=\"width:40px;height:18px\"/></div></div></div><div class=\"cont\"><div class=\"item_title\">사다리</div><div class=\"item_price\">70,000원</div></div></div></a></div>,\n",
       " <div class=\"item_wrapper_card\"><a class=\"card card_list\" href=\"/ad/item/162899594?viewPath=main_feed\"><div class=\"card_box\"><div class=\"image_wrapper\"><div class=\"image_outside\"><div class=\"image_centerbox\"><img alt=\"최고급 프리미엄진 BLUE2000 \" class=\"thumbnail_img\" data-src=\"https://ccimg.hellomarket.com/images/2020/item/03/13/10/3144916_3950688_1.jpg?size=s4\" src=\"https://ccimage.hellomarket.com/web/2018/main/img_default_thumbnail_495x495.png\"/></div></div><img alt=\"AD 아이콘\" class=\"ad_image_icon\" src=\"https://ccimage.hellomarket.com/web/2019/ad/img_thumbnail_badge_ad_x2.png\"/></div><div class=\"cont\"><div class=\"item_ad_direct_title\">최고급 프리미엄진 BLUE2000 </div></div></div></a></div>,\n",
       " <div class=\"item_wrapper_card\"><a class=\"card card_list\" href=\"/item/168868842?viewPath=main_feed&amp;clickPath=home&amp;feedType=ranking&amp;featuredFeedType=RankingItem&amp;escrowType=common&amp;feedPosition=29\"><div class=\"card_box\"><div class=\"image_wrapper\"><div class=\"image_outside\"><div class=\"image_centerbox\"><img alt=\"노스페이스 패딩 스니커즈(230)\" class=\"thumbnail_img\" data-src=\"https://ccimg.hellomarket.com/images/2020/item/11/23/09/3931531_942684_1.jpg?size=s4\" src=\"https://ccimage.hellomarket.com/web/2018/main/img_default_thumbnail_495x495.png\"/><label data-index=\"27\" style=\"display:none\">27</label></div><div class=\"dealer_text_position\"><img alt=\"헬로페이 아이콘\" src=\"https://ccimage.hellomarket.com/web/2020/item/ico_badge_thumbnail_hellopay_x2.png\" style=\"width:40px;height:18px\"/><img alt=\"무료배송 아이콘\" src=\"https://ccimage.hellomarket.com/web/2020/item/ico_badge_card_freeshipping_x2.png\" style=\"width:40px;height:18px\"/></div></div></div><div class=\"cont\"><div class=\"item_title\">노스페이스 패딩 스니커즈(230)</div><div class=\"item_price\">35,000원</div></div></div></a></div>,\n",
       " <div class=\"item_wrapper_card\"><a class=\"card card_list\" href=\"/item/168868686?viewPath=main_feed&amp;clickPath=home&amp;feedType=ranking&amp;featuredFeedType=RankingItem&amp;escrowType=escrow&amp;feedPosition=30\"><div class=\"card_box\"><div class=\"image_wrapper\"><div class=\"image_outside\"><div class=\"image_centerbox\"><img alt=\"칠성사이다70주년 한정판매 BTS 폴딩박스\" class=\"thumbnail_img\" data-src=\"https://ccimg.hellomarket.com/images/2020/item/11/23/09/0928699_1131470_1.jpg?size=s4\" src=\"https://ccimage.hellomarket.com/web/2018/main/img_default_thumbnail_495x495.png\"/><label data-index=\"28\" style=\"display:none\">28</label></div><div class=\"dealer_text_position\"><img alt=\"헬로페이 아이콘\" src=\"https://ccimage.hellomarket.com/web/2020/item/ico_badge_thumbnail_hellopay_x2.png\" style=\"width:40px;height:18px\"/></div></div></div><div class=\"cont\"><div class=\"item_title\">칠성사이다70주년 한정판매 BTS 폴딩박스</div><div class=\"item_price\">35,000원</div></div></div></a></div>,\n",
       " <div class=\"item_wrapper_card\"><a class=\"card card_list\" href=\"/item/168859499?viewPath=main_feed&amp;clickPath=home&amp;feedType=ranking&amp;featuredFeedType=RankingItem&amp;escrowType=common&amp;feedPosition=31\"><div class=\"card_box\"><div class=\"image_wrapper\"><div class=\"image_outside\"><div class=\"image_centerbox\"><img alt=\"라코스테 연그레이 가디건 3사이즈\" class=\"thumbnail_img\" data-src=\"https://ccimg.hellomarket.com/images/2020/item/11/22/02/0346720_5148711_1.jpg?size=s4\" src=\"https://ccimage.hellomarket.com/web/2018/main/img_default_thumbnail_495x495.png\"/><label data-index=\"29\" style=\"display:none\">29</label></div><div class=\"dealer_text_position\"><img alt=\"헬로페이 아이콘\" src=\"https://ccimage.hellomarket.com/web/2020/item/ico_badge_thumbnail_hellopay_x2.png\" style=\"width:40px;height:18px\"/><img alt=\"무료배송 아이콘\" src=\"https://ccimage.hellomarket.com/web/2020/item/ico_badge_card_freeshipping_x2.png\" style=\"width:40px;height:18px\"/></div></div></div><div class=\"cont\"><div class=\"item_title\">라코스테 연그레이 가디건 3사이즈</div><div class=\"item_price\">34,000원</div></div></div></a></div>,\n",
       " <div class=\"item_wrapper_card\"><a class=\"card card_list\" href=\"/item/168870627?viewPath=main_feed&amp;clickPath=home&amp;feedType=ranking&amp;featuredFeedType=RankingItem&amp;escrowType=common&amp;feedPosition=32\"><div class=\"card_box\"><div class=\"image_wrapper\"><div class=\"image_outside\"><div class=\"image_centerbox\"><img alt=\"50인치 티비TV  대형브랜드 필립스 팝니다\" class=\"thumbnail_img\" data-src=\"https://ccimg.hellomarket.com/images/2020/item/11/23/13/2048798_4953191_1.jpg?size=s4\" src=\"https://ccimage.hellomarket.com/web/2018/main/img_default_thumbnail_495x495.png\"/><label data-index=\"30\" style=\"display:none\">30</label></div><div class=\"dealer_text_position\"><img alt=\"헬로페이 아이콘\" src=\"https://ccimage.hellomarket.com/web/2020/item/ico_badge_thumbnail_hellopay_x2.png\" style=\"width:40px;height:18px\"/></div></div></div><div class=\"cont\"><div class=\"item_title\">50인치 티비TV  대형브랜드 필립스 팝니다</div><div class=\"item_price\">350,000원</div></div></div></a></div>,\n",
       " <div class=\"item_wrapper_card\"><a class=\"card card_list\" href=\"/item/168864572?viewPath=main_feed&amp;clickPath=home&amp;feedType=ranking&amp;featuredFeedType=RankingItem&amp;escrowType=common&amp;feedPosition=33\"><div class=\"card_box\"><div class=\"image_wrapper\"><div class=\"image_outside\"><div class=\"image_centerbox\"><img alt=\"비비탄총\" class=\"thumbnail_img\" data-src=\"https://ccimg.hellomarket.com/images/2020/item/11/22/18/2128313_3374558_1.jpg?size=s4\" src=\"https://ccimage.hellomarket.com/web/2018/main/img_default_thumbnail_495x495.png\"/><label data-index=\"31\" style=\"display:none\">31</label></div><div class=\"dealer_text_position\"><img alt=\"헬로페이 아이콘\" src=\"https://ccimage.hellomarket.com/web/2020/item/ico_badge_thumbnail_hellopay_x2.png\" style=\"width:40px;height:18px\"/></div></div></div><div class=\"cont\"><div class=\"item_title\">비비탄총</div><div class=\"item_price\">20,000원</div></div></div></a></div>,\n",
       " <div class=\"item_wrapper_card\"><a class=\"card card_list\" href=\"/ad/item/167783458?viewPath=main_feed\"><div class=\"card_box\"><div class=\"image_wrapper\"><div class=\"image_outside\"><div class=\"image_centerbox\"><img alt=\"장뇌삼 한뿌리  2,000원\" class=\"thumbnail_img\" data-src=\"https://ccimg.hellomarket.com/images/2020/item/08/13/13/3749239_4885489_1.jpg?size=s4\" src=\"https://ccimage.hellomarket.com/web/2018/main/img_default_thumbnail_495x495.png\"/></div></div><img alt=\"AD 아이콘\" class=\"ad_image_icon\" src=\"https://ccimage.hellomarket.com/web/2019/ad/img_thumbnail_badge_ad_x2.png\"/></div><div class=\"cont\"><div class=\"item_ad_direct_title\">장뇌삼 한뿌리  2,000원</div></div></div></a></div>,\n",
       " <div class=\"item_wrapper_card\"><a class=\"card card_list\" href=\"/item/168860224?viewPath=main_feed&amp;clickPath=home&amp;feedType=ranking&amp;featuredFeedType=RankingItem&amp;escrowType=common&amp;feedPosition=35\"><div class=\"card_box\"><div class=\"image_wrapper\"><div class=\"image_outside\"><div class=\"image_centerbox\"><img alt=\"JBL서버우퍼 스피커 SRX718S일괄1200w×2\" class=\"thumbnail_img\" data-src=\"https://ccimg.hellomarket.com/images/2020/item/11/22/09/3325726_3983886_1.jpg?size=s4\" src=\"https://ccimage.hellomarket.com/web/2018/main/img_default_thumbnail_495x495.png\"/><label data-index=\"33\" style=\"display:none\">33</label></div><div class=\"dealer_text_position\"><img alt=\"헬로페이 아이콘\" src=\"https://ccimage.hellomarket.com/web/2020/item/ico_badge_thumbnail_hellopay_x2.png\" style=\"width:40px;height:18px\"/></div></div></div><div class=\"cont\"><div class=\"item_title\">JBL서버우퍼 스피커 SRX718S일괄1200w×2</div><div class=\"item_price\">1,400,000원</div></div></div></a></div>,\n",
       " <div class=\"item_wrapper_card\"><a class=\"card card_list\" href=\"/auto/item/168881834?viewPath=main_feed&amp;clickPath=home&amp;feedType=ranking&amp;featuredFeedType=RankingItem&amp;escrowType=common&amp;feedPosition=36\"><div class=\"card_box\"><div class=\"image_wrapper\"><div class=\"image_outside\"><div class=\"image_centerbox\"><img alt=\"기아 뉴 오피러스 LPi GH270 고급 기본\" class=\"thumbnail_img\" data-src=\"https://ccimg.hellomarket.com/images/2020/item/11/24/13/2944184_1605678_1.jpg?size=s4\" src=\"https://ccimage.hellomarket.com/web/2018/main/img_default_thumbnail_495x495.png\"/><label data-index=\"34\" style=\"display:none\">34</label></div><div class=\"dealer_text_position\"><img alt=\"헬로페이 아이콘\" src=\"https://ccimage.hellomarket.com/web/2020/item/ico_badge_thumbnail_hellopay_x2.png\" style=\"width:40px;height:18px\"/></div></div></div><div class=\"cont\"><div class=\"item_title\">기아 뉴 오피러스 LPi GH270 고급 기본</div><div class=\"item_price\">150만원</div></div></div></a></div>,\n",
       " <div class=\"item_wrapper_card\"><a class=\"card card_list\" href=\"/item/168863150?viewPath=main_feed&amp;clickPath=home&amp;feedType=ranking&amp;featuredFeedType=RankingItem&amp;escrowType=common&amp;feedPosition=37\"><div class=\"card_box\"><div class=\"image_wrapper\"><div class=\"image_outside\"><div class=\"image_centerbox\"><img alt=\"스텐 가마솥\" class=\"thumbnail_img\" data-src=\"https://ccimg.hellomarket.com/images/2020/item/11/22/15/5830545_3912938_1.jpg?size=s4\" src=\"https://ccimage.hellomarket.com/web/2018/main/img_default_thumbnail_495x495.png\"/><label data-index=\"35\" style=\"display:none\">35</label></div><div class=\"dealer_text_position\"><img alt=\"헬로페이 아이콘\" src=\"https://ccimage.hellomarket.com/web/2020/item/ico_badge_thumbnail_hellopay_x2.png\" style=\"width:40px;height:18px\"/><img alt=\"무료배송 아이콘\" src=\"https://ccimage.hellomarket.com/web/2020/item/ico_badge_card_freeshipping_x2.png\" style=\"width:40px;height:18px\"/></div></div></div><div class=\"cont\"><div class=\"item_title\">스텐 가마솥</div><div class=\"item_price\">20,000원</div></div></div></a></div>,\n",
       " <div class=\"item_wrapper_card\"><a class=\"card card_list\" href=\"/item/168858143?viewPath=main_feed&amp;clickPath=home&amp;feedType=ranking&amp;featuredFeedType=RankingItem&amp;escrowType=common&amp;feedPosition=38\"><div class=\"card_box\"><div class=\"image_wrapper\"><div class=\"image_outside\"><div class=\"image_centerbox\"><img alt=\"LG 트롬 6모션 13kg 건조기능 드럼세탁기 (FR1352NCZ)\" class=\"thumbnail_img\" data-src=\"https://ccimg.hellomarket.com/images/2020/item/11/21/22/3028421_5108983_1.jpg?size=s4\" src=\"https://ccimage.hellomarket.com/web/2018/main/img_default_thumbnail_495x495.png\"/><label data-index=\"36\" style=\"display:none\">36</label></div><div class=\"dealer_text_position\"><img alt=\"헬로페이 아이콘\" src=\"https://ccimage.hellomarket.com/web/2020/item/ico_badge_thumbnail_hellopay_x2.png\" style=\"width:40px;height:18px\"/></div></div></div><div class=\"cont\"><div class=\"item_title\">LG 트롬 6모션 13kg 건조기능 드럼세탁기 (FR1352NCZ)</div><div class=\"item_price\">250,000원</div></div></div></a></div>,\n",
       " <div class=\"item_wrapper_card\"><a class=\"card card_list\" href=\"/ad/item/168656922?viewPath=main_feed\"><div class=\"card_box\"><div class=\"image_wrapper\"><div class=\"image_outside\"><div class=\"image_centerbox\"><img alt=\"▶새상품 양털충전제 트레닝복 \" class=\"thumbnail_img\" data-src=\"https://ccimg.hellomarket.com/images/2020/item/11/03/15/3605952_3242787_10.jpg?size=s4\" src=\"https://ccimage.hellomarket.com/web/2018/main/img_default_thumbnail_495x495.png\"/></div></div><img alt=\"AD 아이콘\" class=\"ad_image_icon\" src=\"https://ccimage.hellomarket.com/web/2019/ad/img_thumbnail_badge_ad_x2.png\"/></div><div class=\"cont\"><div class=\"item_ad_direct_title\">▶새상품 양털충전제 트레닝복 </div></div></div></a></div>,\n",
       " <div class=\"item_wrapper_card\"><a class=\"card card_list\" href=\"/item/168860234?viewPath=main_feed&amp;clickPath=home&amp;feedType=ranking&amp;featuredFeedType=RankingItem&amp;escrowType=common&amp;feedPosition=40\"><div class=\"card_box\"><div class=\"image_wrapper\"><div class=\"image_outside\"><div class=\"image_centerbox\"><img alt=\"dvd오디오\" class=\"thumbnail_img\" data-src=\"https://ccimg.hellomarket.com/images/2020/item/11/22/09/3544585_2672419_1.jpg?size=s4\" src=\"https://ccimage.hellomarket.com/web/2018/main/img_default_thumbnail_495x495.png\"/><label data-index=\"38\" style=\"display:none\">38</label></div><div class=\"dealer_text_position\"><img alt=\"헬로페이 아이콘\" src=\"https://ccimage.hellomarket.com/web/2020/item/ico_badge_thumbnail_hellopay_x2.png\" style=\"width:40px;height:18px\"/><img alt=\"무료배송 아이콘\" src=\"https://ccimage.hellomarket.com/web/2020/item/ico_badge_card_freeshipping_x2.png\" style=\"width:40px;height:18px\"/></div></div></div><div class=\"cont\"><div class=\"item_title\">dvd오디오</div><div class=\"item_price\">50,000원</div></div></div></a></div>,\n",
       " <div class=\"item_wrapper_card\"><a class=\"card card_list\" href=\"/item/168861688?viewPath=main_feed&amp;clickPath=home&amp;feedType=ranking&amp;featuredFeedType=RankingItem&amp;escrowType=common&amp;feedPosition=41\"><div class=\"card_box\"><div class=\"image_wrapper\"><div class=\"image_outside\"><div class=\"image_centerbox\"><img alt=\"전기드릴\" class=\"thumbnail_img\" data-src=\"https://ccimg.hellomarket.com/images/2020/item/11/22/13/2346341_5100029_1.jpg?size=s4\" src=\"https://ccimage.hellomarket.com/web/2018/main/img_default_thumbnail_495x495.png\"/><label data-index=\"39\" style=\"display:none\">39</label></div><div class=\"dealer_text_position\"><img alt=\"헬로페이 아이콘\" src=\"https://ccimage.hellomarket.com/web/2020/item/ico_badge_thumbnail_hellopay_x2.png\" style=\"width:40px;height:18px\"/></div></div></div><div class=\"cont\"><div class=\"item_title\">전기드릴</div><div class=\"item_price\">10,000원</div></div></div></a></div>,\n",
       " <div class=\"item_wrapper_card\"><a class=\"card card_list\" href=\"/item/168864072?viewPath=main_feed&amp;clickPath=home&amp;feedType=ranking&amp;featuredFeedType=RankingItem&amp;escrowType=common&amp;feedPosition=42\"><div class=\"card_box\"><div class=\"image_wrapper\"><div class=\"image_outside\"><div class=\"image_centerbox\"><img alt=\"트랙터 47\" class=\"thumbnail_img\" data-src=\"https://ccimg.hellomarket.com/images/2020/item/11/22/17/1857959_1722864_1.jpg?size=s4\" src=\"https://ccimage.hellomarket.com/web/2018/main/img_default_thumbnail_495x495.png\"/><label data-index=\"40\" style=\"display:none\">40</label></div><div class=\"dealer_text_position\"><img alt=\"헬로페이 아이콘\" src=\"https://ccimage.hellomarket.com/web/2020/item/ico_badge_thumbnail_hellopay_x2.png\" style=\"width:40px;height:18px\"/></div></div></div><div class=\"cont\"><div class=\"item_title\">트랙터 47</div><div class=\"item_price\">6,500,000원</div></div></div></a></div>,\n",
       " <div class=\"item_wrapper_card\"><a class=\"card card_list\" href=\"/item/168863905?viewPath=main_feed&amp;clickPath=home&amp;feedType=ranking&amp;featuredFeedType=RankingItem&amp;escrowType=escrow&amp;feedPosition=43\"><div class=\"card_box\"><div class=\"image_wrapper\"><div class=\"image_outside\"><div class=\"image_centerbox\"><img alt=\"디스커버리 오리털패딩 95사이즈\" class=\"thumbnail_img\" data-src=\"https://ccimg.hellomarket.com/images/2020/item/11/22/17/0629062_4963719_1.jpg?size=s4\" src=\"https://ccimage.hellomarket.com/web/2018/main/img_default_thumbnail_495x495.png\"/><label data-index=\"41\" style=\"display:none\">41</label></div><div class=\"dealer_text_position\"><img alt=\"헬로페이 아이콘\" src=\"https://ccimage.hellomarket.com/web/2020/item/ico_badge_thumbnail_hellopay_x2.png\" style=\"width:40px;height:18px\"/><img alt=\"무료배송 아이콘\" src=\"https://ccimage.hellomarket.com/web/2020/item/ico_badge_card_freeshipping_x2.png\" style=\"width:40px;height:18px\"/></div></div></div><div class=\"cont\"><div class=\"item_title\">디스커버리 오리털패딩 95사이즈</div><div class=\"item_price\">60,000원</div></div></div></a></div>,\n",
       " <div class=\"item_wrapper_card\"><a class=\"card card_list\" href=\"/ad/item/168784903?viewPath=main_feed\"><div class=\"card_box\"><div class=\"image_wrapper\"><div class=\"image_outside\"><div class=\"image_centerbox\"><img alt=\"실투자금 1천만원에 초역세권 오피스텔/높은전세가갭투자로5천만원시세차익\" class=\"thumbnail_img\" data-src=\"https://ccimg.hellomarket.com/images/2020/item/11/15/14/1245066_4983445_1.jpg?size=s4\" src=\"https://ccimage.hellomarket.com/web/2018/main/img_default_thumbnail_495x495.png\"/></div></div><img alt=\"AD 아이콘\" class=\"ad_image_icon\" src=\"https://ccimage.hellomarket.com/web/2019/ad/img_thumbnail_badge_ad_x2.png\"/></div><div class=\"cont\"><div class=\"item_ad_direct_title\">실투자금 1천만원에 초역세권 오피스텔/높은전세가갭투자로5천만원시세차익</div></div></div></a></div>,\n",
       " <div class=\"item_wrapper_card\"><a class=\"card card_list\" href=\"/item/168862072?viewPath=main_feed&amp;clickPath=home&amp;feedType=ranking&amp;featuredFeedType=RankingItem&amp;escrowType=common&amp;feedPosition=45\"><div class=\"card_box\"><div class=\"image_wrapper\"><div class=\"image_outside\"><div class=\"image_centerbox\"><img alt=\"에어팟 프로 Super Copy(미사용) + 실리콘 케이스\" class=\"thumbnail_img\" data-src=\"https://ccimg.hellomarket.com/images/2020/item/11/22/14/0514347_4997813_1.jpg?size=s4\" src=\"https://ccimage.hellomarket.com/web/2018/main/img_default_thumbnail_495x495.png\"/><label data-index=\"43\" style=\"display:none\">43</label></div><div class=\"dealer_text_position\"><img alt=\"헬로페이 아이콘\" src=\"https://ccimage.hellomarket.com/web/2020/item/ico_badge_thumbnail_hellopay_x2.png\" style=\"width:40px;height:18px\"/><img alt=\"무료배송 아이콘\" src=\"https://ccimage.hellomarket.com/web/2020/item/ico_badge_card_freeshipping_x2.png\" style=\"width:40px;height:18px\"/></div></div></div><div class=\"cont\"><div class=\"item_title\">에어팟 프로 Super Copy(미사용) + 실리콘 케이스</div><div class=\"item_price\">55,000원</div></div></div></a></div>,\n",
       " <div class=\"item_wrapper_card\"><a class=\"card card_list\" href=\"/item/168860741?viewPath=main_feed&amp;clickPath=home&amp;feedType=ranking&amp;featuredFeedType=RankingItem&amp;escrowType=common&amp;feedPosition=46\"><div class=\"card_box\"><div class=\"image_wrapper\"><div class=\"image_outside\"><div class=\"image_centerbox\"><img alt=\"3인용 쇼파 팔아요\" class=\"thumbnail_img\" data-src=\"https://ccimg.hellomarket.com/images/2020/item/11/22/11/1548692_2942247_1.jpg?size=s4\" src=\"https://ccimage.hellomarket.com/web/2018/main/img_default_thumbnail_495x495.png\"/><label data-index=\"44\" style=\"display:none\">44</label></div><div class=\"dealer_text_position\"><img alt=\"헬로페이 아이콘\" src=\"https://ccimage.hellomarket.com/web/2020/item/ico_badge_thumbnail_hellopay_x2.png\" style=\"width:40px;height:18px\"/></div></div></div><div class=\"cont\"><div class=\"item_title\">3인용 쇼파 팔아요</div><div class=\"item_price\">70,000원</div></div></div></a></div>,\n",
       " <div class=\"item_wrapper_card\"><a class=\"card card_list\" href=\"/auto/item/168864569?viewPath=main_feed&amp;clickPath=home&amp;feedType=ranking&amp;featuredFeedType=RankingItem&amp;escrowType=common&amp;feedPosition=47\"><div class=\"card_box\"><div class=\"image_wrapper\"><div class=\"image_outside\"><div class=\"image_centerbox\"><img alt=\"쉐보레(대우) 스파크 1.0 LS\" class=\"thumbnail_img\" data-src=\"https://ccimg.hellomarket.com/images/2020/item/11/22/21/2432816_5003514_1.jpg?size=s4\" src=\"https://ccimage.hellomarket.com/web/2018/main/img_default_thumbnail_495x495.png\"/><label data-index=\"45\" style=\"display:none\">45</label></div><div class=\"dealer_text_position\"><img alt=\"헬로페이 아이콘\" src=\"https://ccimage.hellomarket.com/web/2020/item/ico_badge_thumbnail_hellopay_x2.png\" style=\"width:40px;height:18px\"/></div></div></div><div class=\"cont\"><div class=\"item_title\">쉐보레(대우) 스파크 1.0 LS</div><div class=\"item_price\">250만원</div></div></div></a></div>,\n",
       " <div class=\"item_wrapper_card\"><a class=\"card card_list\" href=\"/item/168870216?viewPath=main_feed&amp;clickPath=home&amp;feedType=ranking&amp;featuredFeedType=RankingItem&amp;escrowType=common&amp;feedPosition=48\"><div class=\"card_box\"><div class=\"image_wrapper\"><div class=\"image_outside\"><div class=\"image_centerbox\"><img alt=\"jbl 블루투스스피커\" class=\"thumbnail_img\" data-src=\"https://ccimg.hellomarket.com/images/2020/item/11/23/12/3628952_2837869_1.jpg?size=s4\" src=\"https://ccimage.hellomarket.com/web/2018/main/img_default_thumbnail_495x495.png\"/><label data-index=\"46\" style=\"display:none\">46</label></div><div class=\"dealer_text_position\"><img alt=\"헬로페이 아이콘\" src=\"https://ccimage.hellomarket.com/web/2020/item/ico_badge_thumbnail_hellopay_x2.png\" style=\"width:40px;height:18px\"/><img alt=\"무료배송 아이콘\" src=\"https://ccimage.hellomarket.com/web/2020/item/ico_badge_card_freeshipping_x2.png\" style=\"width:40px;height:18px\"/></div></div></div><div class=\"cont\"><div class=\"item_title\">jbl 블루투스스피커</div><div class=\"item_price\">125,000원</div></div></div></a></div>,\n",
       " <div class=\"item_wrapper_card\"><a class=\"card card_list\" href=\"/ad/item/168571753?viewPath=main_feed\"><div class=\"card_box\"><div class=\"image_wrapper\"><div class=\"image_outside\"><div class=\"image_centerbox\"><img alt=\"[판매]사무용,게임용,녹스용,라이젠,인텔10세대 조립컴퓨터\" class=\"thumbnail_img\" data-src=\"https://ccimg.hellomarket.com/images/2020/item/10/26/17/3358528_3316821_1.jpg?size=s4\" src=\"https://ccimage.hellomarket.com/web/2018/main/img_default_thumbnail_495x495.png\"/></div></div><img alt=\"AD 아이콘\" class=\"ad_image_icon\" src=\"https://ccimage.hellomarket.com/web/2019/ad/img_thumbnail_badge_ad_x2.png\"/></div><div class=\"cont\"><div class=\"item_ad_direct_title\">[판매]사무용,게임용,녹스용,라이젠,인텔10세대 조립컴퓨터</div></div></div></a></div>,\n",
       " <div class=\"item_wrapper_card\"><a class=\"card card_list\" href=\"/item/168871237?viewPath=main_feed&amp;clickPath=home&amp;feedType=ranking&amp;featuredFeedType=RankingItem&amp;escrowType=common&amp;feedPosition=50\"><div class=\"card_box\"><div class=\"image_wrapper\"><div class=\"image_outside\"><div class=\"image_centerbox\"><img alt=\"옛날무쇠솥\" class=\"thumbnail_img\" data-src=\"https://ccimg.hellomarket.com/images/2020/item/11/23/14/1730427_4222567_1.jpg?size=s4\" src=\"https://ccimage.hellomarket.com/web/2018/main/img_default_thumbnail_495x495.png\"/><label data-index=\"48\" style=\"display:none\">48</label></div><div class=\"dealer_text_position\"><img alt=\"헬로페이 아이콘\" src=\"https://ccimage.hellomarket.com/web/2020/item/ico_badge_thumbnail_hellopay_x2.png\" style=\"width:40px;height:18px\"/></div></div></div><div class=\"cont\"><div class=\"item_title\">옛날무쇠솥</div><div class=\"item_price\">40,000원</div></div></div></a></div>,\n",
       " <div class=\"item_wrapper_card\"><a class=\"card card_list\" href=\"/item/168859783?viewPath=main_feed&amp;clickPath=home&amp;feedType=ranking&amp;featuredFeedType=RankingItem&amp;escrowType=common&amp;feedPosition=51\"><div class=\"card_box\"><div class=\"image_wrapper\"><div class=\"image_outside\"><div class=\"image_centerbox\"><img alt=\"갤럭시워치3팝니다\" class=\"thumbnail_img\" data-src=\"https://ccimg.hellomarket.com/images/2020/item/11/22/04/2916527_4540669_1.jpg?size=s4\" src=\"https://ccimage.hellomarket.com/web/2018/main/img_default_thumbnail_495x495.png\"/><label data-index=\"49\" style=\"display:none\">49</label></div><div class=\"dealer_text_position\"><img alt=\"헬로페이 아이콘\" src=\"https://ccimage.hellomarket.com/web/2020/item/ico_badge_thumbnail_hellopay_x2.png\" style=\"width:40px;height:18px\"/><img alt=\"무료배송 아이콘\" src=\"https://ccimage.hellomarket.com/web/2020/item/ico_badge_card_freeshipping_x2.png\" style=\"width:40px;height:18px\"/></div></div></div><div class=\"cont\"><div class=\"item_title\">갤럭시워치3팝니다</div><div class=\"item_price\">300,000원</div></div></div></a></div>]"
      ]
     },
     "execution_count": 146,
     "metadata": {},
     "output_type": "execute_result"
    }
   ],
   "source": [
    "items = dom.find_all(\"div\", attrs={\"class\":\"item_wrapper_card\"})\n",
    "items"
   ]
  },
  {
   "cell_type": "code",
   "execution_count": 141,
   "metadata": {},
   "outputs": [
    {
     "data": {
      "text/plain": [
       "<div class=\"item_title\">갤럭시워치3팝니다</div>"
      ]
     },
     "execution_count": 141,
     "metadata": {},
     "output_type": "execute_result"
    }
   ],
   "source": [
    "title = item.find(\"div\", attrs={\"class\":\"item_title\"})\n",
    "title"
   ]
  },
  {
   "cell_type": "code",
   "execution_count": 97,
   "metadata": {},
   "outputs": [
    {
     "data": {
      "text/plain": [
       "'/item/168859783?viewPath=main_feed&clickPath=home&feedType=ranking&featuredFeedType=RankingItem&escrowType=common&feedPosition=51'"
      ]
     },
     "execution_count": 97,
     "metadata": {},
     "output_type": "execute_result"
    }
   ],
   "source": [
    "link = item.find(\"a\", attrs={\"class\":\"card card_list\"})[\"href\"]\n",
    "link"
   ]
  },
  {
   "cell_type": "code",
   "execution_count": 91,
   "metadata": {
    "collapsed": true
   },
   "outputs": [
    {
     "data": {
      "text/plain": [
       "[<div class=\"item_title\">아이패드 에어3세대 실버</div>,\n",
       " <div class=\"item_title\">전동킥보드 기함급 에코드라이브 타이탄 듀얼모터 팝니다.</div>,\n",
       " <div class=\"item_title\">ps4 슬림500gb타이틀과함께 교신가능</div>,\n",
       " <div class=\"item_title\">아이폰 8 레드 64기가 (홈버튼 잘안됨, 카메라 안됨)</div>,\n",
       " <div class=\"item_title\">스파이더 집업셋트 맨투맨</div>,\n",
       " <div class=\"item_title\">담쟁이 덩굴 분재 토종식물</div>,\n",
       " <div class=\"item_title\">서피스프로5 i5 128기가 키보드커버 펜 판매합니다</div>,\n",
       " <div class=\"item_title\">가죽자켓</div>,\n",
       " <div class=\"item_title\">김장김치 100%국내산 10kg</div>,\n",
       " <div class=\"item_title\">에몬스 전동리클라이너 소파(정가 271)</div>,\n",
       " <div class=\"item_title\">알톤 라레이 메리트 1.8 자전거 싸게 판매합니다 !</div>,\n",
       " <div class=\"item_title\">♥♥♥ 겨울제철 합천 하우스 딸기 1kg 2kg 판매해요 ♥♥♥</div>,\n",
       " <div class=\"item_title\">해적선 무쇠제품 무게 나감</div>,\n",
       " <div class=\"item_title\">정품 펜디 여성시계</div>,\n",
       " <div class=\"item_title\">앰프 와 튜너</div>,\n",
       " <div class=\"item_title\">아이폰5  공기계</div>,\n",
       " <div class=\"item_title\">현대 YF 쏘나타 Y20 프리미어</div>,\n",
       " <div class=\"item_title\">DYU 전기 자전거 (중고)</div>,\n",
       " <div class=\"item_title\">기아 K7 VG270 프레스티지 프리미엄</div>,\n",
       " <div class=\"item_title\">르노삼성 뉴 SM7 아트 VQ2.3 V6 프레스티지</div>,\n",
       " <div class=\"item_title\">사다리</div>,\n",
       " <div class=\"item_title\">노스페이스 패딩 스니커즈(230)</div>,\n",
       " <div class=\"item_title\">칠성사이다70주년 한정판매 BTS 폴딩박스</div>,\n",
       " <div class=\"item_title\">라코스테 연그레이 가디건 3사이즈</div>,\n",
       " <div class=\"item_title\">50인치 티비TV  대형브랜드 필립스 팝니다</div>,\n",
       " <div class=\"item_title\">비비탄총</div>,\n",
       " <div class=\"item_title\">JBL서버우퍼 스피커 SRX718S일괄1200w×2</div>,\n",
       " <div class=\"item_title\">기아 뉴 오피러스 LPi GH270 고급 기본</div>,\n",
       " <div class=\"item_title\">스텐 가마솥</div>,\n",
       " <div class=\"item_title\">LG 트롬 6모션 13kg 건조기능 드럼세탁기 (FR1352NCZ)</div>,\n",
       " <div class=\"item_title\">dvd오디오</div>,\n",
       " <div class=\"item_title\">전기드릴</div>,\n",
       " <div class=\"item_title\">트랙터 47</div>,\n",
       " <div class=\"item_title\">디스커버리 오리털패딩 95사이즈</div>,\n",
       " <div class=\"item_title\">에어팟 프로 Super Copy(미사용) + 실리콘 케이스</div>,\n",
       " <div class=\"item_title\">3인용 쇼파 팔아요</div>,\n",
       " <div class=\"item_title\">쉐보레(대우) 스파크 1.0 LS</div>,\n",
       " <div class=\"item_title\">jbl 블루투스스피커</div>,\n",
       " <div class=\"item_title\">옛날무쇠솥</div>,\n",
       " <div class=\"item_title\">갤럭시워치3팝니다</div>]"
      ]
     },
     "execution_count": 91,
     "metadata": {},
     "output_type": "execute_result"
    }
   ],
   "source": [
    "title = dom.find_all(\"div\", attrs={\"class\":\"item_title\"})\n",
    "title"
   ]
  },
  {
   "cell_type": "code",
   "execution_count": 78,
   "metadata": {
    "collapsed": true
   },
   "outputs": [
    {
     "data": {
      "text/plain": [
       "[<div class=\"item_price\">430,000원</div>,\n",
       " <div class=\"item_price\">750,000원</div>,\n",
       " <div class=\"item_price\">160,000원</div>,\n",
       " <div class=\"item_price\">70,000원</div>,\n",
       " <div class=\"item_price\">200,000원</div>,\n",
       " <div class=\"item_price\">35,000원</div>,\n",
       " <div class=\"item_price\">450,000원</div>,\n",
       " <div class=\"item_price\">12,000원</div>,\n",
       " <div class=\"item_price\">48,000원</div>,\n",
       " <div class=\"item_price\">1,500,000원</div>,\n",
       " <div class=\"item_price\">250,000원</div>,\n",
       " <div class=\"item_price\">30,900원</div>,\n",
       " <div class=\"item_price\">440,000원</div>,\n",
       " <div class=\"item_price\">290,000원</div>,\n",
       " <div class=\"item_price\">130,000원</div>,\n",
       " <div class=\"item_price\">60,000원</div>,\n",
       " <div class=\"item_price\">299만원</div>,\n",
       " <div class=\"item_price\">350,000원</div>,\n",
       " <div class=\"item_price\">620만원</div>,\n",
       " <div class=\"item_price\">400만원</div>,\n",
       " <div class=\"item_price\">70,000원</div>,\n",
       " <div class=\"item_price\">35,000원</div>,\n",
       " <div class=\"item_price\">35,000원</div>,\n",
       " <div class=\"item_price\">34,000원</div>,\n",
       " <div class=\"item_price\">350,000원</div>,\n",
       " <div class=\"item_price\">20,000원</div>,\n",
       " <div class=\"item_price\">1,400,000원</div>,\n",
       " <div class=\"item_price\">150만원</div>,\n",
       " <div class=\"item_price\">20,000원</div>,\n",
       " <div class=\"item_price\">250,000원</div>,\n",
       " <div class=\"item_price\">50,000원</div>,\n",
       " <div class=\"item_price\">10,000원</div>,\n",
       " <div class=\"item_price\">6,500,000원</div>,\n",
       " <div class=\"item_price\">60,000원</div>,\n",
       " <div class=\"item_price\">55,000원</div>,\n",
       " <div class=\"item_price\">70,000원</div>,\n",
       " <div class=\"item_price\">250만원</div>,\n",
       " <div class=\"item_price\">125,000원</div>,\n",
       " <div class=\"item_price\">40,000원</div>,\n",
       " <div class=\"item_price\">300,000원</div>]"
      ]
     },
     "execution_count": 78,
     "metadata": {},
     "output_type": "execute_result"
    }
   ],
   "source": [
    "price = dom.find_all(\"div\", attrs={\"class\":\"item_price\"})\n",
    "price"
   ]
  },
  {
   "cell_type": "code",
   "execution_count": 87,
   "metadata": {
    "collapsed": true
   },
   "outputs": [
    {
     "data": {
      "text/plain": [
       "[<div class=\"item_ad_direct_title\">▶새상품 양털충전제 패딩바지</div>,\n",
       " <div class=\"item_ad_direct_title\">하객룩 / 데이트룩 / 오피스룩 / 원피스  / 코트 </div>,\n",
       " <div class=\"item_ad_direct_title\">최고급 프리미엄진 BLUE2000 </div>,\n",
       " <div class=\"item_ad_direct_title\">장뇌삼 한뿌리  2,000원</div>,\n",
       " <div class=\"item_ad_direct_title\">▶새상품 양털충전제 트레닝복 </div>,\n",
       " <div class=\"item_ad_direct_title\">실투자금 1천만원에 초역세권 오피스텔/높은전세가갭투자로5천만원시세차익</div>,\n",
       " <div class=\"item_ad_direct_title\">[판매]사무용,게임용,녹스용,라이젠,인텔10세대 조립컴퓨터</div>]"
      ]
     },
     "execution_count": 87,
     "metadata": {},
     "output_type": "execute_result"
    }
   ],
   "source": [
    "direct_title = dom.find_all(\"div\", attrs={\"class\":\"item_ad_direct_title\"})\n",
    "direct_title"
   ]
  },
  {
   "cell_type": "code",
   "execution_count": 134,
   "metadata": {},
   "outputs": [],
   "source": [
    "#print(items[0].find(\"div\", attrs={\"class\":\"item_title\"}).get_text()) # 가격"
   ]
  },
  {
   "cell_type": "code",
   "execution_count": 149,
   "metadata": {
    "scrolled": true
   },
   "outputs": [
    {
     "data": {
      "text/plain": [
       "('갤럭시워치3팝니다',\n",
       " '300,000원',\n",
       " '/item/168859783?viewPath=main_feed&clickPath=home&feedType=ranking&featuredFeedType=RankingItem&escrowType=common&feedPosition=51')"
      ]
     },
     "execution_count": 149,
     "metadata": {},
     "output_type": "execute_result"
    }
   ],
   "source": [
    "data1 = item.find(\"div\", attrs={\"class\":\"item_title\"}).get_text()\n",
    "data2 = item.find(\"div\", attrs={\"class\":\"item_price\"}).get_text()\n",
    "data3 = item.find(\"a\", attrs={\"class\":\"card card_list\"})[\"href\"]\n",
    "\n",
    "data1, data2, data3"
   ]
  },
  {
   "cell_type": "code",
   "execution_count": 148,
   "metadata": {},
   "outputs": [
    {
     "data": {
      "text/plain": [
       "'갤럭시워치3팝니다'"
      ]
     },
     "execution_count": 148,
     "metadata": {},
     "output_type": "execute_result"
    }
   ],
   "source": [
    "title = item.find(\"div\", attrs={\"class\":\"item_title\"}).get_text()\n",
    "title"
   ]
  },
  {
   "cell_type": "code",
   "execution_count": 144,
   "metadata": {},
   "outputs": [
    {
     "data": {
      "text/plain": [
       "'300,000원'"
      ]
     },
     "execution_count": 144,
     "metadata": {},
     "output_type": "execute_result"
    }
   ],
   "source": [
    "price = item.find(\"div\", attrs={\"class\":\"item_price\"}).get_text()\n",
    "price"
   ]
  },
  {
   "cell_type": "code",
   "execution_count": 145,
   "metadata": {
    "scrolled": true
   },
   "outputs": [
    {
     "data": {
      "text/plain": [
       "'/item/168859783?viewPath=main_feed&clickPath=home&feedType=ranking&featuredFeedType=RankingItem&escrowType=common&feedPosition=51'"
      ]
     },
     "execution_count": 145,
     "metadata": {},
     "output_type": "execute_result"
    }
   ],
   "source": [
    "link = item.find(\"a\", attrs={\"class\":\"card card_list\"})[\"href\"]\n",
    "link"
   ]
  },
  {
   "cell_type": "code",
   "execution_count": 156,
   "metadata": {},
   "outputs": [
    {
     "ename": "AttributeError",
     "evalue": "'NoneType' object has no attribute 'text'",
     "output_type": "error",
     "traceback": [
      "\u001b[0;31m---------------------------------------------------------------------------\u001b[0m",
      "\u001b[0;31mAttributeError\u001b[0m                            Traceback (most recent call last)",
      "\u001b[0;32m<ipython-input-156-9374fffab877>\u001b[0m in \u001b[0;36m<module>\u001b[0;34m\u001b[0m\n\u001b[1;32m      2\u001b[0m \u001b[0;32mfor\u001b[0m \u001b[0mitem\u001b[0m \u001b[0;32min\u001b[0m \u001b[0mitems\u001b[0m\u001b[0;34m:\u001b[0m\u001b[0;34m\u001b[0m\u001b[0;34m\u001b[0m\u001b[0m\n\u001b[1;32m      3\u001b[0m     datas.append({\n\u001b[0;32m----> 4\u001b[0;31m         \u001b[0;34m\"data1\"\u001b[0m\u001b[0;34m:\u001b[0m \u001b[0mitem\u001b[0m\u001b[0;34m.\u001b[0m\u001b[0mfind\u001b[0m\u001b[0;34m(\u001b[0m\u001b[0;34m\"div\"\u001b[0m\u001b[0;34m,\u001b[0m \u001b[0mattrs\u001b[0m\u001b[0;34m=\u001b[0m\u001b[0;34m{\u001b[0m\u001b[0;34m\"class\"\u001b[0m\u001b[0;34m:\u001b[0m\u001b[0;34m\"item_title\"\u001b[0m\u001b[0;34m}\u001b[0m\u001b[0;34m)\u001b[0m\u001b[0;34m.\u001b[0m\u001b[0mtext\u001b[0m\u001b[0;34m,\u001b[0m\u001b[0;34m\u001b[0m\u001b[0;34m\u001b[0m\u001b[0m\n\u001b[0m\u001b[1;32m      5\u001b[0m         \u001b[0;34m\"data2\"\u001b[0m\u001b[0;34m:\u001b[0m \u001b[0mitem\u001b[0m\u001b[0;34m.\u001b[0m\u001b[0mfind\u001b[0m\u001b[0;34m(\u001b[0m\u001b[0;34m\"div\"\u001b[0m\u001b[0;34m,\u001b[0m \u001b[0mattrs\u001b[0m\u001b[0;34m=\u001b[0m\u001b[0;34m{\u001b[0m\u001b[0;34m\"class\"\u001b[0m\u001b[0;34m:\u001b[0m\u001b[0;34m\"item_price\"\u001b[0m\u001b[0;34m}\u001b[0m\u001b[0;34m)\u001b[0m\u001b[0;34m.\u001b[0m\u001b[0mtext\u001b[0m\u001b[0;34m,\u001b[0m\u001b[0;34m\u001b[0m\u001b[0;34m\u001b[0m\u001b[0m\n\u001b[1;32m      6\u001b[0m         \u001b[0;34m\"data3\"\u001b[0m\u001b[0;34m:\u001b[0m \u001b[0mitem\u001b[0m\u001b[0;34m.\u001b[0m\u001b[0mfind\u001b[0m\u001b[0;34m(\u001b[0m\u001b[0;34m\"a\"\u001b[0m\u001b[0;34m,\u001b[0m \u001b[0mattrs\u001b[0m\u001b[0;34m=\u001b[0m\u001b[0;34m{\u001b[0m\u001b[0;34m\"class\"\u001b[0m\u001b[0;34m:\u001b[0m\u001b[0;34m\"card card_list\"\u001b[0m\u001b[0;34m}\u001b[0m\u001b[0;34m)\u001b[0m\u001b[0;34m[\u001b[0m\u001b[0;34m\"href\"\u001b[0m\u001b[0;34m]\u001b[0m\u001b[0;34m\u001b[0m\u001b[0;34m\u001b[0m\u001b[0m\n",
      "\u001b[0;31mAttributeError\u001b[0m: 'NoneType' object has no attribute 'text'"
     ]
    }
   ],
   "source": [
    "datas = []\n",
    "for item in items:\n",
    "    datas.append({\n",
    "        \"data1\": item.find(\"div\", attrs={\"class\":\"item_title\"}).text,\n",
    "        \"data2\": item.find(\"div\", attrs={\"class\":\"item_price\"}).text,\n",
    "        \"data3\": item.find(\"a\", attrs={\"class\":\"card card_list\"})[\"href\"]\n",
    "        })"
   ]
  },
  {
   "cell_type": "code",
   "execution_count": null,
   "metadata": {},
   "outputs": [],
   "source": []
  },
  {
   "cell_type": "code",
   "execution_count": null,
   "metadata": {},
   "outputs": [],
   "source": []
  },
  {
   "cell_type": "code",
   "execution_count": null,
   "metadata": {},
   "outputs": [],
   "source": []
  },
  {
   "cell_type": "code",
   "execution_count": null,
   "metadata": {},
   "outputs": [],
   "source": []
  },
  {
   "cell_type": "code",
   "execution_count": null,
   "metadata": {},
   "outputs": [],
   "source": []
  },
  {
   "cell_type": "code",
   "execution_count": null,
   "metadata": {},
   "outputs": [],
   "source": [
    "last_height = driver.execute_script(\"return document.body.scrollHeight\")\n",
    "while True:\n",
    "    # Scroll down\n",
    "    driver.execute_script(\"window.scrollTo(0, document.body.scrollHeight);\")\n",
    "    # page loading를 위한 대기 시간\n",
    "    time.sleep(random.uniform(1.5,2)) # Feed를 불러올 수 있도록 램덤 대기\n",
    "    # 기존 height하고 변화가 발생하지 않을시 break\n",
    "    new_height = driver.execute_script(\"return document.body.scrollHeight\")\n",
    "    if new_height == last_height:\n",
    "        break\n",
    "    last_height = new_height"
   ]
  }
 ],
 "metadata": {
  "kernelspec": {
   "display_name": "Python 3",
   "language": "python",
   "name": "python3"
  },
  "language_info": {
   "codemirror_mode": {
    "name": "ipython",
    "version": 3
   },
   "file_extension": ".py",
   "mimetype": "text/x-python",
   "name": "python",
   "nbconvert_exporter": "python",
   "pygments_lexer": "ipython3",
   "version": "3.6.9"
  }
 },
 "nbformat": 4,
 "nbformat_minor": 4
}
