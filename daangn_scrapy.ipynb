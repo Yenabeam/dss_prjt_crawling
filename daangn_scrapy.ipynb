{
 "cells": [
  {
   "cell_type": "code",
   "execution_count": 1,
   "metadata": {
    "inputHidden": false,
    "outputHidden": false
   },
   "outputs": [],
   "source": [
    "import scrapy\n",
    "import requests\n",
    "from scrapy.http import TextResponse"
   ]
  },
  {
   "cell_type": "code",
   "execution_count": null,
   "metadata": {
    "inputHidden": false,
    "outputHidden": false
   },
   "outputs": [],
   "source": [
    "# 1. Start project"
   ]
  },
  {
   "cell_type": "code",
   "execution_count": 2,
   "metadata": {
    "inputHidden": false,
    "outputHidden": false
   },
   "outputs": [
    {
     "name": "stdout",
     "output_type": "stream",
     "text": [
      "New Scrapy project 'daangn', using template directory '/opt/anaconda3/lib/python3.7/site-packages/scrapy/templates/project', created in:\r\n",
      "    /Users/fofx/dss15/crawling project/daangn\r\n",
      "\r\n",
      "You can start your first spider with:\r\n",
      "    cd daangn\r\n",
      "    scrapy genspider example example.com\r\n"
     ]
    }
   ],
   "source": [
    "!scrapy startproject daangn"
   ]
  },
  {
   "cell_type": "code",
   "execution_count": null,
   "metadata": {
    "inputHidden": false,
    "outputHidden": false
   },
   "outputs": [],
   "source": [
    "# 2. Check xpath\n",
    "# get item link data > get detail info"
   ]
  },
  {
   "cell_type": "code",
   "execution_count": 2,
   "metadata": {
    "inputHidden": false,
    "outputHidden": false
   },
   "outputs": [
    {
     "data": {
      "text/plain": [
       "<Response [200]>"
      ]
     },
     "execution_count": 2,
     "metadata": {},
     "output_type": "execute_result"
    }
   ],
   "source": [
    "# request to get item link\n",
    "query = 'macbook'\n",
    "url = 'https://www.daangn.com/search/{}'.format(query)\n",
    "response = requests.get(url)\n",
    "response"
   ]
  },
  {
   "cell_type": "code",
   "execution_count": 3,
   "metadata": {
    "inputHidden": false,
    "outputHidden": false
   },
   "outputs": [
    {
     "data": {
      "text/plain": [
       "(6, '/articles/150586122')"
      ]
     },
     "execution_count": 3,
     "metadata": {},
     "output_type": "execute_result"
    }
   ],
   "source": [
    "dom = TextResponse(response.url, body=response.text, encoding=\"utf-8\")\n",
    "links = dom.xpath('//*[@id=\"flea-market-wrap\"]/article/a/@href').extract()\n",
    "len(links), links[0]"
   ]
  },
  {
   "cell_type": "code",
   "execution_count": 4,
   "metadata": {
    "inputHidden": false,
    "outputHidden": false
   },
   "outputs": [],
   "source": [
    "# get full url\n",
    "dom.urljoin(links[0])\n",
    "link = dom.urljoin(links[0])"
   ]
  },
  {
   "cell_type": "code",
   "execution_count": 5,
   "metadata": {
    "inputHidden": false,
    "outputHidden": false
   },
   "outputs": [],
   "source": [
    "# request link\n",
    "response = requests.get(link)\n",
    "dom = TextResponse(response.url, body=response.text, encoding=\"utf-8\")"
   ]
  },
  {
   "cell_type": "code",
   "execution_count": 6,
   "metadata": {
    "inputHidden": false,
    "outputHidden": false
   },
   "outputs": [
    {
     "data": {
      "text/plain": [
       "('디지털/가전',\n",
       " '맥북에어 (MacBook Air) 11인치 Mid 2011',\n",
       " '250,000원',\n",
       " '강서구 명지동',\n",
       " '하민캐롯',\n",
       " '- 상품명 : MacBook Air 11인치 Mid 2011- CPU : 1.6 GHz Intel Core i5- RAM : 4GB (DDR3)- SSD : 120GB- 외관상태 : A급 (흠집 없음)- 맥os Sierra ➡️ El Captain (초기화 완료)- 구매 후, 설정 입력해서 사용하면 됨✅- 맥북에어 전용 파우치⭕️+전원어댑터⭕️- 맥북에어 박스❌',\n",
       " '2',\n",
       " '6',\n",
       " '162')"
      ]
     },
     "execution_count": 6,
     "metadata": {},
     "output_type": "execute_result"
    }
   ],
   "source": [
    "# get xpath for each element\n",
    "category = dom.xpath('//*[@id=\"article-category\"]/text()')[0].extract().replace('∙', '').strip()\n",
    "title = dom.xpath('//*[@id=\"article-title\"]/text()')[0].extract().strip()\n",
    "user_id = dom.xpath('//*[@id=\"nickname\"]/text()')[0].extract().strip()\n",
    "region = dom.xpath('//*[@id=\"region-name\"]/text()')[0].extract().strip()\n",
    "counts = dom.xpath('//*[@id=\"article-counts\"]/text()')[0].extract().strip()\n",
    "chat_counts = counts.split('∙')[0].strip().split(' ')[1]\n",
    "watch_counts = counts.split('∙')[1].strip().split(' ')[1]\n",
    "view_counts = counts.split('∙')[2].strip().split(' ')[1]\n",
    "desc = dom.xpath('//*[@id=\"article-detail\"]/p/text()').extract()\n",
    "desc = \"\".join(desc).replace('\\n', '')\n",
    "price = dom.xpath('//*[@id=\"article-price\"]/text()')[0].extract().strip()\n",
    "\n",
    "\n",
    "category, title, price, region, user_id, desc, chat_counts, watch_counts, view_counts"
   ]
  },
  {
   "cell_type": "code",
   "execution_count": null,
   "metadata": {
    "inputHidden": false,
    "outputHidden": false
   },
   "outputs": [],
   "source": [
    "# 3. items.py"
   ]
  },
  {
   "cell_type": "code",
   "execution_count": 65,
   "metadata": {
    "inputHidden": false,
    "outputHidden": false
   },
   "outputs": [],
   "source": [
    "# %load daangn/daangn/items.py"
   ]
  },
  {
   "cell_type": "code",
   "execution_count": 84,
   "metadata": {
    "inputHidden": false,
    "outputHidden": false
   },
   "outputs": [
    {
     "name": "stdout",
     "output_type": "stream",
     "text": [
      "Overwriting daangn/daangn/items.py\n"
     ]
    }
   ],
   "source": [
    "%%writefile daangn/daangn/items.py\n",
    "import scrapy\n",
    "\n",
    "\n",
    "class DaangnItem(scrapy.Item):\n",
    "    category = scrapy.Field() \n",
    "    title = scrapy.Field() \n",
    "    price = scrapy.Field() \n",
    "    region = scrapy.Field() \n",
    "    user_id = scrapy.Field() \n",
    "    desc = scrapy.Field() \n",
    "    chat_counts = scrapy.Field() \n",
    "    watch_counts = scrapy.Field() \n",
    "    view_counts = scrapy.Field()"
   ]
  },
  {
   "cell_type": "code",
   "execution_count": null,
   "metadata": {
    "inputHidden": false,
    "outputHidden": false
   },
   "outputs": [],
   "source": [
    "# 4. spider.py"
   ]
  },
  {
   "cell_type": "code",
   "execution_count": 7,
   "metadata": {
    "inputHidden": false,
    "outputHidden": false
   },
   "outputs": [
    {
     "name": "stdout",
     "output_type": "stream",
     "text": [
      "Overwriting daangn/daangn/spiders/spider.py\n"
     ]
    }
   ],
   "source": [
    "%%writefile daangn/daangn/spiders/spider.py\n",
    "import scrapy\n",
    "from daangn.items import DaangnItem\n",
    "\n",
    "class DaangnSpider(scrapy.Spider):\n",
    "    name = \"Daangn\"\n",
    "    allow_domain = [\"daangn.com\"]\n",
    "    start_urls = [\"https://www.daangn.com/search/macbook\"]\n",
    "    \n",
    "    def parse(self, response):\n",
    "        links = dom.xpath('//*[@id=\"flea-market-wrap\"]/article/a/@href').extract()\n",
    "        links = dom.urljoin(links)\n",
    "        for link in links:\n",
    "            yield scrapy.Request(link, callback=self.parse_content)\n",
    "            \n",
    "    def parse_content(self, response):\n",
    "        item = DaangnItem()\n",
    "        item['category'] = dom.xpath('//*[@id=\"article-category\"]/text()')[0].extract().replace('∙', '').strip()\n",
    "        item['title'] = dom.xpath('//*[@id=\"article-title\"]/text()')[0].extract().strip()\n",
    "        item['price'] = dom.xpath('//*[@id=\"article-price\"]/text()')[0].extract().strip()\n",
    "        desc = dom.xpath('//*[@id=\"article-detail\"]/p/text()').extract()\n",
    "        item['desc'] = \"\".join(desc).replace('\\n', '')\n",
    "        item['user_id'] = dom.xpath('//*[@id=\"nickname\"]/text()')[0].extract().strip()\n",
    "        item['region'] = dom.xpath('//*[@id=\"region-name\"]/text()')[0].extract().strip()\n",
    "        counts = dom.xpath('//*[@id=\"article-counts\"]/text()')[0].extract().strip()\n",
    "        item['chat_counts'] = counts.split('∙')[0].strip().split(' ')[1]\n",
    "        item['watch_counts'] = counts.split('∙')[1].strip().split(' ')[1]\n",
    "        item['view_counts'] = counts.split('∙')[2].strip().split(' ')[1]\n",
    "       \n",
    "        yield item"
   ]
  },
  {
   "cell_type": "code",
   "execution_count": 86,
   "metadata": {
    "inputHidden": false,
    "outputHidden": false
   },
   "outputs": [
    {
     "name": "stdout",
     "output_type": "stream",
     "text": [
      "\u001b[01;34mdaangn/\u001b[00m\r\n",
      "├── \u001b[01;34mdaangn\u001b[00m\r\n",
      "│   ├── __init__.py\r\n",
      "│   ├── \u001b[01;34m__pycache__\u001b[00m\r\n",
      "│   │   ├── __init__.cpython-37.pyc\r\n",
      "│   │   ├── items.cpython-37.pyc\r\n",
      "│   │   └── settings.cpython-37.pyc\r\n",
      "│   ├── items.py\r\n",
      "│   ├── middlewares.py\r\n",
      "│   ├── pipelines.py\r\n",
      "│   ├── settings.py\r\n",
      "│   └── \u001b[01;34mspiders\u001b[00m\r\n",
      "│       ├── __init__.py\r\n",
      "│       ├── \u001b[01;34m__pycache__\u001b[00m\r\n",
      "│       │   ├── __init__.cpython-37.pyc\r\n",
      "│       │   └── spider.cpython-37.pyc\r\n",
      "│       └── spider.py\r\n",
      "├── items.csv\r\n",
      "└── scrapy.cfg\r\n",
      "\r\n",
      "4 directories, 14 files\r\n"
     ]
    }
   ],
   "source": [
    "!tree daangn/"
   ]
  },
  {
   "cell_type": "code",
   "execution_count": 8,
   "metadata": {
    "inputHidden": false,
    "outputHidden": false
   },
   "outputs": [
    {
     "name": "stdout",
     "output_type": "stream",
     "text": [
      "Overwriting run.sh\n"
     ]
    }
   ],
   "source": [
    "%%writefile run.sh\n",
    "cd daangn\n",
    "rm items.csv\n",
    "scrapy crawl Daangn -o items.csv"
   ]
  },
  {
   "cell_type": "code",
   "execution_count": 9,
   "metadata": {
    "inputHidden": false,
    "outputHidden": false
   },
   "outputs": [
    {
     "name": "stdout",
     "output_type": "stream",
     "text": [
      "2020-11-17 23:41:28 [scrapy.utils.log] INFO: Scrapy 2.4.0 started (bot: daangn)\n",
      "2020-11-17 23:41:28 [scrapy.utils.log] INFO: Versions: lxml 4.5.0.0, libxml2 2.9.9, cssselect 1.1.0, parsel 1.6.0, w3lib 1.22.0, Twisted 20.3.0, Python 3.7.6 (default, Jan  8 2020, 13:42:34) - [Clang 4.0.1 (tags/RELEASE_401/final)], pyOpenSSL 19.1.0 (OpenSSL 1.1.1d  10 Sep 2019), cryptography 2.8, Platform Darwin-19.6.0-x86_64-i386-64bit\n",
      "2020-11-17 23:41:28 [scrapy.utils.log] DEBUG: Using reactor: twisted.internet.selectreactor.SelectReactor\n",
      "2020-11-17 23:41:28 [scrapy.crawler] INFO: Overridden settings:\n",
      "{'BOT_NAME': 'daangn',\n",
      " 'NEWSPIDER_MODULE': 'daangn.spiders',\n",
      " 'ROBOTSTXT_OBEY': True,\n",
      " 'SPIDER_MODULES': ['daangn.spiders']}\n",
      "2020-11-17 23:41:28 [scrapy.extensions.telnet] INFO: Telnet Password: 6d11c8c9035e5ff7\n",
      "2020-11-17 23:41:28 [scrapy.middleware] INFO: Enabled extensions:\n",
      "['scrapy.extensions.corestats.CoreStats',\n",
      " 'scrapy.extensions.telnet.TelnetConsole',\n",
      " 'scrapy.extensions.memusage.MemoryUsage',\n",
      " 'scrapy.extensions.feedexport.FeedExporter',\n",
      " 'scrapy.extensions.logstats.LogStats']\n",
      "2020-11-17 23:41:29 [scrapy.middleware] INFO: Enabled downloader middlewares:\n",
      "['scrapy.downloadermiddlewares.robotstxt.RobotsTxtMiddleware',\n",
      " 'scrapy.downloadermiddlewares.httpauth.HttpAuthMiddleware',\n",
      " 'scrapy.downloadermiddlewares.downloadtimeout.DownloadTimeoutMiddleware',\n",
      " 'scrapy.downloadermiddlewares.defaultheaders.DefaultHeadersMiddleware',\n",
      " 'scrapy.downloadermiddlewares.useragent.UserAgentMiddleware',\n",
      " 'scrapy.downloadermiddlewares.retry.RetryMiddleware',\n",
      " 'scrapy.downloadermiddlewares.redirect.MetaRefreshMiddleware',\n",
      " 'scrapy.downloadermiddlewares.httpcompression.HttpCompressionMiddleware',\n",
      " 'scrapy.downloadermiddlewares.redirect.RedirectMiddleware',\n",
      " 'scrapy.downloadermiddlewares.cookies.CookiesMiddleware',\n",
      " 'scrapy.downloadermiddlewares.httpproxy.HttpProxyMiddleware',\n",
      " 'scrapy.downloadermiddlewares.stats.DownloaderStats']\n",
      "2020-11-17 23:41:29 [scrapy.middleware] INFO: Enabled spider middlewares:\n",
      "['scrapy.spidermiddlewares.httperror.HttpErrorMiddleware',\n",
      " 'scrapy.spidermiddlewares.offsite.OffsiteMiddleware',\n",
      " 'scrapy.spidermiddlewares.referer.RefererMiddleware',\n",
      " 'scrapy.spidermiddlewares.urllength.UrlLengthMiddleware',\n",
      " 'scrapy.spidermiddlewares.depth.DepthMiddleware']\n",
      "2020-11-17 23:41:29 [scrapy.middleware] INFO: Enabled item pipelines:\n",
      "[]\n",
      "2020-11-17 23:41:29 [scrapy.core.engine] INFO: Spider opened\n",
      "2020-11-17 23:41:29 [scrapy.extensions.logstats] INFO: Crawled 0 pages (at 0 pages/min), scraped 0 items (at 0 items/min)\n",
      "2020-11-17 23:41:29 [scrapy.extensions.telnet] INFO: Telnet console listening on 127.0.0.1:6023\n",
      "2020-11-17 23:41:29 [scrapy.core.engine] DEBUG: Crawled (200) <GET https://www.daangn.com/robots.txt> (referer: None)\n",
      "2020-11-17 23:41:29 [scrapy.core.engine] DEBUG: Crawled (200) <GET https://www.daangn.com/search/macbook> (referer: None)\n",
      "2020-11-17 23:41:29 [scrapy.core.scraper] ERROR: Spider error processing <GET https://www.daangn.com/search/macbook> (referer: None)\n",
      "Traceback (most recent call last):\n",
      "  File \"/opt/anaconda3/lib/python3.7/site-packages/scrapy/utils/defer.py\", line 120, in iter_errback\n",
      "    yield next(it)\n",
      "  File \"/opt/anaconda3/lib/python3.7/site-packages/scrapy/utils/python.py\", line 353, in __next__\n",
      "    return next(self.data)\n",
      "  File \"/opt/anaconda3/lib/python3.7/site-packages/scrapy/utils/python.py\", line 353, in __next__\n",
      "    return next(self.data)\n",
      "  File \"/opt/anaconda3/lib/python3.7/site-packages/scrapy/core/spidermw.py\", line 62, in _evaluate_iterable\n",
      "    for r in iterable:\n",
      "  File \"/opt/anaconda3/lib/python3.7/site-packages/scrapy/spidermiddlewares/offsite.py\", line 29, in process_spider_output\n",
      "    for x in result:\n",
      "  File \"/opt/anaconda3/lib/python3.7/site-packages/scrapy/core/spidermw.py\", line 62, in _evaluate_iterable\n",
      "    for r in iterable:\n",
      "  File \"/opt/anaconda3/lib/python3.7/site-packages/scrapy/spidermiddlewares/referer.py\", line 340, in <genexpr>\n",
      "    return (_set_referer(r) for r in result or ())\n",
      "  File \"/opt/anaconda3/lib/python3.7/site-packages/scrapy/core/spidermw.py\", line 62, in _evaluate_iterable\n",
      "    for r in iterable:\n",
      "  File \"/opt/anaconda3/lib/python3.7/site-packages/scrapy/spidermiddlewares/urllength.py\", line 37, in <genexpr>\n",
      "    return (r for r in result or () if _filter(r))\n",
      "  File \"/opt/anaconda3/lib/python3.7/site-packages/scrapy/core/spidermw.py\", line 62, in _evaluate_iterable\n",
      "    for r in iterable:\n",
      "  File \"/opt/anaconda3/lib/python3.7/site-packages/scrapy/spidermiddlewares/depth.py\", line 58, in <genexpr>\n",
      "    return (r for r in result or () if _filter(r))\n",
      "  File \"/opt/anaconda3/lib/python3.7/site-packages/scrapy/core/spidermw.py\", line 62, in _evaluate_iterable\n",
      "    for r in iterable:\n",
      "  File \"/Users/fofx/dss15/crawling project/daangn/daangn/spiders/spider.py\", line 10, in parse\n",
      "    links = dom.xpath('//*[@id=\"flea-market-wrap\"]/article/a/@href').extract()\n",
      "NameError: name 'dom' is not defined\n",
      "2020-11-17 23:41:29 [scrapy.core.engine] INFO: Closing spider (finished)\n",
      "2020-11-17 23:41:29 [scrapy.statscollectors] INFO: Dumping Scrapy stats:\n",
      "{'downloader/request_bytes': 452,\n",
      " 'downloader/request_count': 2,\n",
      " 'downloader/request_method_count/GET': 2,\n",
      " 'downloader/response_bytes': 11744,\n",
      " 'downloader/response_count': 2,\n",
      " 'downloader/response_status_count/200': 2,\n",
      " 'elapsed_time_seconds': 0.368197,\n",
      " 'finish_reason': 'finished',\n",
      " 'finish_time': datetime.datetime(2020, 11, 17, 14, 41, 29, 442561),\n",
      " 'log_count/DEBUG': 2,\n",
      " 'log_count/ERROR': 1,\n",
      " 'log_count/INFO': 10,\n",
      " 'memusage/max': 51310592,\n",
      " 'memusage/startup': 51310592,\n",
      " 'response_received_count': 2,\n",
      " 'robotstxt/request_count': 1,\n",
      " 'robotstxt/response_count': 1,\n",
      " 'robotstxt/response_status_count/200': 1,\n",
      " 'scheduler/dequeued': 1,\n",
      " 'scheduler/dequeued/memory': 1,\n",
      " 'scheduler/enqueued': 1,\n",
      " 'scheduler/enqueued/memory': 1,\n",
      " 'spider_exceptions/NameError': 1,\n",
      " 'start_time': datetime.datetime(2020, 11, 17, 14, 41, 29, 74364)}\n",
      "2020-11-17 23:41:29 [scrapy.core.engine] INFO: Spider closed (finished)\n"
     ]
    }
   ],
   "source": [
    "!/bin/bash run.sh"
   ]
  },
  {
   "cell_type": "code",
   "execution_count": 87,
   "metadata": {
    "inputHidden": false,
    "outputHidden": false
   },
   "outputs": [],
   "source": [
    "import pandas as pd"
   ]
  },
  {
   "cell_type": "code",
   "execution_count": 88,
   "metadata": {
    "inputHidden": false,
    "outputHidden": false
   },
   "outputs": [
    {
     "ename": "EmptyDataError",
     "evalue": "No columns to parse from file",
     "output_type": "error",
     "traceback": [
      "\u001b[0;31m---------------------------------------------------------------------------\u001b[0m",
      "\u001b[0;31mEmptyDataError\u001b[0m                            Traceback (most recent call last)",
      "\u001b[0;32m<ipython-input-88-08a3c1c5d490>\u001b[0m in \u001b[0;36m<module>\u001b[0;34m\u001b[0m\n\u001b[0;32m----> 1\u001b[0;31m \u001b[0mdf\u001b[0m \u001b[0;34m=\u001b[0m \u001b[0mpd\u001b[0m\u001b[0;34m.\u001b[0m\u001b[0mread_csv\u001b[0m\u001b[0;34m(\u001b[0m\u001b[0;34m\"daangn/items.csv\"\u001b[0m\u001b[0;34m)\u001b[0m\u001b[0;34m\u001b[0m\u001b[0;34m\u001b[0m\u001b[0m\n\u001b[0m",
      "\u001b[0;32m/opt/anaconda3/lib/python3.7/site-packages/pandas/io/parsers.py\u001b[0m in \u001b[0;36mparser_f\u001b[0;34m(filepath_or_buffer, sep, delimiter, header, names, index_col, usecols, squeeze, prefix, mangle_dupe_cols, dtype, engine, converters, true_values, false_values, skipinitialspace, skiprows, skipfooter, nrows, na_values, keep_default_na, na_filter, verbose, skip_blank_lines, parse_dates, infer_datetime_format, keep_date_col, date_parser, dayfirst, cache_dates, iterator, chunksize, compression, thousands, decimal, lineterminator, quotechar, quoting, doublequote, escapechar, comment, encoding, dialect, error_bad_lines, warn_bad_lines, delim_whitespace, low_memory, memory_map, float_precision)\u001b[0m\n\u001b[1;32m    674\u001b[0m         )\n\u001b[1;32m    675\u001b[0m \u001b[0;34m\u001b[0m\u001b[0m\n\u001b[0;32m--> 676\u001b[0;31m         \u001b[0;32mreturn\u001b[0m \u001b[0m_read\u001b[0m\u001b[0;34m(\u001b[0m\u001b[0mfilepath_or_buffer\u001b[0m\u001b[0;34m,\u001b[0m \u001b[0mkwds\u001b[0m\u001b[0;34m)\u001b[0m\u001b[0;34m\u001b[0m\u001b[0;34m\u001b[0m\u001b[0m\n\u001b[0m\u001b[1;32m    677\u001b[0m \u001b[0;34m\u001b[0m\u001b[0m\n\u001b[1;32m    678\u001b[0m     \u001b[0mparser_f\u001b[0m\u001b[0;34m.\u001b[0m\u001b[0m__name__\u001b[0m \u001b[0;34m=\u001b[0m \u001b[0mname\u001b[0m\u001b[0;34m\u001b[0m\u001b[0;34m\u001b[0m\u001b[0m\n",
      "\u001b[0;32m/opt/anaconda3/lib/python3.7/site-packages/pandas/io/parsers.py\u001b[0m in \u001b[0;36m_read\u001b[0;34m(filepath_or_buffer, kwds)\u001b[0m\n\u001b[1;32m    446\u001b[0m \u001b[0;34m\u001b[0m\u001b[0m\n\u001b[1;32m    447\u001b[0m     \u001b[0;31m# Create the parser.\u001b[0m\u001b[0;34m\u001b[0m\u001b[0;34m\u001b[0m\u001b[0;34m\u001b[0m\u001b[0m\n\u001b[0;32m--> 448\u001b[0;31m     \u001b[0mparser\u001b[0m \u001b[0;34m=\u001b[0m \u001b[0mTextFileReader\u001b[0m\u001b[0;34m(\u001b[0m\u001b[0mfp_or_buf\u001b[0m\u001b[0;34m,\u001b[0m \u001b[0;34m**\u001b[0m\u001b[0mkwds\u001b[0m\u001b[0;34m)\u001b[0m\u001b[0;34m\u001b[0m\u001b[0;34m\u001b[0m\u001b[0m\n\u001b[0m\u001b[1;32m    449\u001b[0m \u001b[0;34m\u001b[0m\u001b[0m\n\u001b[1;32m    450\u001b[0m     \u001b[0;32mif\u001b[0m \u001b[0mchunksize\u001b[0m \u001b[0;32mor\u001b[0m \u001b[0miterator\u001b[0m\u001b[0;34m:\u001b[0m\u001b[0;34m\u001b[0m\u001b[0;34m\u001b[0m\u001b[0m\n",
      "\u001b[0;32m/opt/anaconda3/lib/python3.7/site-packages/pandas/io/parsers.py\u001b[0m in \u001b[0;36m__init__\u001b[0;34m(self, f, engine, **kwds)\u001b[0m\n\u001b[1;32m    878\u001b[0m             \u001b[0mself\u001b[0m\u001b[0;34m.\u001b[0m\u001b[0moptions\u001b[0m\u001b[0;34m[\u001b[0m\u001b[0;34m\"has_index_names\"\u001b[0m\u001b[0;34m]\u001b[0m \u001b[0;34m=\u001b[0m \u001b[0mkwds\u001b[0m\u001b[0;34m[\u001b[0m\u001b[0;34m\"has_index_names\"\u001b[0m\u001b[0;34m]\u001b[0m\u001b[0;34m\u001b[0m\u001b[0;34m\u001b[0m\u001b[0m\n\u001b[1;32m    879\u001b[0m \u001b[0;34m\u001b[0m\u001b[0m\n\u001b[0;32m--> 880\u001b[0;31m         \u001b[0mself\u001b[0m\u001b[0;34m.\u001b[0m\u001b[0m_make_engine\u001b[0m\u001b[0;34m(\u001b[0m\u001b[0mself\u001b[0m\u001b[0;34m.\u001b[0m\u001b[0mengine\u001b[0m\u001b[0;34m)\u001b[0m\u001b[0;34m\u001b[0m\u001b[0;34m\u001b[0m\u001b[0m\n\u001b[0m\u001b[1;32m    881\u001b[0m \u001b[0;34m\u001b[0m\u001b[0m\n\u001b[1;32m    882\u001b[0m     \u001b[0;32mdef\u001b[0m \u001b[0mclose\u001b[0m\u001b[0;34m(\u001b[0m\u001b[0mself\u001b[0m\u001b[0;34m)\u001b[0m\u001b[0;34m:\u001b[0m\u001b[0;34m\u001b[0m\u001b[0;34m\u001b[0m\u001b[0m\n",
      "\u001b[0;32m/opt/anaconda3/lib/python3.7/site-packages/pandas/io/parsers.py\u001b[0m in \u001b[0;36m_make_engine\u001b[0;34m(self, engine)\u001b[0m\n\u001b[1;32m   1112\u001b[0m     \u001b[0;32mdef\u001b[0m \u001b[0m_make_engine\u001b[0m\u001b[0;34m(\u001b[0m\u001b[0mself\u001b[0m\u001b[0;34m,\u001b[0m \u001b[0mengine\u001b[0m\u001b[0;34m=\u001b[0m\u001b[0;34m\"c\"\u001b[0m\u001b[0;34m)\u001b[0m\u001b[0;34m:\u001b[0m\u001b[0;34m\u001b[0m\u001b[0;34m\u001b[0m\u001b[0m\n\u001b[1;32m   1113\u001b[0m         \u001b[0;32mif\u001b[0m \u001b[0mengine\u001b[0m \u001b[0;34m==\u001b[0m \u001b[0;34m\"c\"\u001b[0m\u001b[0;34m:\u001b[0m\u001b[0;34m\u001b[0m\u001b[0;34m\u001b[0m\u001b[0m\n\u001b[0;32m-> 1114\u001b[0;31m             \u001b[0mself\u001b[0m\u001b[0;34m.\u001b[0m\u001b[0m_engine\u001b[0m \u001b[0;34m=\u001b[0m \u001b[0mCParserWrapper\u001b[0m\u001b[0;34m(\u001b[0m\u001b[0mself\u001b[0m\u001b[0;34m.\u001b[0m\u001b[0mf\u001b[0m\u001b[0;34m,\u001b[0m \u001b[0;34m**\u001b[0m\u001b[0mself\u001b[0m\u001b[0;34m.\u001b[0m\u001b[0moptions\u001b[0m\u001b[0;34m)\u001b[0m\u001b[0;34m\u001b[0m\u001b[0;34m\u001b[0m\u001b[0m\n\u001b[0m\u001b[1;32m   1115\u001b[0m         \u001b[0;32melse\u001b[0m\u001b[0;34m:\u001b[0m\u001b[0;34m\u001b[0m\u001b[0;34m\u001b[0m\u001b[0m\n\u001b[1;32m   1116\u001b[0m             \u001b[0;32mif\u001b[0m \u001b[0mengine\u001b[0m \u001b[0;34m==\u001b[0m \u001b[0;34m\"python\"\u001b[0m\u001b[0;34m:\u001b[0m\u001b[0;34m\u001b[0m\u001b[0;34m\u001b[0m\u001b[0m\n",
      "\u001b[0;32m/opt/anaconda3/lib/python3.7/site-packages/pandas/io/parsers.py\u001b[0m in \u001b[0;36m__init__\u001b[0;34m(self, src, **kwds)\u001b[0m\n\u001b[1;32m   1889\u001b[0m         \u001b[0mkwds\u001b[0m\u001b[0;34m[\u001b[0m\u001b[0;34m\"usecols\"\u001b[0m\u001b[0;34m]\u001b[0m \u001b[0;34m=\u001b[0m \u001b[0mself\u001b[0m\u001b[0;34m.\u001b[0m\u001b[0musecols\u001b[0m\u001b[0;34m\u001b[0m\u001b[0;34m\u001b[0m\u001b[0m\n\u001b[1;32m   1890\u001b[0m \u001b[0;34m\u001b[0m\u001b[0m\n\u001b[0;32m-> 1891\u001b[0;31m         \u001b[0mself\u001b[0m\u001b[0;34m.\u001b[0m\u001b[0m_reader\u001b[0m \u001b[0;34m=\u001b[0m \u001b[0mparsers\u001b[0m\u001b[0;34m.\u001b[0m\u001b[0mTextReader\u001b[0m\u001b[0;34m(\u001b[0m\u001b[0msrc\u001b[0m\u001b[0;34m,\u001b[0m \u001b[0;34m**\u001b[0m\u001b[0mkwds\u001b[0m\u001b[0;34m)\u001b[0m\u001b[0;34m\u001b[0m\u001b[0;34m\u001b[0m\u001b[0m\n\u001b[0m\u001b[1;32m   1892\u001b[0m         \u001b[0mself\u001b[0m\u001b[0;34m.\u001b[0m\u001b[0munnamed_cols\u001b[0m \u001b[0;34m=\u001b[0m \u001b[0mself\u001b[0m\u001b[0;34m.\u001b[0m\u001b[0m_reader\u001b[0m\u001b[0;34m.\u001b[0m\u001b[0munnamed_cols\u001b[0m\u001b[0;34m\u001b[0m\u001b[0;34m\u001b[0m\u001b[0m\n\u001b[1;32m   1893\u001b[0m \u001b[0;34m\u001b[0m\u001b[0m\n",
      "\u001b[0;32mpandas/_libs/parsers.pyx\u001b[0m in \u001b[0;36mpandas._libs.parsers.TextReader.__cinit__\u001b[0;34m()\u001b[0m\n",
      "\u001b[0;31mEmptyDataError\u001b[0m: No columns to parse from file"
     ]
    }
   ],
   "source": [
    "# df = pd.read_csv(\"daangn/items.csv\")"
   ]
  },
  {
   "cell_type": "code",
   "execution_count": null,
   "metadata": {
    "inputHidden": false,
    "outputHidden": false
   },
   "outputs": [],
   "source": []
  }
 ],
 "metadata": {
  "kernel_info": {
   "name": "python3"
  },
  "kernelspec": {
   "display_name": "Python 3",
   "language": "python",
   "name": "python3"
  },
  "language_info": {
   "codemirror_mode": {
    "name": "ipython",
    "version": 3
   },
   "file_extension": ".py",
   "mimetype": "text/x-python",
   "name": "python",
   "nbconvert_exporter": "python",
   "pygments_lexer": "ipython3",
   "version": "3.7.6"
  },
  "nteract": {
   "version": "0.12.3"
  }
 },
 "nbformat": 4,
 "nbformat_minor": 4
}
