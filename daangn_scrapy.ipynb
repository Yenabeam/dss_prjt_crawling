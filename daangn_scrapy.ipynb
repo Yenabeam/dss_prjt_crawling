{
 "cells": [
  {
   "cell_type": "code",
   "execution_count": 1,
   "metadata": {
    "inputHidden": false,
    "outputHidden": false
   },
   "outputs": [],
   "source": [
    "import scrapy\n",
    "import requests\n",
    "from scrapy.http import TextResponse"
   ]
  },
  {
   "cell_type": "code",
   "execution_count": 2,
   "metadata": {
    "inputHidden": false,
    "outputHidden": false
   },
   "outputs": [],
   "source": [
    "# 1. Start project"
   ]
  },
  {
   "cell_type": "code",
   "execution_count": 3,
   "metadata": {
    "inputHidden": false,
    "outputHidden": false,
    "scrolled": true
   },
   "outputs": [
    {
     "name": "stdout",
     "output_type": "stream",
     "text": [
      "New Scrapy project 'daangn', using template directory '/Users/codefreak/opt/anaconda3/lib/python3.8/site-packages/scrapy/templates/project', created in:\r\n",
      "    /Users/codefreak/code/02. python 강의/06_scrapy/daangn\r\n",
      "\r\n",
      "You can start your first spider with:\r\n",
      "    cd daangn\r\n",
      "    scrapy genspider example example.com\r\n"
     ]
    }
   ],
   "source": [
    "!scrapy startproject daangn"
   ]
  },
  {
   "cell_type": "code",
   "execution_count": 10,
   "metadata": {
    "inputHidden": false,
    "outputHidden": false
   },
   "outputs": [],
   "source": [
    "# 3. items.py"
   ]
  },
  {
   "cell_type": "code",
   "execution_count": 11,
   "metadata": {
    "inputHidden": false,
    "outputHidden": false
   },
   "outputs": [],
   "source": [
    "# %load daangn/daangn/items.py"
   ]
  },
  {
   "cell_type": "code",
   "execution_count": 12,
   "metadata": {
    "inputHidden": false,
    "outputHidden": false
   },
   "outputs": [
    {
     "name": "stdout",
     "output_type": "stream",
     "text": [
      "Overwriting daangn/daangn/items.py\n"
     ]
    }
   ],
   "source": [
    "%%writefile daangn/daangn/items.py\n",
    "import scrapy\n",
    "\n",
    "\n",
    "class DaangnItem(scrapy.Item):\n",
    "    category = scrapy.Field() \n",
    "    title = scrapy.Field() \n",
    "    price = scrapy.Field() \n",
    "    region = scrapy.Field() \n",
    "    user_id = scrapy.Field() \n",
    "    desc = scrapy.Field() \n",
    "    chat_counts = scrapy.Field() \n",
    "    watch_counts = scrapy.Field() \n",
    "    view_counts = scrapy.Field()"
   ]
  },
  {
   "cell_type": "code",
   "execution_count": 13,
   "metadata": {
    "inputHidden": false,
    "outputHidden": false
   },
   "outputs": [],
   "source": [
    "# 4. spider.py"
   ]
  },
  {
   "cell_type": "code",
   "execution_count": 8,
   "metadata": {
    "inputHidden": false,
    "outputHidden": false
   },
   "outputs": [
    {
     "name": "stdout",
     "output_type": "stream",
     "text": [
      "Overwriting daangn/daangn/spiders/spider.py\n"
     ]
    }
   ],
   "source": [
    "%%writefile daangn/daangn/spiders/spider.py\n",
    "import scrapy\n",
    "from daangn.items import DaangnItem\n",
    "\n",
    "class DaangnSpider(scrapy.Spider):\n",
    "    name = \"Daangn\"\n",
    "    custom_settings = {\n",
    "        'DOWNLOADER_MIDDLEWARES': {\n",
    "            'scrapy.downloadermiddlewares.useragent.UserAgentMiddleware': None,\n",
    "            'scrapy_fake_useragent.middleware.RandomUserAgentMiddleware': 400,\n",
    "        }\n",
    "    }\n",
    "\n",
    "    \n",
    "    \n",
    "    def start_requests(self):\n",
    "        url = \"https://www.daangn.com/search/macbook\"\n",
    "        yield scrapy.Request(url, callback=self.parse)\n",
    "        \n",
    "    def parse(self, response):\n",
    "        links = response.xpath('//*[@id=\"flea-market-wrap\"]/article/a/@href').extract()\n",
    "        links =  list(map(response.urljoin, links))\n",
    "        for link in links:\n",
    "            yield scrapy.Request(link, callback=self.parse_content)\n",
    "            \n",
    "    def parse_content(self, response):\n",
    "        item = DaangnItem()\n",
    "        item['category'] = response.xpath('//*[@id=\"article-category\"]/text()')[0].extract().replace('∙', '').strip()\n",
    "        item['title'] = response.xpath('//*[@id=\"article-title\"]/text()')[0].extract().strip()\n",
    "        item['price'] = response.xpath('//*[@id=\"article-price\"]/text()')[0].extract().strip()\n",
    "        desc = response.xpath('//*[@id=\"article-detail\"]/p/text()').extract()\n",
    "        item['desc'] = \"\".join(desc).replace('\\n', '')\n",
    "        item['user_id'] = response.xpath('//*[@id=\"nickname\"]/text()')[0].extract().strip()\n",
    "        item['region'] = response.xpath('//*[@id=\"region-name\"]/text()')[0].extract().strip()\n",
    "        counts = response.xpath('//*[@id=\"article-counts\"]/text()')[0].extract().strip()\n",
    "        item['chat_counts'] = counts.split('∙')[0].strip().split(' ')[1]\n",
    "        item['watch_counts'] = counts.split('∙')[1].strip().split(' ')[1]\n",
    "        item['view_counts'] = counts.split('∙')[2].strip().split(' ')[1]\n",
    "       \n",
    "        yield item"
   ]
  },
  {
   "cell_type": "code",
   "execution_count": 9,
   "metadata": {
    "inputHidden": false,
    "outputHidden": false
   },
   "outputs": [
    {
     "name": "stdout",
     "output_type": "stream",
     "text": [
      "\u001b[01;34mdaangn/\u001b[00m\r\n",
      "├── \u001b[01;34mdaangn\u001b[00m\r\n",
      "│   ├── __init__.py\r\n",
      "│   ├── \u001b[01;34m__pycache__\u001b[00m\r\n",
      "│   │   ├── __init__.cpython-38.pyc\r\n",
      "│   │   ├── items.cpython-38.pyc\r\n",
      "│   │   └── settings.cpython-38.pyc\r\n",
      "│   ├── items.py\r\n",
      "│   ├── middlewares.py\r\n",
      "│   ├── pipelines.py\r\n",
      "│   ├── settings.py\r\n",
      "│   └── \u001b[01;34mspiders\u001b[00m\r\n",
      "│       ├── __init__.py\r\n",
      "│       ├── \u001b[01;34m__pycache__\u001b[00m\r\n",
      "│       │   ├── __init__.cpython-38.pyc\r\n",
      "│       │   └── spider.cpython-38.pyc\r\n",
      "│       └── spider.py\r\n",
      "├── items.csv\r\n",
      "└── scrapy.cfg\r\n",
      "\r\n",
      "4 directories, 14 files\r\n"
     ]
    }
   ],
   "source": [
    "!tree daangn/"
   ]
  },
  {
   "cell_type": "code",
   "execution_count": 10,
   "metadata": {
    "inputHidden": false,
    "outputHidden": false
   },
   "outputs": [
    {
     "name": "stdout",
     "output_type": "stream",
     "text": [
      "Overwriting run.sh\n"
     ]
    }
   ],
   "source": [
    "%%writefile run.sh\n",
    "cd daangn\n",
    "rm items.csv\n",
    "scrapy crawl Daangn -o items.csv"
   ]
  },
  {
   "cell_type": "code",
   "execution_count": 11,
   "metadata": {
    "inputHidden": false,
    "outputHidden": false
   },
   "outputs": [
    {
     "name": "stdout",
     "output_type": "stream",
     "text": [
      "2020-11-18 10:52:59 [scrapy.utils.log] INFO: Scrapy 2.4.0 started (bot: daangn)\n",
      "2020-11-18 10:52:59 [scrapy.utils.log] INFO: Versions: lxml 4.5.2.0, libxml2 2.9.10, cssselect 1.1.0, parsel 1.5.2, w3lib 1.21.0, Twisted 20.3.0, Python 3.8.3 (default, Jul  2 2020, 11:26:31) - [Clang 10.0.0 ], pyOpenSSL 19.1.0 (OpenSSL 1.1.1g  21 Apr 2020), cryptography 2.9.2, Platform macOS-10.15.7-x86_64-i386-64bit\n",
      "2020-11-18 10:52:59 [scrapy.utils.log] DEBUG: Using reactor: twisted.internet.selectreactor.SelectReactor\n",
      "2020-11-18 10:52:59 [scrapy.crawler] INFO: Overridden settings:\n",
      "{'BOT_NAME': 'daangn',\n",
      " 'NEWSPIDER_MODULE': 'daangn.spiders',\n",
      " 'ROBOTSTXT_OBEY': True,\n",
      " 'SPIDER_MODULES': ['daangn.spiders']}\n",
      "2020-11-18 10:52:59 [scrapy.extensions.telnet] INFO: Telnet Password: b163bf67ebbb93a1\n",
      "2020-11-18 10:52:59 [scrapy.middleware] INFO: Enabled extensions:\n",
      "['scrapy.extensions.corestats.CoreStats',\n",
      " 'scrapy.extensions.telnet.TelnetConsole',\n",
      " 'scrapy.extensions.memusage.MemoryUsage',\n",
      " 'scrapy.extensions.feedexport.FeedExporter',\n",
      " 'scrapy.extensions.logstats.LogStats']\n",
      "2020-11-18 10:52:59 [faker.factory] DEBUG: Not in REPL -> leaving logger event level as is.\n",
      "2020-11-18 10:52:59 [scrapy_fake_useragent.middleware] DEBUG: Loaded User-Agent provider: scrapy_fake_useragent.providers.FakeUserAgentProvider\n",
      "2020-11-18 10:52:59 [scrapy_fake_useragent.middleware] INFO: Using '<class 'scrapy_fake_useragent.providers.FakeUserAgentProvider'>' as the User-Agent provider\n",
      "2020-11-18 10:52:59 [scrapy.middleware] INFO: Enabled downloader middlewares:\n",
      "['scrapy.downloadermiddlewares.robotstxt.RobotsTxtMiddleware',\n",
      " 'scrapy.downloadermiddlewares.httpauth.HttpAuthMiddleware',\n",
      " 'scrapy.downloadermiddlewares.downloadtimeout.DownloadTimeoutMiddleware',\n",
      " 'scrapy.downloadermiddlewares.defaultheaders.DefaultHeadersMiddleware',\n",
      " 'scrapy_fake_useragent.middleware.RandomUserAgentMiddleware',\n",
      " 'scrapy.downloadermiddlewares.retry.RetryMiddleware',\n",
      " 'scrapy.downloadermiddlewares.redirect.MetaRefreshMiddleware',\n",
      " 'scrapy.downloadermiddlewares.httpcompression.HttpCompressionMiddleware',\n",
      " 'scrapy.downloadermiddlewares.redirect.RedirectMiddleware',\n",
      " 'scrapy.downloadermiddlewares.cookies.CookiesMiddleware',\n",
      " 'scrapy.downloadermiddlewares.httpproxy.HttpProxyMiddleware',\n",
      " 'scrapy.downloadermiddlewares.stats.DownloaderStats']\n",
      "2020-11-18 10:52:59 [scrapy.middleware] INFO: Enabled spider middlewares:\n",
      "['scrapy.spidermiddlewares.httperror.HttpErrorMiddleware',\n",
      " 'scrapy.spidermiddlewares.offsite.OffsiteMiddleware',\n",
      " 'scrapy.spidermiddlewares.referer.RefererMiddleware',\n",
      " 'scrapy.spidermiddlewares.urllength.UrlLengthMiddleware',\n",
      " 'scrapy.spidermiddlewares.depth.DepthMiddleware']\n",
      "2020-11-18 10:52:59 [scrapy.middleware] INFO: Enabled item pipelines:\n",
      "[]\n",
      "2020-11-18 10:52:59 [scrapy.core.engine] INFO: Spider opened\n",
      "2020-11-18 10:52:59 [scrapy.extensions.logstats] INFO: Crawled 0 pages (at 0 pages/min), scraped 0 items (at 0 items/min)\n",
      "2020-11-18 10:52:59 [scrapy.extensions.telnet] INFO: Telnet console listening on 127.0.0.1:6023\n",
      "2020-11-18 10:53:00 [scrapy.core.engine] DEBUG: Crawled (200) <GET https://www.daangn.com/robots.txt> (referer: None)\n",
      "2020-11-18 10:53:00 [scrapy.core.engine] DEBUG: Crawled (200) <GET https://www.daangn.com/search/macbook> (referer: None)\n",
      "2020-11-18 10:53:00 [scrapy.core.engine] DEBUG: Crawled (200) <GET https://www.daangn.com/articles/148762277> (referer: https://www.daangn.com/search/macbook)\n",
      "2020-11-18 10:53:00 [scrapy.core.engine] DEBUG: Crawled (200) <GET https://www.daangn.com/articles/151860597> (referer: https://www.daangn.com/search/macbook)\n",
      "2020-11-18 10:53:00 [scrapy.core.engine] DEBUG: Crawled (200) <GET https://www.daangn.com/articles/148711536> (referer: https://www.daangn.com/search/macbook)\n",
      "2020-11-18 10:53:00 [scrapy.core.scraper] DEBUG: Scraped from <200 https://www.daangn.com/articles/148762277>\n",
      "{'category': '디지털/가전',\n",
      " 'chat_counts': '0',\n",
      " 'desc': '애플 apple new MacBook Retina 레티나 뉴맥북 Early 2015 12인치 판매합니다.많이 사용하지 않아 '\n",
      "         '상태는 아주 양호하구요. OS는 카탈리나 설치 되어 있습니다.요즘 거의 사용하지 않아 분양하고자 합니다.MacBook '\n",
      "         '(Retina, Early 2015) 뉴맥북 레티나 12인치 A1534CPU : 1.1GHz Dual-Core Intel '\n",
      "         'Core M RAM : DDR3 8GB SSD : 256GBVGA : Intel HD 5300전원 사이클 : 95외관 상태 '\n",
      "         ': S급 - 하단 약 찍힘 외 아주 양호색상 : 골드구입 시기 : 2015 년 10월구성품 : 본체 + 어뎁터 + '\n",
      "         '케이블직거래 지역 : 양천향교역 근처',\n",
      " 'price': '500,000원',\n",
      " 'region': '강서구 등촌제3동',\n",
      " 'title': 'MacBook (Retina, Early 2015) 뉴맥북',\n",
      " 'user_id': 'S맨',\n",
      " 'view_counts': '274',\n",
      " 'watch_counts': '6'}\n",
      "2020-11-18 10:53:00 [scrapy.core.engine] DEBUG: Crawled (200) <GET https://www.daangn.com/articles/151739940> (referer: https://www.daangn.com/search/macbook)\n",
      "2020-11-18 10:53:00 [scrapy.core.engine] DEBUG: Crawled (200) <GET https://www.daangn.com/articles/144898806> (referer: https://www.daangn.com/search/macbook)\n",
      "2020-11-18 10:53:00 [scrapy.core.scraper] DEBUG: Scraped from <200 https://www.daangn.com/articles/151860597>\n",
      "{'category': '디지털/가전',\n",
      " 'chat_counts': '0',\n",
      " 'desc': '2015년 맥북프로 13인치 판매 (MacBook Pro, Retina, 13-inch, Early 2015)- 제품 '\n",
      "         '사양: CPU-2.7GHz 듀얼코어i5, RAM-8GB, SSD용량-128GB- 외관 상태: 아주 양호 (기스 찾기 '\n",
      "         '어려움)- 구입 시기: 2015년- 보증기간 및 애플케어: 만료 및 없음.- 배터리 사이클: 4* 구성: 풀박스, 본체 '\n",
      "         '맥북프로, 하드케이스 & 파우치* 교체내용: 2020년 10월 배터리 사설교체* 고려해야할 사항 : 맥북프로레티나 모델 '\n",
      "         '디스플레이 코팅 벗겨짐(스테인게이트)현상이 있습니다. 사진 참고하시면 액정에 디스플레이스가 벗겨짐 현상이 있는데… 화면을 '\n",
      "         '켜면… 사용하는데 문제는 없었습니다. (감가 생각해서 가격 싸게 올립니다.ㅜㅜ)상태 아주 양호하고, 카탈리나 OS 버전 '\n",
      "         '10.15.7주로 넷플릭스, 유튜브 시청, 인터넷 서칭, 포토샵 작업 위주로 사용하였습니다. 최근들어서는 맥북 사용을 잘 '\n",
      "         '안하게 되어 판매합니다. 맥북 입문용으로 사용하면 좋을거 같아요판매 가격은 55만원입니다. 좋은 가격이라고 생각하지만… '\n",
      "         '이유 있는 가격제안은 받아들이겠습니다.거래 방식은 노트북이다보니 직거래가 좋을 것 같습니다. 직거래는 계산역에서 '\n",
      "         '가능합니다. 상세 사진 및 세부내용 확인하시고 구매의사 있으시면 연락주세요',\n",
      " 'price': '550,000원',\n",
      " 'region': '계양구 계산동',\n",
      " 'title': '2015년 맥북프로 13인치 판매 (MacBook Pro, Retina, 13-inch, Early 2015)',\n",
      " 'user_id': 'DOMI',\n",
      " 'view_counts': '19',\n",
      " 'watch_counts': '3'}\n",
      "2020-11-18 10:53:00 [scrapy.core.engine] DEBUG: Crawled (200) <GET https://www.daangn.com/articles/146403990> (referer: https://www.daangn.com/search/macbook)\n",
      "2020-11-18 10:53:00 [scrapy.core.scraper] DEBUG: Scraped from <200 https://www.daangn.com/articles/148711536>\n",
      "{'category': '디지털/가전',\n",
      " 'chat_counts': '9',\n",
      " 'desc': '상태 아주 좋습니다20년 3월 29일 구매했습니다Model No. A1932MacBook Air 13-inchGold '\n",
      "         '13.3 1.6GHz 8GB 256GB',\n",
      " 'price': '800,000원',\n",
      " 'region': '제주시 이도2동',\n",
      " 'title': '맥북 Macbook Air 256GB 8GB',\n",
      " 'user_id': '아야',\n",
      " 'view_counts': '620',\n",
      " 'watch_counts': '13'}\n",
      "2020-11-18 10:53:00 [scrapy.core.scraper] DEBUG: Scraped from <200 https://www.daangn.com/articles/151739940>\n",
      "{'category': '디지털/가전',\n",
      " 'chat_counts': '0',\n",
      " 'desc': '[UAG 맥북 케이스] 맥북 프로( ***-****-**** ) 15인치 케이스가격: 15,000원 (원가 '\n",
      "         '99,000원)거래지역: 사당동,상도동 근처라면 어디든 가능아시다시피 방탄케이스로 유명한 UAG케이스입니다.2년 정도 '\n",
      "         '사용한 모델이니 싸게 급처합니다.기능상 문제는 전혀 없으나 사진과 같이갈라짐이 살짝 있습니다.그러나 벌어지거나 움직이지는 '\n",
      "         '않습니다[이 링크의 제품입니다.]',\n",
      " 'price': '15,000원',\n",
      " 'region': '동작구 사당동',\n",
      " 'title': '[UAG 맥북 케이스] 맥북 프로(2016-2019) 15인치 케이스',\n",
      " 'user_id': '김죄송c',\n",
      " 'view_counts': '36',\n",
      " 'watch_counts': '0'}\n",
      "2020-11-18 10:53:00 [scrapy.core.scraper] DEBUG: Scraped from <200 https://www.daangn.com/articles/144898806>\n",
      "{'category': '디지털/가전',\n",
      " 'chat_counts': '3',\n",
      " 'desc': '맥북 에어 13인치 2011mid i7 256gb 판매합니다.램은 4기가 입니다. 사진에 나온 파우치 HDMI 어뎁터 '\n",
      "         '맥세이프 충전기 포함입니다.  배터리사이클은 131로 양호합니다. 다만 액정 코팅은 좀 벗겨진 상태입니다. 실제 사용때는 '\n",
      "         '느끼기 힘들지만 전원끄면 형광등 아래서 잘 보입니다. 감안해주세요.포맷 싹해서 깔끔한 상태입니다. 가성비로 맥북사용하실분께 '\n",
      "         '강추입니다.',\n",
      " 'price': '240,000원',\n",
      " 'region': '수원시 영통구 광교1동',\n",
      " 'title': \"가성비로 맥북 체험용 맥북 에어 13' 2011mid i7 256gb 판매합니다.\",\n",
      " 'user_id': '비수비수',\n",
      " 'view_counts': '838',\n",
      " 'watch_counts': '18'}\n",
      "2020-11-18 10:53:00 [scrapy.core.scraper] DEBUG: Scraped from <200 https://www.daangn.com/articles/146403990>\n",
      "{'category': '디지털/가전',\n",
      " 'chat_counts': '3',\n",
      " 'desc': '맥북프로 레티나 13인치 입니다액정은 기본 필름입니다.하단 배면부 생활기스 있습니다사용하던 정품 아답터 충전기 '\n",
      "         '있습니다사무실과 집에서만 사용했습니다.구성품 맥북프로본체+아답터 입니다필요하시면 사용하던 파우치도 함께 드립니다.직거래 '\n",
      "         '원합니다.',\n",
      " 'price': '500,000원',\n",
      " 'region': '금천구 가산동',\n",
      " 'title': '애플 맥북 프로 레티나 MacBook Pro A1502 13인치 판매',\n",
      " 'user_id': '네오',\n",
      " 'view_counts': '517',\n",
      " 'watch_counts': '6'}\n",
      "2020-11-18 10:53:00 [scrapy.core.engine] INFO: Closing spider (finished)\n",
      "2020-11-18 10:53:00 [scrapy.extensions.feedexport] INFO: Stored csv feed (6 items) in: items.csv\n",
      "2020-11-18 10:53:00 [scrapy.statscollectors] INFO: Dumping Scrapy stats:\n",
      "{'downloader/request_bytes': 4582,\n",
      " 'downloader/request_count': 8,\n",
      " 'downloader/request_method_count/GET': 8,\n",
      " 'downloader/response_bytes': 63284,\n",
      " 'downloader/response_count': 8,\n",
      " 'downloader/response_status_count/200': 8,\n",
      " 'elapsed_time_seconds': 1.036871,\n",
      " 'finish_reason': 'finished',\n",
      " 'finish_time': datetime.datetime(2020, 11, 18, 1, 53, 0, 951675),\n",
      " 'item_scraped_count': 6,\n",
      " 'log_count/DEBUG': 16,\n",
      " 'log_count/INFO': 12,\n",
      " 'memusage/max': 58105856,\n",
      " 'memusage/startup': 58105856,\n",
      " 'request_depth_max': 1,\n",
      " 'response_received_count': 8,\n",
      " 'robotstxt/request_count': 1,\n",
      " 'robotstxt/response_count': 1,\n",
      " 'robotstxt/response_status_count/200': 1,\n",
      " 'scheduler/dequeued': 7,\n",
      " 'scheduler/dequeued/memory': 7,\n",
      " 'scheduler/enqueued': 7,\n",
      " 'scheduler/enqueued/memory': 7,\n",
      " 'start_time': datetime.datetime(2020, 11, 18, 1, 52, 59, 914804)}\n",
      "2020-11-18 10:53:00 [scrapy.core.engine] INFO: Spider closed (finished)\n"
     ]
    }
   ],
   "source": [
    "!/bin/bash run.sh"
   ]
  },
  {
   "cell_type": "code",
   "execution_count": 12,
   "metadata": {
    "inputHidden": false,
    "outputHidden": false
   },
   "outputs": [],
   "source": [
    "import pandas as pd"
   ]
  },
  {
   "cell_type": "code",
   "execution_count": 13,
   "metadata": {
    "inputHidden": false,
    "outputHidden": false
   },
   "outputs": [],
   "source": [
    "df = pd.read_csv(\"daangn/items.csv\")"
   ]
  },
  {
   "cell_type": "code",
   "execution_count": 14,
   "metadata": {
    "inputHidden": false,
    "outputHidden": false
   },
   "outputs": [
    {
     "data": {
      "text/html": [
       "<div>\n",
       "<style scoped>\n",
       "    .dataframe tbody tr th:only-of-type {\n",
       "        vertical-align: middle;\n",
       "    }\n",
       "\n",
       "    .dataframe tbody tr th {\n",
       "        vertical-align: top;\n",
       "    }\n",
       "\n",
       "    .dataframe thead th {\n",
       "        text-align: right;\n",
       "    }\n",
       "</style>\n",
       "<table border=\"1\" class=\"dataframe\">\n",
       "  <thead>\n",
       "    <tr style=\"text-align: right;\">\n",
       "      <th></th>\n",
       "      <th>category</th>\n",
       "      <th>chat_counts</th>\n",
       "      <th>desc</th>\n",
       "      <th>price</th>\n",
       "      <th>region</th>\n",
       "      <th>title</th>\n",
       "      <th>user_id</th>\n",
       "      <th>view_counts</th>\n",
       "      <th>watch_counts</th>\n",
       "    </tr>\n",
       "  </thead>\n",
       "  <tbody>\n",
       "    <tr>\n",
       "      <th>0</th>\n",
       "      <td>디지털/가전</td>\n",
       "      <td>0</td>\n",
       "      <td>애플 apple new MacBook Retina 레티나 뉴맥북 Early 2015...</td>\n",
       "      <td>500,000원</td>\n",
       "      <td>강서구 등촌제3동</td>\n",
       "      <td>MacBook (Retina, Early 2015) 뉴맥북</td>\n",
       "      <td>S맨</td>\n",
       "      <td>274</td>\n",
       "      <td>6</td>\n",
       "    </tr>\n",
       "    <tr>\n",
       "      <th>1</th>\n",
       "      <td>디지털/가전</td>\n",
       "      <td>0</td>\n",
       "      <td>2015년 맥북프로 13인치 판매 (MacBook Pro, Retina, 13-in...</td>\n",
       "      <td>550,000원</td>\n",
       "      <td>계양구 계산동</td>\n",
       "      <td>2015년 맥북프로 13인치 판매 (MacBook Pro, Retina, 13-in...</td>\n",
       "      <td>DOMI</td>\n",
       "      <td>19</td>\n",
       "      <td>3</td>\n",
       "    </tr>\n",
       "    <tr>\n",
       "      <th>2</th>\n",
       "      <td>디지털/가전</td>\n",
       "      <td>9</td>\n",
       "      <td>상태 아주 좋습니다20년 3월 29일 구매했습니다Model No. A1932MacB...</td>\n",
       "      <td>800,000원</td>\n",
       "      <td>제주시 이도2동</td>\n",
       "      <td>맥북 Macbook Air 256GB 8GB</td>\n",
       "      <td>아야</td>\n",
       "      <td>620</td>\n",
       "      <td>13</td>\n",
       "    </tr>\n",
       "    <tr>\n",
       "      <th>3</th>\n",
       "      <td>디지털/가전</td>\n",
       "      <td>0</td>\n",
       "      <td>[UAG 맥북 케이스] 맥북 프로( ***-****-**** ) 15인치 케이스가격...</td>\n",
       "      <td>15,000원</td>\n",
       "      <td>동작구 사당동</td>\n",
       "      <td>[UAG 맥북 케이스] 맥북 프로(2016-2019) 15인치 케이스</td>\n",
       "      <td>김죄송c</td>\n",
       "      <td>36</td>\n",
       "      <td>0</td>\n",
       "    </tr>\n",
       "    <tr>\n",
       "      <th>4</th>\n",
       "      <td>디지털/가전</td>\n",
       "      <td>3</td>\n",
       "      <td>맥북 에어 13인치 2011mid i7 256gb 판매합니다.램은 4기가 입니다. ...</td>\n",
       "      <td>240,000원</td>\n",
       "      <td>수원시 영통구 광교1동</td>\n",
       "      <td>가성비로 맥북 체험용 맥북 에어 13' 2011mid i7 256gb 판매합니다.</td>\n",
       "      <td>비수비수</td>\n",
       "      <td>838</td>\n",
       "      <td>18</td>\n",
       "    </tr>\n",
       "    <tr>\n",
       "      <th>5</th>\n",
       "      <td>디지털/가전</td>\n",
       "      <td>3</td>\n",
       "      <td>맥북프로 레티나 13인치 입니다액정은 기본 필름입니다.하단 배면부 생활기스 있습니다...</td>\n",
       "      <td>500,000원</td>\n",
       "      <td>금천구 가산동</td>\n",
       "      <td>애플 맥북 프로 레티나 MacBook Pro A1502 13인치 판매</td>\n",
       "      <td>네오</td>\n",
       "      <td>517</td>\n",
       "      <td>6</td>\n",
       "    </tr>\n",
       "  </tbody>\n",
       "</table>\n",
       "</div>"
      ],
      "text/plain": [
       "  category  chat_counts                                               desc  \\\n",
       "0   디지털/가전            0  애플 apple new MacBook Retina 레티나 뉴맥북 Early 2015...   \n",
       "1   디지털/가전            0  2015년 맥북프로 13인치 판매 (MacBook Pro, Retina, 13-in...   \n",
       "2   디지털/가전            9  상태 아주 좋습니다20년 3월 29일 구매했습니다Model No. A1932MacB...   \n",
       "3   디지털/가전            0  [UAG 맥북 케이스] 맥북 프로( ***-****-**** ) 15인치 케이스가격...   \n",
       "4   디지털/가전            3  맥북 에어 13인치 2011mid i7 256gb 판매합니다.램은 4기가 입니다. ...   \n",
       "5   디지털/가전            3  맥북프로 레티나 13인치 입니다액정은 기본 필름입니다.하단 배면부 생활기스 있습니다...   \n",
       "\n",
       "      price        region                                              title  \\\n",
       "0  500,000원     강서구 등촌제3동                   MacBook (Retina, Early 2015) 뉴맥북   \n",
       "1  550,000원       계양구 계산동  2015년 맥북프로 13인치 판매 (MacBook Pro, Retina, 13-in...   \n",
       "2  800,000원      제주시 이도2동                           맥북 Macbook Air 256GB 8GB   \n",
       "3   15,000원       동작구 사당동             [UAG 맥북 케이스] 맥북 프로(2016-2019) 15인치 케이스   \n",
       "4  240,000원  수원시 영통구 광교1동      가성비로 맥북 체험용 맥북 에어 13' 2011mid i7 256gb 판매합니다.   \n",
       "5  500,000원       금천구 가산동             애플 맥북 프로 레티나 MacBook Pro A1502 13인치 판매   \n",
       "\n",
       "  user_id  view_counts  watch_counts  \n",
       "0      S맨          274             6  \n",
       "1    DOMI           19             3  \n",
       "2      아야          620            13  \n",
       "3    김죄송c           36             0  \n",
       "4    비수비수          838            18  \n",
       "5      네오          517             6  "
      ]
     },
     "execution_count": 14,
     "metadata": {},
     "output_type": "execute_result"
    }
   ],
   "source": [
    "df"
   ]
  },
  {
   "cell_type": "code",
   "execution_count": null,
   "metadata": {},
   "outputs": [],
   "source": []
  }
 ],
 "metadata": {
  "kernel_info": {
   "name": "python3"
  },
  "kernelspec": {
   "display_name": "Python 3",
   "language": "python",
   "name": "python3"
  },
  "language_info": {
   "codemirror_mode": {
    "name": "ipython",
    "version": 3
   },
   "file_extension": ".py",
   "mimetype": "text/x-python",
   "name": "python",
   "nbconvert_exporter": "python",
   "pygments_lexer": "ipython3",
   "version": "3.8.3"
  },
  "nteract": {
   "version": "0.12.3"
  }
 },
 "nbformat": 4,
 "nbformat_minor": 4
}
