{
 "cells": [
  {
   "cell_type": "code",
   "execution_count": 1,
   "metadata": {},
   "outputs": [],
   "source": [
    "url = 'https://m.joongna.com/search-list/product?searchword=맥북%20프로'"
   ]
  },
  {
   "cell_type": "markdown",
   "metadata": {},
   "source": [
    "#### 01. BeautifulSoup (can't load html code)"
   ]
  },
  {
   "cell_type": "code",
   "execution_count": 4,
   "metadata": {},
   "outputs": [],
   "source": [
    "import requests\n",
    "from bs4 import BeautifulSoup\n",
    "\n",
    "response = requests.get(url)"
   ]
  },
  {
   "cell_type": "markdown",
   "metadata": {},
   "source": [
    "#### 02. scrapy (can't load html code)"
   ]
  },
  {
   "cell_type": "code",
   "execution_count": 5,
   "metadata": {},
   "outputs": [],
   "source": [
    "import scrapy\n",
    "from scrapy.http import TextResponse\n",
    "\n",
    "req = requests.get(url)\n",
    "response = TextResponse(req.url, body=req.text, encoding='utf-8')"
   ]
  },
  {
   "cell_type": "markdown",
   "metadata": {},
   "source": [
    "#### 03. selenium"
   ]
  },
  {
   "cell_type": "code",
   "execution_count": 6,
   "metadata": {},
   "outputs": [],
   "source": [
    "def joongonara():\n",
    "    from selenium import webdriver\n",
    "    from fake_useragent import UserAgent\n",
    "\n",
    "    url = 'https://m.joongna.com/search-list/product?searchword={}%20{}'.format(\"맥북\", \"프로\")\n",
    "    options = webdriver.ChromeOptions()\n",
    "    options.add_argument(\"user-agent={}\".format(UserAgent().chrome))\n",
    "    options.add_argument(\"headless\")\n",
    "    driver = webdriver.Chrome(options=options)\n",
    "    driver.get(url)\n",
    "    links = driver.find_elements_by_css_selector('#root > div.page.pd_t110 > div.pd_b20 > div.SearchList_listWrap__14Cu9.pd_t43 > div > div > a')\n",
    "    df = []\n",
    "\n",
    "    for link in links:\n",
    "        link = link.get_attribute('href')\n",
    "        options = webdriver.ChromeOptions()\n",
    "        options.add_argument(\"headless\")\n",
    "        options.add_argument(\"user-agent={}\".format(UserAgent().chrome))\n",
    "        driver = webdriver.Chrome(options=options)\n",
    "        driver.get(link)\n",
    "        try:\n",
    "            title = driver.find_elements_by_css_selector('.pd20 > p')[0].text\n",
    "        except:\n",
    "            title = None\n",
    "        try:\n",
    "            price = driver.find_elements_by_css_selector('.pd20 strong')[0].text\n",
    "        except:\n",
    "            price = 0\n",
    "        try:\n",
    "            region = driver.find_elements_by_css_selector('button .f15')[0].text\n",
    "        except:\n",
    "            region = None\n",
    "        try:    \n",
    "            view_count = driver.find_elements_by_css_selector('p .c_orange')[0].text\n",
    "        except:\n",
    "            view_count = 0\n",
    "        try:\n",
    "            desc = driver.find_elements_by_css_selector('.ProductDetailComponent_tag__1sc7f.mb8')[0].text\n",
    "        except:\n",
    "            desc = None\n",
    "        df.append({'title' : title, 'price' : price, 'region' : region, 'view_count' : view_count, 'desc' : desc})\n",
    "        driver.quit()\n",
    "    return pd.DataFrame(df)\n"
   ]
  },
  {
   "cell_type": "code",
   "execution_count": 7,
   "metadata": {},
   "outputs": [],
   "source": [
    "joogonara_df = joongonara()"
   ]
  },
  {
   "cell_type": "code",
   "execution_count": 8,
   "metadata": {},
   "outputs": [
    {
     "data": {
      "text/html": [
       "<div>\n",
       "<style scoped>\n",
       "    .dataframe tbody tr th:only-of-type {\n",
       "        vertical-align: middle;\n",
       "    }\n",
       "\n",
       "    .dataframe tbody tr th {\n",
       "        vertical-align: top;\n",
       "    }\n",
       "\n",
       "    .dataframe thead th {\n",
       "        text-align: right;\n",
       "    }\n",
       "</style>\n",
       "<table border=\"1\" class=\"dataframe\">\n",
       "  <thead>\n",
       "    <tr style=\"text-align: right;\">\n",
       "      <th></th>\n",
       "      <th>title</th>\n",
       "      <th>price</th>\n",
       "      <th>region</th>\n",
       "      <th>view_count</th>\n",
       "      <th>desc</th>\n",
       "    </tr>\n",
       "  </thead>\n",
       "  <tbody>\n",
       "    <tr>\n",
       "      <th>38</th>\n",
       "      <td>2019 맥북 프로 13인치 스페이스그레이 256</td>\n",
       "      <td>1,100,000원</td>\n",
       "      <td>None</td>\n",
       "      <td>27</td>\n",
       "      <td>거의새것</td>\n",
       "    </tr>\n",
       "    <tr>\n",
       "      <th>39</th>\n",
       "      <td>None</td>\n",
       "      <td>0</td>\n",
       "      <td>None</td>\n",
       "      <td>0</td>\n",
       "      <td>None</td>\n",
       "    </tr>\n",
       "  </tbody>\n",
       "</table>\n",
       "</div>"
      ],
      "text/plain": [
       "                          title       price region view_count  desc\n",
       "38  2019 맥북 프로 13인치 스페이스그레이 256  1,100,000원   None         27  거의새것\n",
       "39                         None           0   None          0  None"
      ]
     },
     "execution_count": 8,
     "metadata": {},
     "output_type": "execute_result"
    }
   ],
   "source": [
    "joogonara_df.tail(2)"
   ]
  },
  {
   "cell_type": "code",
   "execution_count": null,
   "metadata": {},
   "outputs": [],
   "source": []
  }
 ],
 "metadata": {
  "kernelspec": {
   "display_name": "Python 3",
   "language": "python",
   "name": "python3"
  },
  "language_info": {
   "codemirror_mode": {
    "name": "ipython",
    "version": 3
   },
   "file_extension": ".py",
   "mimetype": "text/x-python",
   "name": "python",
   "nbconvert_exporter": "python",
   "pygments_lexer": "ipython3",
   "version": "3.8.3"
  }
 },
 "nbformat": 4,
 "nbformat_minor": 4
}
